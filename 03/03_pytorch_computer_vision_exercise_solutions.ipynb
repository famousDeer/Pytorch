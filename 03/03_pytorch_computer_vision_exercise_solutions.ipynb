{
  "cells": [
    {
      "cell_type": "markdown",
      "metadata": {
        "colab_type": "text",
        "id": "view-in-github"
      },
      "source": [
        "<a href=\"https://colab.research.google.com/github/mrdbourke/pytorch-deep-learning/blob/main/extras/solutions/03_pytorch_computer_vision_exercise_solutions.ipynb\" target=\"_parent\"><img src=\"https://colab.research.google.com/assets/colab-badge.svg\" alt=\"Open In Colab\"/></a>"
      ]
    },
    {
      "cell_type": "markdown",
      "metadata": {
        "id": "Vex99np2wFVt"
      },
      "source": [
        "# 03. PyTorch Computer Vision Exercise Solutions\n",
        "\n",
        "The following is one possible set (there may be more than one way to do things) of solutions for the 03. PyTorch Computer Vision exercise template.\n",
        "\n",
        "## Resources\n",
        "\n",
        "1. These exercises/solutions are based on [notebook 03 of the Learn PyTorch for Deep Learning course](https://www.learnpytorch.io/03_pytorch_computer_vision/). \n",
        "2. See a live [walkthrough of the solutions (errors and all) on YouTube](https://youtu.be/_PibmqpEyhA). \n",
        "  * **Note:** Going through these exercises took me just over 3 hours, so you should expect around the same.\n",
        "3. See [other solutions on the course GitHub](https://github.com/mrdbourke/pytorch-deep-learning/tree/main/extras/solutions)."
      ]
    },
    {
      "cell_type": "code",
      "execution_count": 1,
      "metadata": {
        "colab": {
          "base_uri": "https://localhost:8080/"
        },
        "id": "GaeYzOTLwWh2",
        "outputId": "17dd5453-9639-4b01-aa18-7ddbfd5c3253"
      },
      "outputs": [
        {
          "name": "stdout",
          "output_type": "stream",
          "text": [
            "Tue Apr 11 14:49:18 2023       \n",
            "+-----------------------------------------------------------------------------+\n",
            "| NVIDIA-SMI 525.105.17   Driver Version: 525.105.17   CUDA Version: 12.0     |\n",
            "|-------------------------------+----------------------+----------------------+\n",
            "| GPU  Name        Persistence-M| Bus-Id        Disp.A | Volatile Uncorr. ECC |\n",
            "| Fan  Temp  Perf  Pwr:Usage/Cap|         Memory-Usage | GPU-Util  Compute M. |\n",
            "|                               |                      |               MIG M. |\n",
            "|===============================+======================+======================|\n",
            "|   0  NVIDIA GeForce ...  Off  | 00000000:26:00.0  On |                  N/A |\n",
            "| 49%   34C    P0    N/A /  75W |   1446MiB /  4096MiB |      9%      Default |\n",
            "|                               |                      |                  N/A |\n",
            "+-------------------------------+----------------------+----------------------+\n",
            "                                                                               \n",
            "+-----------------------------------------------------------------------------+\n",
            "| Processes:                                                                  |\n",
            "|  GPU   GI   CI        PID   Type   Process name                  GPU Memory |\n",
            "|        ID   ID                                                   Usage      |\n",
            "|=============================================================================|\n",
            "|    0   N/A  N/A      1458      G   /usr/lib/xorg/Xorg                327MiB |\n",
            "|    0   N/A  N/A      1702      G   /usr/bin/gnome-shell               55MiB |\n",
            "|    0   N/A  N/A      1884      G   ...7/usr/lib/firefox/firefox      115MiB |\n",
            "|    0   N/A  N/A      1896      G   telegram-desktop                    1MiB |\n",
            "|    0   N/A  N/A      3036      G   ...RendererForSitePerProcess      186MiB |\n",
            "|    0   N/A  N/A      3078      G   ...veSuggestionsOnlyOnDemand       34MiB |\n",
            "|    0   N/A  N/A      3104      G   ...features=BackForwardCache       36MiB |\n",
            "|    0   N/A  N/A      4027      C   .../Pytorch/.venv/bin/python      682MiB |\n",
            "+-----------------------------------------------------------------------------+\n"
          ]
        }
      ],
      "source": [
        "# Check for GPU\n",
        "!nvidia-smi"
      ]
    },
    {
      "cell_type": "code",
      "execution_count": 2,
      "metadata": {
        "colab": {
          "base_uri": "https://localhost:8080/",
          "height": 53
        },
        "id": "DNwZLMbCzJLk",
        "outputId": "9c150c50-a092-4f34-9d33-b45247fb080d"
      },
      "outputs": [
        {
          "name": "stdout",
          "output_type": "stream",
          "text": [
            "2.0.0+cu117\n"
          ]
        },
        {
          "data": {
            "text/plain": [
              "'cuda'"
            ]
          },
          "execution_count": 2,
          "metadata": {},
          "output_type": "execute_result"
        }
      ],
      "source": [
        "# Import torch\n",
        "import torch\n",
        "\n",
        "# Exercises require PyTorch > 1.10.0\n",
        "print(torch.__version__)\n",
        "\n",
        "# Setup device agnostic code\n",
        "device = \"cuda\" if torch.cuda.is_available() else \"cpu\"\n",
        "device"
      ]
    },
    {
      "cell_type": "markdown",
      "metadata": {
        "id": "FSFX7tc1w-en"
      },
      "source": [
        "## 1. What are 3 areas in industry where computer vision is currently being used?"
      ]
    },
    {
      "cell_type": "markdown",
      "metadata": {
        "id": "CmB6iAzN1X4u"
      },
      "source": [
        "1. Self-driving cars, such as Tesla using computer vision to percieve what's happening on the road. See Tesla AI day for more - https://youtu.be/j0z4FweCy4M\n",
        "2. Healthcare imaging, such as using computer vision to help interpret X-rays. Google also uses computer vision for detecting polyps in the intenstines - https://ai.googleblog.com/2021/08/improved-detection-of-elusive-polyps.html\n",
        "3. Security, computer vision can be used to detect whether someone is invading your home or not - https://store.google.com/au/product/nest_cam_battery?hl=en-GB"
      ]
    },
    {
      "cell_type": "markdown",
      "metadata": {
        "id": "oBK-WI6YxDYa"
      },
      "source": [
        "## 2. Search \"what is overfitting in machine learning\" and write down a sentence about what you find. "
      ]
    },
    {
      "cell_type": "markdown",
      "metadata": {
        "id": "bMLaps1J3pJ_"
      },
      "source": [
        "Overfitting is like memorizing for a test but then you can't answer a question that's slightly different.\n",
        "\n",
        "In other words, if a model is overfitting, it's learning the training data *too well* and these patterns don't generalize to unseen data."
      ]
    },
    {
      "cell_type": "markdown",
      "metadata": {
        "id": "XeYFEqw8xK26"
      },
      "source": [
        "## 3. Search \"ways to prevent overfitting in machine learning\", write down 3 of the things you find and a sentence about each. \n",
        "> **Note:** there are lots of these, so don't worry too much about all of them, just pick 3 and start with those."
      ]
    },
    {
      "cell_type": "markdown",
      "metadata": {
        "id": "i9Hdd08s4kvN"
      },
      "source": [
        "See this article for some ideas: https://elitedatascience.com/overfitting-in-machine-learning \n",
        "\n",
        "3 ways to prevent overfitting:\n",
        "1. **Regularization techniques** - You could use [dropout on your neural networks](https://en.wikipedia.org/wiki/Dilution_(neural_networks)), dropout involves randomly removing neurons in different layers so that the remaining neurons hopefully learn more robust weights/patterns.\n",
        "2. **Use a different model** - maybe the model you're using for a specific problem is too complicated, as in, it's learning the data too well because it has so many layers. You could remove some layers to simplify your model. Or you could pick a totally different model altogether, one that may be more suited to your particular problem. Or... you could also use [transfer learning](https://en.wikipedia.org/wiki/Transfer_learning) (taking the patterns from one model and applying them to your own problem). \n",
        "3. **Reduce noise in data/cleanup dataset/introduce data augmentation techniques** - If the model is learning the data too well, it might be just memorizing the data, including the noise. One option would be to remove the noise/clean up the dataset or if this doesn't, you can introduce artificial noise through the use of data augmentation to artificially increase the diversity of your training dataset."
      ]
    },
    {
      "cell_type": "markdown",
      "metadata": {
        "id": "DKdEEFEqxM-8"
      },
      "source": [
        "## 4. Spend 20-minutes reading and clicking through the [CNN Explainer website](https://poloclub.github.io/cnn-explainer/).\n",
        "\n",
        "* Upload your own example image using the \"upload\" button on the website and see what happens in each layer of a CNN as your image passes through it."
      ]
    },
    {
      "cell_type": "markdown",
      "metadata": {
        "id": "rnUox1qayDes"
      },
      "source": [
        "The CNN explainer website is a great insight into all of the nuts and bolts of a convolutional neural network."
      ]
    },
    {
      "cell_type": "markdown",
      "metadata": {
        "id": "lvf-3pODxXYI"
      },
      "source": [
        "## 5. Load the [`torchvision.datasets.MNIST()`](https://pytorch.org/vision/stable/generated/torchvision.datasets.MNIST.html#torchvision.datasets.MNIST) train and test datasets."
      ]
    },
    {
      "cell_type": "code",
      "execution_count": 3,
      "metadata": {
        "id": "rV7s2qtIyDIZ"
      },
      "outputs": [],
      "source": [
        "import torchvision\n",
        "from torchvision import datasets\n",
        "\n",
        "from torchvision import transforms"
      ]
    },
    {
      "cell_type": "code",
      "execution_count": 4,
      "metadata": {
        "id": "tVnyuGku9m0y"
      },
      "outputs": [],
      "source": [
        "# Get the MNIST train dataset \n",
        "train_data = datasets.MNIST(root=\"data\",\n",
        "                            train=True,\n",
        "                            download=True,\n",
        "                            transform=transforms.ToTensor()) # do we want to transform the data as we download it? \n",
        "\n",
        "# Get the MNIST test dataset\n",
        "test_data = datasets.MNIST(root=\"data\",\n",
        "                           train=False,\n",
        "                           download=True,\n",
        "                           transform=transforms.ToTensor()) "
      ]
    },
    {
      "cell_type": "code",
      "execution_count": 5,
      "metadata": {
        "colab": {
          "base_uri": "https://localhost:8080/"
        },
        "id": "yaj7vnOv-cB2",
        "outputId": "41fff41b-49da-40c2-ac30-75a75aeb3a62"
      },
      "outputs": [
        {
          "data": {
            "text/plain": [
              "(Dataset MNIST\n",
              "     Number of datapoints: 60000\n",
              "     Root location: data\n",
              "     Split: Train\n",
              "     StandardTransform\n",
              " Transform: ToTensor(),\n",
              " Dataset MNIST\n",
              "     Number of datapoints: 10000\n",
              "     Root location: data\n",
              "     Split: Test\n",
              "     StandardTransform\n",
              " Transform: ToTensor())"
            ]
          },
          "execution_count": 5,
          "metadata": {},
          "output_type": "execute_result"
        }
      ],
      "source": [
        "train_data, test_data"
      ]
    },
    {
      "cell_type": "code",
      "execution_count": 6,
      "metadata": {
        "colab": {
          "base_uri": "https://localhost:8080/"
        },
        "id": "SUZMY9xR-sfH",
        "outputId": "57734dba-f7a7-42e8-8eb9-9dfa43216243"
      },
      "outputs": [
        {
          "data": {
            "text/plain": [
              "(60000, 10000)"
            ]
          },
          "execution_count": 6,
          "metadata": {},
          "output_type": "execute_result"
        }
      ],
      "source": [
        "len(train_data), len(test_data)"
      ]
    },
    {
      "cell_type": "code",
      "execution_count": 7,
      "metadata": {
        "colab": {
          "base_uri": "https://localhost:8080/"
        },
        "id": "THsDkX0K-gUk",
        "outputId": "545d643d-a50a-4d88-e2b6-6e69ce99dde4"
      },
      "outputs": [
        {
          "name": "stdout",
          "output_type": "stream",
          "text": [
            "Image:\n",
            " tensor([[[0.0000, 0.0000, 0.0000, 0.0000, 0.0000, 0.0000, 0.0000, 0.0000,\n",
            "          0.0000, 0.0000, 0.0000, 0.0000, 0.0000, 0.0000, 0.0000, 0.0000,\n",
            "          0.0000, 0.0000, 0.0000, 0.0000, 0.0000, 0.0000, 0.0000, 0.0000,\n",
            "          0.0000, 0.0000, 0.0000, 0.0000],\n",
            "         [0.0000, 0.0000, 0.0000, 0.0000, 0.0000, 0.0000, 0.0000, 0.0000,\n",
            "          0.0000, 0.0000, 0.0000, 0.0000, 0.0000, 0.0000, 0.0000, 0.0000,\n",
            "          0.0000, 0.0000, 0.0000, 0.0000, 0.0000, 0.0000, 0.0000, 0.0000,\n",
            "          0.0000, 0.0000, 0.0000, 0.0000],\n",
            "         [0.0000, 0.0000, 0.0000, 0.0000, 0.0000, 0.0000, 0.0000, 0.0000,\n",
            "          0.0000, 0.0000, 0.0000, 0.0000, 0.0000, 0.0000, 0.0000, 0.0000,\n",
            "          0.0000, 0.0000, 0.0000, 0.0000, 0.0000, 0.0000, 0.0000, 0.0000,\n",
            "          0.0000, 0.0000, 0.0000, 0.0000],\n",
            "         [0.0000, 0.0000, 0.0000, 0.0000, 0.0000, 0.0000, 0.0000, 0.0000,\n",
            "          0.0000, 0.0000, 0.0000, 0.0000, 0.0000, 0.0000, 0.0000, 0.0000,\n",
            "          0.0000, 0.0000, 0.0000, 0.0000, 0.0000, 0.0000, 0.0000, 0.0000,\n",
            "          0.0000, 0.0000, 0.0000, 0.0000],\n",
            "         [0.0000, 0.0000, 0.0000, 0.0000, 0.0000, 0.0000, 0.0000, 0.0000,\n",
            "          0.0000, 0.0000, 0.0000, 0.0000, 0.0000, 0.0000, 0.0000, 0.0000,\n",
            "          0.0000, 0.0000, 0.0000, 0.0000, 0.0000, 0.0000, 0.0000, 0.0000,\n",
            "          0.0000, 0.0000, 0.0000, 0.0000],\n",
            "         [0.0000, 0.0000, 0.0000, 0.0000, 0.0000, 0.0000, 0.0000, 0.0000,\n",
            "          0.0000, 0.0000, 0.0000, 0.0000, 0.0118, 0.0706, 0.0706, 0.0706,\n",
            "          0.4941, 0.5333, 0.6863, 0.1020, 0.6510, 1.0000, 0.9686, 0.4980,\n",
            "          0.0000, 0.0000, 0.0000, 0.0000],\n",
            "         [0.0000, 0.0000, 0.0000, 0.0000, 0.0000, 0.0000, 0.0000, 0.0000,\n",
            "          0.1176, 0.1412, 0.3686, 0.6039, 0.6667, 0.9922, 0.9922, 0.9922,\n",
            "          0.9922, 0.9922, 0.8824, 0.6745, 0.9922, 0.9490, 0.7647, 0.2510,\n",
            "          0.0000, 0.0000, 0.0000, 0.0000],\n",
            "         [0.0000, 0.0000, 0.0000, 0.0000, 0.0000, 0.0000, 0.0000, 0.1922,\n",
            "          0.9333, 0.9922, 0.9922, 0.9922, 0.9922, 0.9922, 0.9922, 0.9922,\n",
            "          0.9922, 0.9843, 0.3647, 0.3216, 0.3216, 0.2196, 0.1529, 0.0000,\n",
            "          0.0000, 0.0000, 0.0000, 0.0000],\n",
            "         [0.0000, 0.0000, 0.0000, 0.0000, 0.0000, 0.0000, 0.0000, 0.0706,\n",
            "          0.8588, 0.9922, 0.9922, 0.9922, 0.9922, 0.9922, 0.7765, 0.7137,\n",
            "          0.9686, 0.9451, 0.0000, 0.0000, 0.0000, 0.0000, 0.0000, 0.0000,\n",
            "          0.0000, 0.0000, 0.0000, 0.0000],\n",
            "         [0.0000, 0.0000, 0.0000, 0.0000, 0.0000, 0.0000, 0.0000, 0.0000,\n",
            "          0.3137, 0.6118, 0.4196, 0.9922, 0.9922, 0.8039, 0.0431, 0.0000,\n",
            "          0.1686, 0.6039, 0.0000, 0.0000, 0.0000, 0.0000, 0.0000, 0.0000,\n",
            "          0.0000, 0.0000, 0.0000, 0.0000],\n",
            "         [0.0000, 0.0000, 0.0000, 0.0000, 0.0000, 0.0000, 0.0000, 0.0000,\n",
            "          0.0000, 0.0549, 0.0039, 0.6039, 0.9922, 0.3529, 0.0000, 0.0000,\n",
            "          0.0000, 0.0000, 0.0000, 0.0000, 0.0000, 0.0000, 0.0000, 0.0000,\n",
            "          0.0000, 0.0000, 0.0000, 0.0000],\n",
            "         [0.0000, 0.0000, 0.0000, 0.0000, 0.0000, 0.0000, 0.0000, 0.0000,\n",
            "          0.0000, 0.0000, 0.0000, 0.5451, 0.9922, 0.7451, 0.0078, 0.0000,\n",
            "          0.0000, 0.0000, 0.0000, 0.0000, 0.0000, 0.0000, 0.0000, 0.0000,\n",
            "          0.0000, 0.0000, 0.0000, 0.0000],\n",
            "         [0.0000, 0.0000, 0.0000, 0.0000, 0.0000, 0.0000, 0.0000, 0.0000,\n",
            "          0.0000, 0.0000, 0.0000, 0.0431, 0.7451, 0.9922, 0.2745, 0.0000,\n",
            "          0.0000, 0.0000, 0.0000, 0.0000, 0.0000, 0.0000, 0.0000, 0.0000,\n",
            "          0.0000, 0.0000, 0.0000, 0.0000],\n",
            "         [0.0000, 0.0000, 0.0000, 0.0000, 0.0000, 0.0000, 0.0000, 0.0000,\n",
            "          0.0000, 0.0000, 0.0000, 0.0000, 0.1373, 0.9451, 0.8824, 0.6275,\n",
            "          0.4235, 0.0039, 0.0000, 0.0000, 0.0000, 0.0000, 0.0000, 0.0000,\n",
            "          0.0000, 0.0000, 0.0000, 0.0000],\n",
            "         [0.0000, 0.0000, 0.0000, 0.0000, 0.0000, 0.0000, 0.0000, 0.0000,\n",
            "          0.0000, 0.0000, 0.0000, 0.0000, 0.0000, 0.3176, 0.9412, 0.9922,\n",
            "          0.9922, 0.4667, 0.0980, 0.0000, 0.0000, 0.0000, 0.0000, 0.0000,\n",
            "          0.0000, 0.0000, 0.0000, 0.0000],\n",
            "         [0.0000, 0.0000, 0.0000, 0.0000, 0.0000, 0.0000, 0.0000, 0.0000,\n",
            "          0.0000, 0.0000, 0.0000, 0.0000, 0.0000, 0.0000, 0.1765, 0.7294,\n",
            "          0.9922, 0.9922, 0.5882, 0.1059, 0.0000, 0.0000, 0.0000, 0.0000,\n",
            "          0.0000, 0.0000, 0.0000, 0.0000],\n",
            "         [0.0000, 0.0000, 0.0000, 0.0000, 0.0000, 0.0000, 0.0000, 0.0000,\n",
            "          0.0000, 0.0000, 0.0000, 0.0000, 0.0000, 0.0000, 0.0000, 0.0627,\n",
            "          0.3647, 0.9882, 0.9922, 0.7333, 0.0000, 0.0000, 0.0000, 0.0000,\n",
            "          0.0000, 0.0000, 0.0000, 0.0000],\n",
            "         [0.0000, 0.0000, 0.0000, 0.0000, 0.0000, 0.0000, 0.0000, 0.0000,\n",
            "          0.0000, 0.0000, 0.0000, 0.0000, 0.0000, 0.0000, 0.0000, 0.0000,\n",
            "          0.0000, 0.9765, 0.9922, 0.9765, 0.2510, 0.0000, 0.0000, 0.0000,\n",
            "          0.0000, 0.0000, 0.0000, 0.0000],\n",
            "         [0.0000, 0.0000, 0.0000, 0.0000, 0.0000, 0.0000, 0.0000, 0.0000,\n",
            "          0.0000, 0.0000, 0.0000, 0.0000, 0.0000, 0.0000, 0.1804, 0.5098,\n",
            "          0.7176, 0.9922, 0.9922, 0.8118, 0.0078, 0.0000, 0.0000, 0.0000,\n",
            "          0.0000, 0.0000, 0.0000, 0.0000],\n",
            "         [0.0000, 0.0000, 0.0000, 0.0000, 0.0000, 0.0000, 0.0000, 0.0000,\n",
            "          0.0000, 0.0000, 0.0000, 0.0000, 0.1529, 0.5804, 0.8980, 0.9922,\n",
            "          0.9922, 0.9922, 0.9804, 0.7137, 0.0000, 0.0000, 0.0000, 0.0000,\n",
            "          0.0000, 0.0000, 0.0000, 0.0000],\n",
            "         [0.0000, 0.0000, 0.0000, 0.0000, 0.0000, 0.0000, 0.0000, 0.0000,\n",
            "          0.0000, 0.0000, 0.0941, 0.4471, 0.8667, 0.9922, 0.9922, 0.9922,\n",
            "          0.9922, 0.7882, 0.3059, 0.0000, 0.0000, 0.0000, 0.0000, 0.0000,\n",
            "          0.0000, 0.0000, 0.0000, 0.0000],\n",
            "         [0.0000, 0.0000, 0.0000, 0.0000, 0.0000, 0.0000, 0.0000, 0.0000,\n",
            "          0.0902, 0.2588, 0.8353, 0.9922, 0.9922, 0.9922, 0.9922, 0.7765,\n",
            "          0.3176, 0.0078, 0.0000, 0.0000, 0.0000, 0.0000, 0.0000, 0.0000,\n",
            "          0.0000, 0.0000, 0.0000, 0.0000],\n",
            "         [0.0000, 0.0000, 0.0000, 0.0000, 0.0000, 0.0000, 0.0706, 0.6706,\n",
            "          0.8588, 0.9922, 0.9922, 0.9922, 0.9922, 0.7647, 0.3137, 0.0353,\n",
            "          0.0000, 0.0000, 0.0000, 0.0000, 0.0000, 0.0000, 0.0000, 0.0000,\n",
            "          0.0000, 0.0000, 0.0000, 0.0000],\n",
            "         [0.0000, 0.0000, 0.0000, 0.0000, 0.2157, 0.6745, 0.8863, 0.9922,\n",
            "          0.9922, 0.9922, 0.9922, 0.9569, 0.5216, 0.0431, 0.0000, 0.0000,\n",
            "          0.0000, 0.0000, 0.0000, 0.0000, 0.0000, 0.0000, 0.0000, 0.0000,\n",
            "          0.0000, 0.0000, 0.0000, 0.0000],\n",
            "         [0.0000, 0.0000, 0.0000, 0.0000, 0.5333, 0.9922, 0.9922, 0.9922,\n",
            "          0.8314, 0.5294, 0.5176, 0.0627, 0.0000, 0.0000, 0.0000, 0.0000,\n",
            "          0.0000, 0.0000, 0.0000, 0.0000, 0.0000, 0.0000, 0.0000, 0.0000,\n",
            "          0.0000, 0.0000, 0.0000, 0.0000],\n",
            "         [0.0000, 0.0000, 0.0000, 0.0000, 0.0000, 0.0000, 0.0000, 0.0000,\n",
            "          0.0000, 0.0000, 0.0000, 0.0000, 0.0000, 0.0000, 0.0000, 0.0000,\n",
            "          0.0000, 0.0000, 0.0000, 0.0000, 0.0000, 0.0000, 0.0000, 0.0000,\n",
            "          0.0000, 0.0000, 0.0000, 0.0000],\n",
            "         [0.0000, 0.0000, 0.0000, 0.0000, 0.0000, 0.0000, 0.0000, 0.0000,\n",
            "          0.0000, 0.0000, 0.0000, 0.0000, 0.0000, 0.0000, 0.0000, 0.0000,\n",
            "          0.0000, 0.0000, 0.0000, 0.0000, 0.0000, 0.0000, 0.0000, 0.0000,\n",
            "          0.0000, 0.0000, 0.0000, 0.0000],\n",
            "         [0.0000, 0.0000, 0.0000, 0.0000, 0.0000, 0.0000, 0.0000, 0.0000,\n",
            "          0.0000, 0.0000, 0.0000, 0.0000, 0.0000, 0.0000, 0.0000, 0.0000,\n",
            "          0.0000, 0.0000, 0.0000, 0.0000, 0.0000, 0.0000, 0.0000, 0.0000,\n",
            "          0.0000, 0.0000, 0.0000, 0.0000]]])\n",
            "Label:\n",
            " 5\n"
          ]
        }
      ],
      "source": [
        "# Data is in tuple form (image, label)\n",
        "img = train_data[0][0]\n",
        "label = train_data[0][1]\n",
        "print(f\"Image:\\n {img}\") \n",
        "print(f\"Label:\\n {label}\")"
      ]
    },
    {
      "cell_type": "code",
      "execution_count": 8,
      "metadata": {
        "colab": {
          "base_uri": "https://localhost:8080/"
        },
        "id": "txys9vVXAUPs",
        "outputId": "ac305c09-6260-4744-9bd9-832e4dbde593"
      },
      "outputs": [
        {
          "name": "stdout",
          "output_type": "stream",
          "text": [
            "Image shape: torch.Size([1, 28, 28]) -> [color_channels, height, width] (CHW)\n",
            "Label: 5 -> no shape, due to being integer\n"
          ]
        }
      ],
      "source": [
        "# Check out the shapes of our data\n",
        "print(f\"Image shape: {img.shape} -> [color_channels, height, width] (CHW)\")\n",
        "print(f\"Label: {label} -> no shape, due to being integer\")"
      ]
    },
    {
      "cell_type": "markdown",
      "metadata": {
        "id": "yS3XHDW6AuJs"
      },
      "source": [
        "Note: There are two main agreed upon ways for representing images in machine learning:\n",
        "1. Color channels first: [color_channels, height, width] (CHW) -> PyTorch default (as of April 2022)\n",
        "2. Color channels last: [height, width, color_channels] (HWC) -> Matplotlib/TensorFlow default (as of April 2022)"
      ]
    },
    {
      "cell_type": "code",
      "execution_count": 9,
      "metadata": {
        "colab": {
          "base_uri": "https://localhost:8080/"
        },
        "id": "T7UEVf8B_JuK",
        "outputId": "6795c6d6-8e66-43bc-e7f8-6f1b737f2621"
      },
      "outputs": [
        {
          "data": {
            "text/plain": [
              "['0 - zero',\n",
              " '1 - one',\n",
              " '2 - two',\n",
              " '3 - three',\n",
              " '4 - four',\n",
              " '5 - five',\n",
              " '6 - six',\n",
              " '7 - seven',\n",
              " '8 - eight',\n",
              " '9 - nine']"
            ]
          },
          "execution_count": 9,
          "metadata": {},
          "output_type": "execute_result"
        }
      ],
      "source": [
        "# Get the class names from the dataset\n",
        "class_names = train_data.classes\n",
        "class_names"
      ]
    },
    {
      "cell_type": "markdown",
      "metadata": {
        "id": "qxZW-uAbxe_F"
      },
      "source": [
        "## 6. Visualize at least 5 different samples of the MNIST training dataset."
      ]
    },
    {
      "cell_type": "code",
      "execution_count": 10,
      "metadata": {
        "colab": {
          "base_uri": "https://localhost:8080/",
          "height": 1000
        },
        "id": "HdRM86voyC0x",
        "outputId": "76d699f7-6c6b-4cd8-df21-a48da1b7c141"
      },
      "outputs": [
        {
          "name": "stdout",
          "output_type": "stream",
          "text": [
            "torch.Size([1, 28, 28])\n",
            "torch.Size([28, 28])\n",
            "torch.Size([1, 28, 28])\n",
            "torch.Size([28, 28])\n",
            "torch.Size([1, 28, 28])\n",
            "torch.Size([28, 28])\n",
            "torch.Size([1, 28, 28])\n",
            "torch.Size([28, 28])\n",
            "torch.Size([1, 28, 28])\n",
            "torch.Size([28, 28])\n"
          ]
        },
        {
          "data": {
            "image/png": "[encoded data removed]",
            "text/plain": [
              "<Figure size 300x300 with 1 Axes>"
            ]
          },
          "metadata": {},
          "output_type": "display_data"
        },
        {
          "data": {
            "image/png": "[encoded data removed]",
            "text/plain": [
              "<Figure size 300x300 with 1 Axes>"
            ]
          },
          "metadata": {},
          "output_type": "display_data"
        },
        {
          "data": {
            "image/png": "[encoded data removed]",
            "text/plain": [
              "<Figure size 300x300 with 1 Axes>"
            ]
          },
          "metadata": {},
          "output_type": "display_data"
        },
        {
          "data": {
            "image/png": "[encoded data removed]",
            "text/plain": [
              "<Figure size 300x300 with 1 Axes>"
            ]
          },
          "metadata": {},
          "output_type": "display_data"
        },
        {
          "data": {
            "image/png": "[encoded data removed]",
            "text/plain": [
              "<Figure size 300x300 with 1 Axes>"
            ]
          },
          "metadata": {},
          "output_type": "display_data"
        }
      ],
      "source": [
        "import matplotlib.pyplot as plt\n",
        "for i in range(5):\n",
        "  img = train_data[i][0]\n",
        "  print(img.shape)\n",
        "  img_squeeze = img.squeeze()\n",
        "  print(img_squeeze.shape)\n",
        "  label = train_data[i][1]\n",
        "  plt.figure(figsize=(3, 3))\n",
        "  plt.imshow(img_squeeze, cmap=\"gray\")\n",
        "  plt.title(label)\n",
        "  plt.axis(False);"
      ]
    },
    {
      "cell_type": "markdown",
      "metadata": {
        "id": "JAPDzW0wxhi3"
      },
      "source": [
        "## 7. Turn the MNIST train and test datasets into dataloaders using `torch.utils.data.DataLoader`, set the `batch_size=32`."
      ]
    },
    {
      "cell_type": "code",
      "execution_count": 11,
      "metadata": {
        "id": "Cz09bv8KCnCa"
      },
      "outputs": [],
      "source": [
        "# Create train dataloader\n",
        "from torch.utils.data import DataLoader\n",
        "\n",
        "train_dataloader = DataLoader(dataset=train_data,\n",
        "                              batch_size=32,\n",
        "                              shuffle=True)\n",
        "\n",
        "test_dataloader = DataLoader(dataset=test_data,\n",
        "                             batch_size=32,\n",
        "                             shuffle=False)"
      ]
    },
    {
      "cell_type": "code",
      "execution_count": 12,
      "metadata": {
        "colab": {
          "base_uri": "https://localhost:8080/"
        },
        "id": "8tWfa7Y0yCkX",
        "outputId": "7aa11575-fdc6-48d8-e73b-9d8fe5f3049c"
      },
      "outputs": [
        {
          "data": {
            "text/plain": [
              "(<torch.utils.data.dataloader.DataLoader at 0x7f8561f8bbb0>,\n",
              " <torch.utils.data.dataloader.DataLoader at 0x7f8561f8ae30>)"
            ]
          },
          "execution_count": 12,
          "metadata": {},
          "output_type": "execute_result"
        }
      ],
      "source": [
        "train_dataloader, test_dataloader"
      ]
    },
    {
      "cell_type": "code",
      "execution_count": 13,
      "metadata": {
        "colab": {
          "base_uri": "https://localhost:8080/"
        },
        "id": "z2-3iYEgD8K-",
        "outputId": "ebdeeedd-b03a-4ff1-abe3-e420fdbfe266"
      },
      "outputs": [
        {
          "name": "stdout",
          "output_type": "stream",
          "text": [
            "torch.Size([32, 1, 28, 28])\n",
            "torch.Size([32])\n"
          ]
        }
      ],
      "source": [
        "for sample in next(iter(train_dataloader)):\n",
        "  print(sample.shape)"
      ]
    },
    {
      "cell_type": "code",
      "execution_count": 14,
      "metadata": {
        "colab": {
          "base_uri": "https://localhost:8080/"
        },
        "id": "BfSrUoa9Eb3V",
        "outputId": "09af0e0b-3347-4c06-d542-b4971fe83c2d"
      },
      "outputs": [
        {
          "data": {
            "text/plain": [
              "(1875, 313)"
            ]
          },
          "execution_count": 14,
          "metadata": {},
          "output_type": "execute_result"
        }
      ],
      "source": [
        "len(train_dataloader), len(test_dataloader)"
      ]
    },
    {
      "cell_type": "markdown",
      "metadata": {
        "id": "bCCVfXk5xjYS"
      },
      "source": [
        "## 8. Recreate `model_2` used in notebook 03 (the same model from the [CNN Explainer website](https://poloclub.github.io/cnn-explainer/), also known as TinyVGG) capable of fitting on the MNIST dataset."
      ]
    },
    {
      "cell_type": "code",
      "execution_count": 15,
      "metadata": {
        "id": "xeBNV2AtyCP6"
      },
      "outputs": [],
      "source": [
        "from torch import nn \n",
        "class MNIST_model(torch.nn.Module):\n",
        "  \"\"\"Model capable of predicting on MNIST dataset.\n",
        "  \"\"\"\n",
        "  def __init__(self, input_shape: int, hidden_units: int, output_shape: int): \n",
        "    super().__init__()\n",
        "    self.conv_block_1 = nn.Sequential(\n",
        "      nn.Conv2d(in_channels=input_shape, \n",
        "                out_channels=hidden_units,\n",
        "                kernel_size=3,\n",
        "                stride=1,\n",
        "                padding=1), \n",
        "      nn.ReLU(),\n",
        "      nn.Conv2d(in_channels=hidden_units,\n",
        "                out_channels=hidden_units,\n",
        "                kernel_size=3,\n",
        "                stride=1,\n",
        "                padding=1),\n",
        "      nn.ReLU(),\n",
        "      nn.MaxPool2d(kernel_size=2)\n",
        "    )\n",
        "    self.conv_block_2 = nn.Sequential(\n",
        "      nn.Conv2d(in_channels=hidden_units,\n",
        "                out_channels=hidden_units,\n",
        "                kernel_size=3,\n",
        "                stride=1,\n",
        "                padding=1),\n",
        "      nn.ReLU(),\n",
        "      nn.Conv2d(in_channels=hidden_units,\n",
        "                out_channels=hidden_units,\n",
        "                kernel_size=3,\n",
        "                stride=1,\n",
        "                padding=1),\n",
        "      nn.ReLU(),\n",
        "      nn.MaxPool2d(kernel_size=2)                   \n",
        "    )\n",
        "    self.classifier = nn.Sequential(\n",
        "      nn.Flatten(),\n",
        "      nn.Linear(in_features=hidden_units*7*7,\n",
        "                out_features=output_shape)\n",
        "    )\n",
        "\n",
        "  def forward(self, x):\n",
        "    x = self.conv_block_1(x)\n",
        "    # print(f\"Output shape of conv block 1: {x.shape}\")\n",
        "    x = self.conv_block_2(x)\n",
        "    # print(f\"Output shape of conv block 2: {x.shape}\")\n",
        "    x = self.classifier(x)\n",
        "    # print(f\"Output shape of classifier: {x.shape}\")\n",
        "    return x"
      ]
    },
    {
      "cell_type": "code",
      "execution_count": 16,
      "metadata": {
        "colab": {
          "base_uri": "https://localhost:8080/",
          "height": 35
        },
        "id": "Pfk9zykYK0FM",
        "outputId": "42691d91-8854-4324-a6e7-776535283d11"
      },
      "outputs": [
        {
          "data": {
            "text/plain": [
              "'cuda'"
            ]
          },
          "execution_count": 16,
          "metadata": {},
          "output_type": "execute_result"
        }
      ],
      "source": [
        "device"
      ]
    },
    {
      "cell_type": "code",
      "execution_count": 17,
      "metadata": {
        "colab": {
          "base_uri": "https://localhost:8080/"
        },
        "id": "tPmadzsTJndN",
        "outputId": "af86f59c-d3a0-4fdf-9095-cc5b4885226e"
      },
      "outputs": [
        {
          "data": {
            "text/plain": [
              "MNIST_model(\n",
              "  (conv_block_1): Sequential(\n",
              "    (0): Conv2d(1, 10, kernel_size=(3, 3), stride=(1, 1), padding=(1, 1))\n",
              "    (1): ReLU()\n",
              "    (2): Conv2d(10, 10, kernel_size=(3, 3), stride=(1, 1), padding=(1, 1))\n",
              "    (3): ReLU()\n",
              "    (4): MaxPool2d(kernel_size=2, stride=2, padding=0, dilation=1, ceil_mode=False)\n",
              "  )\n",
              "  (conv_block_2): Sequential(\n",
              "    (0): Conv2d(10, 10, kernel_size=(3, 3), stride=(1, 1), padding=(1, 1))\n",
              "    (1): ReLU()\n",
              "    (2): Conv2d(10, 10, kernel_size=(3, 3), stride=(1, 1), padding=(1, 1))\n",
              "    (3): ReLU()\n",
              "    (4): MaxPool2d(kernel_size=2, stride=2, padding=0, dilation=1, ceil_mode=False)\n",
              "  )\n",
              "  (classifier): Sequential(\n",
              "    (0): Flatten(start_dim=1, end_dim=-1)\n",
              "    (1): Linear(in_features=490, out_features=10, bias=True)\n",
              "  )\n",
              ")"
            ]
          },
          "execution_count": 17,
          "metadata": {},
          "output_type": "execute_result"
        }
      ],
      "source": [
        "model = MNIST_model(input_shape=1,\n",
        "                    hidden_units=10,\n",
        "                    output_shape=10).to(device)\n",
        "model"
      ]
    },
    {
      "cell_type": "code",
      "execution_count": 18,
      "metadata": {
        "id": "ExNGpLz9LfOO"
      },
      "outputs": [
        {
          "data": {
            "text/plain": [
              "OrderedDict([('conv_block_1.0.weight',\n",
              "              tensor([[[[-0.0754, -0.0799,  0.0998],\n",
              "                        [ 0.1288, -0.1177,  0.3003],\n",
              "                        [ 0.2970,  0.0388,  0.1692]]],\n",
              "              \n",
              "              \n",
              "                      [[[ 0.2547, -0.3281,  0.3231],\n",
              "                        [ 0.2256, -0.1917,  0.2377],\n",
              "                        [-0.0569,  0.0095,  0.1484]]],\n",
              "              \n",
              "              \n",
              "                      [[[ 0.1017, -0.1568, -0.2182],\n",
              "                        [ 0.0974, -0.1949, -0.2237],\n",
              "                        [-0.2168, -0.1630,  0.1585]]],\n",
              "              \n",
              "              \n",
              "                      [[[-0.1100,  0.0539,  0.1542],\n",
              "                        [ 0.2837, -0.2805,  0.0296],\n",
              "                        [ 0.0036,  0.1607,  0.2557]]],\n",
              "              \n",
              "              \n",
              "                      [[[ 0.1960,  0.2188, -0.2858],\n",
              "                        [ 0.1498,  0.0099,  0.0912],\n",
              "                        [-0.2272, -0.2305,  0.0345]]],\n",
              "              \n",
              "              \n",
              "                      [[[-0.3085, -0.2645,  0.0784],\n",
              "                        [ 0.0003,  0.0206,  0.1319],\n",
              "                        [ 0.3000,  0.0239,  0.3260]]],\n",
              "              \n",
              "              \n",
              "                      [[[-0.2012, -0.1886,  0.2547],\n",
              "                        [ 0.3142, -0.3281, -0.1961],\n",
              "                        [-0.1728,  0.1038, -0.0801]]],\n",
              "              \n",
              "              \n",
              "                      [[[ 0.2419, -0.1901, -0.0331],\n",
              "                        [ 0.0891,  0.1303,  0.3216],\n",
              "                        [ 0.0880,  0.1338, -0.1590]]],\n",
              "              \n",
              "              \n",
              "                      [[[-0.0383,  0.3214, -0.2089],\n",
              "                        [ 0.2009,  0.1806,  0.0485],\n",
              "                        [ 0.1032,  0.2560,  0.1836]]],\n",
              "              \n",
              "              \n",
              "                      [[[ 0.1764,  0.1348,  0.1821],\n",
              "                        [ 0.0332,  0.0057,  0.2563],\n",
              "                        [ 0.2696,  0.2805,  0.1191]]]], device='cuda:0')),\n",
              "             ('conv_block_1.0.bias',\n",
              "              tensor([-0.0502, -0.2123,  0.2849,  0.2745, -0.2342,  0.0034, -0.0022,  0.0466,\n",
              "                      -0.1227, -0.1327], device='cuda:0')),\n",
              "             ('conv_block_1.2.weight',\n",
              "              tensor([[[[ 3.3297e-02,  3.5958e-02,  2.0541e-03],\n",
              "                        [-2.2923e-02,  3.5312e-02,  8.0936e-02],\n",
              "                        [ 4.7848e-02, -4.0674e-02, -6.6541e-02]],\n",
              "              \n",
              "                       [[ 5.9131e-02, -1.0359e-01, -7.9036e-02],\n",
              "                        [-4.1209e-02,  4.2896e-02, -2.5563e-02],\n",
              "                        [-5.3487e-02,  1.0734e-02,  2.9528e-02]],\n",
              "              \n",
              "                       [[-9.6467e-02,  4.5504e-02, -9.5147e-02],\n",
              "                        [ 2.3348e-02, -3.0288e-02,  3.7637e-02],\n",
              "                        [ 7.5336e-02,  3.3634e-02, -6.9835e-02]],\n",
              "              \n",
              "                       [[-7.0832e-02,  4.7815e-02,  2.8062e-02],\n",
              "                        [-2.6348e-02, -3.6543e-02,  6.8843e-02],\n",
              "                        [ 9.0489e-03, -2.2225e-02, -4.2639e-03]],\n",
              "              \n",
              "                       [[-7.4777e-02, -2.8894e-02, -7.8543e-03],\n",
              "                        [ 8.5764e-02, -2.1748e-02, -8.7468e-02],\n",
              "                        [-1.0029e-01, -8.7754e-02, -2.7648e-02]],\n",
              "              \n",
              "                       [[-6.4521e-02, -3.7627e-02,  9.8771e-02],\n",
              "                        [-5.4153e-02, -5.9890e-02,  1.8920e-02],\n",
              "                        [ 7.2078e-02,  6.6368e-02, -6.1057e-02]],\n",
              "              \n",
              "                       [[ 6.0363e-02,  9.1971e-02, -6.4982e-02],\n",
              "                        [ 6.5916e-04,  4.8076e-02, -9.5648e-03],\n",
              "                        [-8.0345e-03, -3.2036e-02,  5.0807e-02]],\n",
              "              \n",
              "                       [[-4.9092e-02,  1.0407e-01, -2.4571e-02],\n",
              "                        [ 8.3273e-02,  3.1036e-02,  8.5734e-02],\n",
              "                        [-7.3808e-02, -6.3962e-02, -8.5649e-02]],\n",
              "              \n",
              "                       [[ 4.4777e-02, -4.0409e-02, -3.7402e-02],\n",
              "                        [-3.4810e-02,  6.7887e-02,  7.7152e-02],\n",
              "                        [-5.7145e-02,  6.8138e-02,  8.6110e-02]],\n",
              "              \n",
              "                       [[ 6.2129e-02, -1.0451e-01, -3.0806e-02],\n",
              "                        [-2.4046e-02,  2.3207e-02,  1.1738e-02],\n",
              "                        [-9.2096e-02,  3.0599e-02, -3.8480e-02]]],\n",
              "              \n",
              "              \n",
              "                      [[[ 7.2306e-02, -5.3212e-02, -5.5054e-02],\n",
              "                        [ 4.7908e-02,  7.6572e-02, -8.9753e-02],\n",
              "                        [-4.7541e-02, -2.0355e-02,  8.6072e-03]],\n",
              "              \n",
              "                       [[-1.0071e-01, -9.5948e-02,  6.5321e-02],\n",
              "                        [-1.0419e-01, -9.1517e-02,  8.9099e-02],\n",
              "                        [ 1.7389e-02,  6.1966e-02, -1.5222e-02]],\n",
              "              \n",
              "                       [[ 7.4252e-02,  8.7761e-03,  3.3229e-02],\n",
              "                        [ 3.8723e-02, -6.4122e-02, -6.6834e-02],\n",
              "                        [-5.7060e-02,  3.3516e-02,  6.2431e-02]],\n",
              "              \n",
              "                       [[-5.1423e-02, -5.4750e-02,  3.9700e-02],\n",
              "                        [ 4.0586e-02, -4.2432e-03,  8.7609e-02],\n",
              "                        [-3.5149e-02, -5.0854e-02, -7.5150e-02]],\n",
              "              \n",
              "                       [[ 8.6331e-02, -8.3067e-02, -8.1770e-02],\n",
              "                        [-8.0190e-02,  4.8699e-02,  3.2085e-02],\n",
              "                        [-7.0325e-02,  9.7304e-03, -1.4132e-02]],\n",
              "              \n",
              "                       [[ 5.8389e-02, -1.0239e-01,  2.6528e-02],\n",
              "                        [-9.0105e-03, -5.4048e-02, -1.3857e-02],\n",
              "                        [ 2.3403e-02,  5.2023e-02, -1.9332e-02]],\n",
              "              \n",
              "                       [[-4.8713e-02,  2.3765e-02, -6.3603e-02],\n",
              "                        [-4.7642e-02,  3.4311e-02, -1.1151e-02],\n",
              "                        [ 9.8937e-02, -1.6126e-02,  3.8967e-02]],\n",
              "              \n",
              "                       [[ 9.5692e-02,  1.7258e-02,  5.3801e-03],\n",
              "                        [ 2.6892e-02, -5.1635e-02, -5.3612e-02],\n",
              "                        [-9.1458e-02,  8.7955e-02, -9.1127e-02]],\n",
              "              \n",
              "                       [[-3.9461e-02, -2.5114e-02,  5.7281e-02],\n",
              "                        [ 6.7706e-03,  3.2424e-02,  5.5505e-02],\n",
              "                        [-6.0667e-02, -3.6093e-02, -9.9367e-02]],\n",
              "              \n",
              "                       [[-8.8325e-02, -4.7514e-02,  6.5382e-02],\n",
              "                        [-1.0141e-01, -7.2652e-02,  3.5795e-02],\n",
              "                        [-2.4480e-02,  3.3558e-02, -2.7861e-02]]],\n",
              "              \n",
              "              \n",
              "                      [[[-1.0603e-02, -9.0320e-02,  9.2506e-02],\n",
              "                        [-2.7171e-02, -3.0442e-02,  4.3488e-02],\n",
              "                        [ 1.0408e-01, -4.4886e-02,  5.5502e-02]],\n",
              "              \n",
              "                       [[ 3.4397e-02, -9.4111e-03,  9.0327e-02],\n",
              "                        [ 9.3254e-02, -6.5491e-02, -1.4246e-02],\n",
              "                        [ 6.5797e-02,  8.7882e-02,  1.3621e-02]],\n",
              "              \n",
              "                       [[-9.4087e-02,  4.9898e-02,  4.4397e-03],\n",
              "                        [-1.8029e-02,  3.5984e-02, -9.0445e-03],\n",
              "                        [-7.1940e-02, -8.0483e-02,  2.6464e-02]],\n",
              "              \n",
              "                       [[-1.7594e-02, -8.4588e-02, -1.8969e-02],\n",
              "                        [ 6.8513e-03, -9.1532e-02, -4.6570e-02],\n",
              "                        [ 5.2013e-02,  9.3335e-02, -6.5150e-02]],\n",
              "              \n",
              "                       [[ 7.6938e-02, -5.6677e-02, -5.2985e-02],\n",
              "                        [ 2.3629e-02, -6.4908e-03, -6.4551e-02],\n",
              "                        [ 9.9656e-02, -7.2911e-02, -2.9468e-03]],\n",
              "              \n",
              "                       [[ 1.8152e-02, -6.9648e-02,  8.0215e-02],\n",
              "                        [-9.7817e-02,  2.9052e-02,  1.7928e-03],\n",
              "                        [-1.0430e-01, -6.4278e-02,  6.9480e-02]],\n",
              "              \n",
              "                       [[ 8.7188e-03, -7.1119e-02,  1.3094e-02],\n",
              "                        [ 7.5621e-02,  9.3591e-02,  1.9289e-02],\n",
              "                        [-8.0085e-02,  9.7019e-02, -9.5456e-02]],\n",
              "              \n",
              "                       [[-1.0267e-02, -4.6311e-02,  7.7291e-02],\n",
              "                        [-4.4023e-02,  7.1427e-02, -3.6598e-02],\n",
              "                        [ 6.4059e-02,  8.0581e-02, -7.2939e-02]],\n",
              "              \n",
              "                       [[-6.5854e-02, -9.7826e-02,  1.0735e-04],\n",
              "                        [ 8.1047e-02, -3.6687e-03, -1.0114e-01],\n",
              "                        [-7.0100e-02,  9.8027e-02, -3.6094e-02]],\n",
              "              \n",
              "                       [[ 1.1542e-02, -4.1346e-02,  7.1455e-02],\n",
              "                        [ 9.5481e-02, -2.1826e-02, -1.5923e-02],\n",
              "                        [-2.2313e-02, -4.7576e-02,  5.0720e-02]]],\n",
              "              \n",
              "              \n",
              "                      [[[-7.6070e-02,  3.8589e-02, -3.6654e-02],\n",
              "                        [-9.5154e-02,  7.2302e-02,  7.0971e-02],\n",
              "                        [-8.0757e-02,  3.8720e-03,  9.1711e-02]],\n",
              "              \n",
              "                       [[-8.7865e-02,  8.6806e-02, -6.0110e-02],\n",
              "                        [-5.3178e-02, -1.0837e-02, -6.9070e-02],\n",
              "                        [ 2.7017e-02, -1.3562e-02, -6.4747e-02]],\n",
              "              \n",
              "                       [[ 3.1270e-02,  6.6504e-03,  5.1708e-02],\n",
              "                        [ 9.8017e-02, -2.2519e-02,  8.3299e-02],\n",
              "                        [-8.0761e-02,  7.0756e-02, -1.5261e-02]],\n",
              "              \n",
              "                       [[-5.1273e-02, -7.7646e-02,  8.5294e-02],\n",
              "                        [-1.4873e-02, -1.0082e-01, -9.5479e-02],\n",
              "                        [-8.2629e-02,  2.0321e-02, -5.3007e-02]],\n",
              "              \n",
              "                       [[ 4.5326e-02, -2.0282e-02, -8.9188e-03],\n",
              "                        [-9.6428e-02,  7.6566e-02, -1.5391e-02],\n",
              "                        [-9.5001e-04,  8.1522e-02,  6.5725e-02]],\n",
              "              \n",
              "                       [[-8.0935e-02,  4.1113e-02,  5.1491e-02],\n",
              "                        [ 3.0145e-02,  6.5049e-02,  2.0885e-03],\n",
              "                        [-5.4163e-02, -1.0518e-01, -9.2686e-02]],\n",
              "              \n",
              "                       [[-3.8024e-02,  2.5949e-02, -4.9310e-02],\n",
              "                        [ 7.4825e-02, -6.1083e-03, -9.9628e-02],\n",
              "                        [-5.8911e-02, -8.3546e-02,  8.2509e-02]],\n",
              "              \n",
              "                       [[ 7.9669e-02, -9.5774e-02, -5.4446e-03],\n",
              "                        [-2.4425e-03,  3.8659e-02,  3.8850e-02],\n",
              "                        [ 2.7249e-02, -9.1237e-02,  6.7568e-02]],\n",
              "              \n",
              "                       [[ 4.4743e-02,  4.6368e-02,  9.2721e-02],\n",
              "                        [-7.1031e-03, -1.4612e-02, -9.1119e-02],\n",
              "                        [-5.8806e-02,  4.5190e-02, -6.2332e-02]],\n",
              "              \n",
              "                       [[ 2.0165e-02,  7.1664e-02,  9.6574e-02],\n",
              "                        [-1.0157e-01, -1.1641e-02,  2.4719e-03],\n",
              "                        [ 6.0233e-03, -1.9348e-02, -2.8152e-02]]],\n",
              "              \n",
              "              \n",
              "                      [[[-6.9841e-02,  7.9998e-02, -9.6835e-02],\n",
              "                        [-8.4254e-02, -5.0852e-02, -8.4974e-02],\n",
              "                        [ 1.9430e-02,  5.2817e-02, -6.3767e-02]],\n",
              "              \n",
              "                       [[ 1.8636e-02, -2.9202e-02, -7.8660e-02],\n",
              "                        [-9.8916e-04, -5.8753e-02, -3.3078e-02],\n",
              "                        [-3.8074e-02, -3.2366e-02, -2.5864e-02]],\n",
              "              \n",
              "                       [[ 6.6641e-02,  2.7473e-02,  2.2414e-02],\n",
              "                        [ 1.0445e-01, -2.6210e-02, -1.1560e-03],\n",
              "                        [-8.8502e-02,  6.0180e-03, -1.8929e-02]],\n",
              "              \n",
              "                       [[ 3.2592e-03,  8.4737e-02, -1.0120e-01],\n",
              "                        [ 6.2482e-02,  1.8250e-02, -3.2918e-02],\n",
              "                        [-9.2691e-02, -1.0260e-01, -4.6095e-02]],\n",
              "              \n",
              "                       [[ 3.5176e-02,  2.0087e-02, -1.5160e-02],\n",
              "                        [-8.9777e-02, -7.7898e-02, -5.7776e-02],\n",
              "                        [-7.0360e-02, -9.4655e-02, -7.6656e-02]],\n",
              "              \n",
              "                       [[-3.6865e-02, -3.8690e-02,  5.4058e-02],\n",
              "                        [-2.8682e-02, -9.8648e-02,  3.4015e-02],\n",
              "                        [ 1.1222e-02, -5.4222e-02,  3.5360e-02]],\n",
              "              \n",
              "                       [[ 8.1245e-02, -1.2680e-02,  3.1851e-02],\n",
              "                        [ 3.0897e-02, -1.0115e-01,  1.6508e-02],\n",
              "                        [ 9.8175e-03, -1.9905e-02, -2.4737e-02]],\n",
              "              \n",
              "                       [[ 9.0020e-03,  7.3700e-02, -7.0301e-02],\n",
              "                        [ 7.6289e-02,  5.7188e-02,  1.2866e-02],\n",
              "                        [ 4.3850e-02,  8.9088e-02,  1.2946e-02]],\n",
              "              \n",
              "                       [[ 5.0791e-02,  7.9592e-02, -7.6921e-03],\n",
              "                        [ 4.4081e-02, -8.5621e-02,  8.1236e-02],\n",
              "                        [ 1.5754e-02, -4.3546e-02,  7.3068e-02]],\n",
              "              \n",
              "                       [[-7.1827e-02, -4.5024e-02,  6.7946e-02],\n",
              "                        [ 1.0419e-01,  9.5556e-02, -6.9181e-02],\n",
              "                        [-2.8024e-02,  7.0337e-02,  9.4226e-02]]],\n",
              "              \n",
              "              \n",
              "                      [[[-8.0573e-02,  5.4007e-02,  5.7447e-02],\n",
              "                        [-6.0473e-02, -1.2441e-02, -3.5380e-02],\n",
              "                        [-8.9339e-02, -8.8052e-02, -6.7471e-02]],\n",
              "              \n",
              "                       [[ 2.0038e-02,  6.5865e-02, -2.6989e-02],\n",
              "                        [ 4.4269e-02,  7.1693e-02, -7.0654e-02],\n",
              "                        [-5.7404e-02, -7.1466e-02, -4.0300e-02]],\n",
              "              \n",
              "                       [[-3.3019e-02,  3.8168e-02,  1.0375e-01],\n",
              "                        [ 1.6846e-02,  4.6964e-02,  4.7639e-02],\n",
              "                        [-6.3161e-03,  8.2933e-02,  6.3461e-02]],\n",
              "              \n",
              "                       [[-5.2400e-02, -7.8838e-02, -7.9200e-02],\n",
              "                        [ 7.7507e-02,  1.8192e-02, -9.0779e-02],\n",
              "                        [ 1.6590e-02,  2.2054e-02, -1.0055e-01]],\n",
              "              \n",
              "                       [[-1.6495e-02, -1.0342e-01,  2.6714e-02],\n",
              "                        [-3.7809e-02, -4.1169e-02, -5.7673e-02],\n",
              "                        [-2.2576e-02,  1.0459e-02,  1.1553e-02]],\n",
              "              \n",
              "                       [[-1.5950e-02,  2.5166e-02, -1.0180e-01],\n",
              "                        [ 3.3454e-02, -4.9815e-03,  2.7511e-02],\n",
              "                        [-3.8262e-02,  8.7557e-02,  8.2026e-02]],\n",
              "              \n",
              "                       [[ 7.2298e-02, -7.5493e-02,  9.1244e-02],\n",
              "                        [-6.5084e-02, -2.9381e-02,  9.4345e-02],\n",
              "                        [ 2.1908e-02, -9.7861e-02, -1.3127e-02]],\n",
              "              \n",
              "                       [[-5.7824e-02,  5.2868e-02, -1.0302e-02],\n",
              "                        [ 2.5617e-02, -7.0755e-02,  7.4505e-02],\n",
              "                        [ 2.8015e-02, -1.0293e-01,  9.3448e-02]],\n",
              "              \n",
              "                       [[ 4.2633e-02,  2.6161e-02, -3.1988e-02],\n",
              "                        [-6.9301e-02,  9.1647e-02,  7.2732e-02],\n",
              "                        [-1.0352e-01, -1.7650e-02,  6.4323e-02]],\n",
              "              \n",
              "                       [[ 9.6806e-02, -8.2584e-02,  2.0527e-02],\n",
              "                        [ 9.4108e-02,  4.1649e-02,  8.9507e-02],\n",
              "                        [ 5.6804e-02, -9.0645e-02,  9.2947e-02]]],\n",
              "              \n",
              "              \n",
              "                      [[[-5.5190e-02, -4.4802e-02,  7.9594e-03],\n",
              "                        [ 8.8860e-02, -3.6319e-02,  8.7957e-02],\n",
              "                        [-9.2043e-02,  7.4200e-02, -2.6763e-02]],\n",
              "              \n",
              "                       [[-5.2848e-02,  3.7819e-02, -9.1409e-02],\n",
              "                        [-3.3824e-02,  7.4336e-02,  7.0256e-02],\n",
              "                        [ 4.2207e-02, -9.7384e-02, -1.0203e-01]],\n",
              "              \n",
              "                       [[-1.0339e-01,  9.7597e-02,  6.4287e-02],\n",
              "                        [-4.8209e-02,  2.0681e-02, -2.4727e-02],\n",
              "                        [ 4.4369e-02,  9.1705e-02,  1.7181e-02]],\n",
              "              \n",
              "                       [[-1.0680e-02,  5.0580e-02, -5.7019e-02],\n",
              "                        [ 3.6616e-02, -2.6108e-02, -2.9970e-02],\n",
              "                        [-7.9645e-02,  1.5748e-02, -4.7353e-02]],\n",
              "              \n",
              "                       [[-1.0280e-01,  9.3516e-02,  3.9381e-02],\n",
              "                        [-6.1310e-02,  5.2496e-02, -6.2832e-02],\n",
              "                        [-5.8024e-02, -1.1212e-02, -4.7392e-02]],\n",
              "              \n",
              "                       [[ 5.9932e-02, -3.2913e-02, -1.7411e-02],\n",
              "                        [ 5.2180e-02, -8.9351e-02,  6.0926e-03],\n",
              "                        [ 7.9719e-02,  4.0537e-02,  3.5368e-02]],\n",
              "              \n",
              "                       [[ 1.2767e-02, -5.9456e-02,  9.5687e-02],\n",
              "                        [ 5.9438e-02,  3.5486e-02, -1.4632e-02],\n",
              "                        [ 1.0349e-01,  1.0399e-01, -3.2675e-03]],\n",
              "              \n",
              "                       [[-7.4546e-02,  1.0034e-01, -1.5823e-02],\n",
              "                        [ 9.6263e-02, -5.6452e-03, -6.9683e-02],\n",
              "                        [-9.3609e-02,  7.0604e-03, -5.7220e-02]],\n",
              "              \n",
              "                       [[-5.9935e-02,  3.6901e-02,  3.9535e-02],\n",
              "                        [ 9.3395e-03, -1.0089e-01, -7.0019e-02],\n",
              "                        [ 4.6534e-02,  2.5357e-02, -1.0067e-01]],\n",
              "              \n",
              "                       [[-7.3728e-02, -2.3429e-03, -5.4664e-02],\n",
              "                        [-8.9784e-02, -6.6809e-02,  8.5761e-02],\n",
              "                        [ 6.1447e-02,  8.4186e-02,  8.0816e-02]]],\n",
              "              \n",
              "              \n",
              "                      [[[-2.6224e-03, -5.2186e-05, -9.8932e-02],\n",
              "                        [-6.2497e-02, -3.9800e-02, -4.7727e-02],\n",
              "                        [ 4.1563e-02, -3.8335e-02,  4.4418e-02]],\n",
              "              \n",
              "                       [[ 2.9305e-02, -4.3488e-02, -8.0023e-02],\n",
              "                        [ 1.0496e-01,  4.7938e-02, -8.7778e-02],\n",
              "                        [ 4.8951e-02,  8.1307e-02,  4.7081e-02]],\n",
              "              \n",
              "                       [[-6.1059e-03, -7.0962e-02, -7.0509e-02],\n",
              "                        [-1.1172e-02, -3.2938e-02,  2.3479e-02],\n",
              "                        [ 5.0896e-02,  9.4110e-02, -8.0339e-02]],\n",
              "              \n",
              "                       [[ 3.5948e-03, -7.1930e-02, -6.7860e-02],\n",
              "                        [ 3.5125e-03, -1.0360e-01,  3.0718e-02],\n",
              "                        [-3.4152e-02,  4.2788e-02, -4.6762e-02]],\n",
              "              \n",
              "                       [[-6.1031e-02,  4.6594e-03, -2.4439e-02],\n",
              "                        [ 6.0227e-02,  6.1678e-02,  8.0671e-02],\n",
              "                        [-1.0415e-01, -4.6007e-02,  1.4635e-03]],\n",
              "              \n",
              "                       [[-7.2378e-02,  6.0416e-02, -2.6674e-02],\n",
              "                        [ 9.0978e-02, -4.4744e-02, -3.5739e-02],\n",
              "                        [ 7.5084e-02,  6.2048e-02, -2.2202e-02]],\n",
              "              \n",
              "                       [[-9.6984e-02,  6.3493e-02,  1.0347e-01],\n",
              "                        [ 1.0479e-01, -8.4849e-02, -1.0319e-01],\n",
              "                        [ 7.2325e-04,  1.8592e-02,  5.9784e-02]],\n",
              "              \n",
              "                       [[ 8.5291e-02, -2.7792e-02, -9.2281e-03],\n",
              "                        [ 3.8698e-02,  5.0777e-03,  5.1255e-02],\n",
              "                        [ 3.2375e-02,  4.2773e-02, -2.9012e-02]],\n",
              "              \n",
              "                       [[-8.1730e-02, -2.8917e-02, -4.5370e-02],\n",
              "                        [-8.7830e-02, -4.5258e-02, -6.9635e-02],\n",
              "                        [ 8.7268e-02,  6.4203e-03,  5.8806e-02]],\n",
              "              \n",
              "                       [[-2.1973e-02, -8.0382e-02,  1.0493e-01],\n",
              "                        [-1.0018e-01, -1.2783e-02, -6.6478e-02],\n",
              "                        [-5.8765e-02,  3.2257e-02,  2.0208e-02]]],\n",
              "              \n",
              "              \n",
              "                      [[[-9.5489e-02, -4.0223e-03,  1.0235e-01],\n",
              "                        [ 6.1094e-03,  5.6223e-02,  1.6690e-02],\n",
              "                        [-4.8126e-02,  9.0353e-02, -8.8333e-02]],\n",
              "              \n",
              "                       [[-1.3947e-02, -4.7150e-02, -6.7024e-02],\n",
              "                        [ 7.4129e-02, -7.0002e-02, -7.9142e-02],\n",
              "                        [-7.0184e-02, -5.9733e-02, -2.2165e-02]],\n",
              "              \n",
              "                       [[ 1.3564e-02, -6.6209e-02, -7.4588e-02],\n",
              "                        [ 9.5546e-02, -6.7606e-02,  3.5461e-02],\n",
              "                        [-8.6958e-02, -6.8743e-02,  1.3434e-02]],\n",
              "              \n",
              "                       [[-9.1531e-02,  3.1036e-02,  6.4423e-03],\n",
              "                        [ 2.5691e-02, -6.1866e-02, -1.0262e-01],\n",
              "                        [-1.2185e-02, -5.3181e-02,  1.9133e-02]],\n",
              "              \n",
              "                       [[-3.8969e-03,  2.5246e-02,  2.3048e-02],\n",
              "                        [-2.7684e-02,  9.3101e-02, -1.6647e-02],\n",
              "                        [ 9.4140e-02, -8.3522e-02,  1.0111e-01]],\n",
              "              \n",
              "                       [[-6.9736e-02, -1.0320e-01, -6.6696e-02],\n",
              "                        [-7.5349e-02, -3.1866e-02,  5.3002e-02],\n",
              "                        [-2.4457e-02,  4.9550e-02, -1.3115e-02]],\n",
              "              \n",
              "                       [[ 9.7159e-02, -9.8346e-02,  7.9145e-02],\n",
              "                        [ 1.8819e-02, -7.5557e-02, -7.2752e-02],\n",
              "                        [ 9.8637e-02, -6.4013e-02,  5.7454e-02]],\n",
              "              \n",
              "                       [[-9.9944e-02,  5.6368e-02,  9.7041e-03],\n",
              "                        [-3.4825e-02,  8.9075e-02, -6.4361e-02],\n",
              "                        [-5.2835e-02,  1.2869e-02,  2.5258e-02]],\n",
              "              \n",
              "                       [[ 2.3969e-02,  8.2839e-03,  4.6965e-02],\n",
              "                        [ 6.6625e-02, -2.4732e-02,  9.2962e-02],\n",
              "                        [ 2.4137e-03,  7.4352e-02,  5.4383e-02]],\n",
              "              \n",
              "                       [[ 1.9196e-02,  8.1928e-02, -7.3440e-02],\n",
              "                        [ 7.3295e-02,  1.9900e-02,  3.8920e-02],\n",
              "                        [-8.2580e-02, -1.0336e-02, -5.4687e-02]]],\n",
              "              \n",
              "              \n",
              "                      [[[ 7.4638e-02,  2.8433e-02, -3.7844e-02],\n",
              "                        [-2.7766e-02, -3.0442e-02,  2.5262e-02],\n",
              "                        [ 6.2519e-02, -9.7783e-02, -5.9466e-02]],\n",
              "              \n",
              "                       [[-1.0918e-02,  7.7744e-02, -6.0611e-03],\n",
              "                        [-9.6265e-02,  7.9233e-02,  9.8381e-02],\n",
              "                        [-3.7387e-02,  3.0425e-02,  9.7873e-02]],\n",
              "              \n",
              "                       [[-2.0635e-02,  7.7267e-02, -3.5818e-02],\n",
              "                        [-4.6034e-02, -5.7873e-02,  5.1696e-02],\n",
              "                        [ 5.0106e-02, -9.4191e-02,  6.0418e-02]],\n",
              "              \n",
              "                       [[ 1.0216e-01,  3.2213e-02,  6.4919e-03],\n",
              "                        [-8.2528e-02,  2.2559e-02,  3.8655e-02],\n",
              "                        [-1.0347e-02, -8.0736e-02,  9.8529e-02]],\n",
              "              \n",
              "                       [[-3.9159e-02, -2.8814e-02,  4.2388e-02],\n",
              "                        [-5.5275e-02,  3.5085e-02,  1.5940e-02],\n",
              "                        [-6.5555e-02, -4.6253e-02, -1.0232e-01]],\n",
              "              \n",
              "                       [[-7.3618e-02, -5.4547e-02, -6.1288e-02],\n",
              "                        [-7.7745e-02,  9.0487e-02,  6.5871e-02],\n",
              "                        [ 7.4774e-02, -8.3126e-03, -2.0059e-02]],\n",
              "              \n",
              "                       [[ 1.2233e-02,  7.2318e-02, -8.8664e-02],\n",
              "                        [-5.9466e-02, -7.7884e-03, -5.5880e-02],\n",
              "                        [-6.1953e-02,  7.0358e-02,  1.0142e-01]],\n",
              "              \n",
              "                       [[ 7.3215e-02, -5.1197e-02, -3.0035e-02],\n",
              "                        [-4.5869e-02,  5.0302e-02, -2.0189e-02],\n",
              "                        [ 4.4837e-02, -2.0107e-02, -1.6059e-02]],\n",
              "              \n",
              "                       [[-2.0026e-02, -1.0554e-02, -3.2948e-02],\n",
              "                        [-4.8762e-02,  9.9478e-02, -8.6398e-02],\n",
              "                        [-8.8484e-02,  2.0104e-02,  9.0458e-02]],\n",
              "              \n",
              "                       [[ 2.5307e-02, -8.4992e-02, -2.3115e-02],\n",
              "                        [-6.9115e-02,  5.2066e-02,  9.5033e-02],\n",
              "                        [-4.5787e-04,  3.8359e-03,  5.1168e-05]]]], device='cuda:0')),\n",
              "             ('conv_block_1.2.bias',\n",
              "              tensor([ 0.0525, -0.0904, -0.0719,  0.0362,  0.0622,  0.0311, -0.0894, -0.0198,\n",
              "                      -0.0952, -0.0950], device='cuda:0')),\n",
              "             ('conv_block_2.0.weight',\n",
              "              tensor([[[[-1.0030e-01,  6.9012e-02, -1.1726e-02],\n",
              "                        [-8.4734e-02, -8.7405e-02, -4.8667e-02],\n",
              "                        [-1.5512e-02,  5.1424e-02,  2.0027e-02]],\n",
              "              \n",
              "                       [[-8.4829e-02, -7.8914e-02, -5.8471e-02],\n",
              "                        [-6.2640e-04,  8.5211e-02,  7.8270e-03],\n",
              "                        [ 5.2350e-02,  5.2967e-02, -7.9270e-02]],\n",
              "              \n",
              "                       [[ 7.2574e-02, -1.0087e-01, -2.0382e-02],\n",
              "                        [-3.8602e-02, -2.0051e-02, -2.4782e-02],\n",
              "                        [ 7.8553e-02, -8.3211e-02, -7.7016e-02]],\n",
              "              \n",
              "                       [[-1.0009e-01,  6.7666e-02,  1.6249e-02],\n",
              "                        [-6.9123e-02, -4.4370e-02,  5.7088e-02],\n",
              "                        [-4.1097e-02, -4.7285e-02, -8.0539e-02]],\n",
              "              \n",
              "                       [[ 5.6649e-02,  8.9710e-02, -3.9584e-02],\n",
              "                        [ 7.8081e-02,  7.6156e-02,  8.9826e-02],\n",
              "                        [-8.4513e-02, -8.4651e-02,  2.2802e-02]],\n",
              "              \n",
              "                       [[-1.2790e-02,  5.8144e-04,  1.0102e-01],\n",
              "                        [-3.6991e-02,  5.0845e-02, -2.9812e-03],\n",
              "                        [-3.3537e-02,  2.0533e-02, -6.5576e-02]],\n",
              "              \n",
              "                       [[-9.4110e-02,  9.6801e-02,  1.0472e-01],\n",
              "                        [-1.6715e-02,  6.1654e-02,  6.5338e-02],\n",
              "                        [ 7.8967e-02, -2.9552e-02,  1.0288e-01]],\n",
              "              \n",
              "                       [[-7.2213e-02,  3.6712e-02, -2.3288e-02],\n",
              "                        [ 2.0985e-02,  9.2421e-02,  9.7603e-03],\n",
              "                        [-7.4748e-02, -3.2254e-02, -4.9620e-02]],\n",
              "              \n",
              "                       [[ 2.6743e-02,  8.8000e-03,  7.3987e-02],\n",
              "                        [-7.8177e-02,  1.5403e-02,  1.2019e-03],\n",
              "                        [-2.0260e-02, -2.6999e-02,  1.0030e-01]],\n",
              "              \n",
              "                       [[ 2.6421e-02,  9.2195e-02,  7.7460e-02],\n",
              "                        [-8.8844e-02,  7.7923e-02,  1.0282e-01],\n",
              "                        [ 1.0721e-02, -9.3274e-02,  6.6666e-03]]],\n",
              "              \n",
              "              \n",
              "                      [[[-8.5381e-02,  5.0000e-02,  7.7291e-02],\n",
              "                        [-1.2187e-02,  3.9609e-02,  4.5626e-02],\n",
              "                        [-6.9730e-02,  2.5766e-02,  4.2487e-02]],\n",
              "              \n",
              "                       [[ 4.0005e-02,  9.8305e-02,  6.2928e-02],\n",
              "                        [-3.2503e-02,  1.0504e-02,  2.3323e-02],\n",
              "                        [ 7.2564e-02, -6.6238e-02, -4.9712e-02]],\n",
              "              \n",
              "                       [[-7.8721e-02, -9.3884e-03, -3.8551e-03],\n",
              "                        [-4.9825e-02,  5.3273e-02, -6.9093e-02],\n",
              "                        [ 6.5380e-02,  5.3302e-02, -3.8106e-02]],\n",
              "              \n",
              "                       [[-7.6349e-02,  8.2567e-02,  9.0805e-02],\n",
              "                        [ 4.1257e-02,  5.5751e-02,  7.5441e-02],\n",
              "                        [-6.9351e-02, -1.1657e-03,  2.1771e-02]],\n",
              "              \n",
              "                       [[ 1.0013e-02, -2.4757e-02, -1.7452e-02],\n",
              "                        [-8.4101e-02, -5.0905e-02,  2.5758e-02],\n",
              "                        [ 6.5737e-02,  2.2881e-03, -9.7580e-02]],\n",
              "              \n",
              "                       [[ 2.8996e-02, -9.0464e-02, -9.5751e-06],\n",
              "                        [-6.0459e-02, -2.0503e-02, -5.4242e-02],\n",
              "                        [ 4.0300e-02, -7.4657e-02,  7.4048e-02]],\n",
              "              \n",
              "                       [[ 3.1150e-02,  4.5920e-02,  6.7905e-02],\n",
              "                        [ 1.2735e-02,  1.9774e-02, -3.8007e-02],\n",
              "                        [ 3.0194e-02, -9.3997e-02, -3.6477e-03]],\n",
              "              \n",
              "                       [[-8.0238e-02, -4.8864e-02,  2.9649e-02],\n",
              "                        [ 5.3410e-02,  2.9923e-02,  3.3638e-02],\n",
              "                        [ 7.3627e-02, -3.8178e-02, -4.0003e-03]],\n",
              "              \n",
              "                       [[ 2.3806e-02,  5.3017e-02, -9.4628e-04],\n",
              "                        [-6.3032e-02,  1.7815e-02, -6.1526e-02],\n",
              "                        [-6.3555e-02,  2.0381e-02,  9.7061e-02]],\n",
              "              \n",
              "                       [[ 9.3827e-02, -8.5834e-02, -6.9348e-02],\n",
              "                        [ 3.2304e-02, -7.0623e-02, -5.0377e-02],\n",
              "                        [ 7.4593e-02, -2.1087e-02, -6.6095e-02]]],\n",
              "              \n",
              "              \n",
              "                      [[[ 4.3967e-02,  1.4567e-02,  4.3264e-02],\n",
              "                        [-8.6409e-02, -6.7694e-02, -2.6739e-02],\n",
              "                        [-8.4485e-03,  8.8370e-02, -3.0352e-02]],\n",
              "              \n",
              "                       [[ 6.0716e-02,  7.8249e-02,  4.5998e-02],\n",
              "                        [-9.8659e-02, -5.4300e-02,  2.0354e-04],\n",
              "                        [ 7.3702e-02,  5.8752e-02,  1.0534e-01]],\n",
              "              \n",
              "                       [[-8.1251e-02, -1.0095e-01, -8.5742e-02],\n",
              "                        [ 3.4784e-02, -4.1957e-02,  7.4032e-02],\n",
              "                        [-6.7269e-03,  5.9801e-02, -6.7025e-02]],\n",
              "              \n",
              "                       [[-5.7824e-02,  6.0275e-02, -8.4500e-02],\n",
              "                        [ 4.1414e-03, -3.1731e-02, -1.0458e-01],\n",
              "                        [ 3.0171e-02,  1.5119e-02,  2.4884e-02]],\n",
              "              \n",
              "                       [[-2.1282e-02,  8.2951e-02, -2.4334e-02],\n",
              "                        [ 9.4546e-02,  8.7957e-02, -2.1329e-02],\n",
              "                        [ 6.9484e-02,  8.3264e-02, -4.1328e-02]],\n",
              "              \n",
              "                       [[-1.5547e-02,  7.9953e-02,  5.1320e-02],\n",
              "                        [-5.7111e-02,  8.9957e-02,  6.0184e-02],\n",
              "                        [-9.0200e-02, -6.1137e-02,  4.2924e-02]],\n",
              "              \n",
              "                       [[ 7.4345e-02, -2.7717e-03,  1.0091e-01],\n",
              "                        [-3.9704e-02,  1.3339e-03, -2.7291e-02],\n",
              "                        [ 2.5358e-02, -6.0764e-02,  2.5878e-03]],\n",
              "              \n",
              "                       [[ 4.7615e-02, -2.3302e-03,  2.7206e-02],\n",
              "                        [-1.1646e-02,  8.8839e-02,  6.1386e-02],\n",
              "                        [ 4.5186e-02,  7.4044e-02, -5.3430e-02]],\n",
              "              \n",
              "                       [[-1.0120e-01,  6.7127e-02, -7.0520e-02],\n",
              "                        [-6.7611e-02, -8.4645e-02,  1.3345e-02],\n",
              "                        [-4.9127e-02,  1.8500e-02,  7.5265e-02]],\n",
              "              \n",
              "                       [[ 6.8112e-02, -6.9208e-02, -3.7158e-02],\n",
              "                        [-4.7861e-03, -3.0838e-02, -9.6941e-02],\n",
              "                        [-1.0081e-01,  3.4357e-02, -1.0216e-01]]],\n",
              "              \n",
              "              \n",
              "                      [[[-8.0532e-02,  1.0385e-01,  7.6546e-02],\n",
              "                        [-9.8402e-02, -1.8133e-02,  4.9471e-02],\n",
              "                        [-9.0645e-02, -2.0493e-02,  1.1224e-02]],\n",
              "              \n",
              "                       [[ 2.8535e-02,  9.3537e-02, -2.8468e-02],\n",
              "                        [ 6.1574e-02, -3.9522e-02, -7.3136e-02],\n",
              "                        [ 3.8418e-02,  3.0558e-02,  5.3935e-02]],\n",
              "              \n",
              "                       [[-5.4358e-02, -1.0398e-01,  1.1523e-02],\n",
              "                        [-1.0400e-01, -4.2261e-02, -1.9415e-03],\n",
              "                        [-8.7725e-02, -5.6482e-02,  1.0236e-01]],\n",
              "              \n",
              "                       [[ 5.4331e-02, -5.4497e-02, -7.0930e-02],\n",
              "                        [ 3.3563e-02, -9.4538e-02, -5.7262e-02],\n",
              "                        [-1.0327e-01,  5.4694e-02, -2.4360e-02]],\n",
              "              \n",
              "                       [[ 1.1981e-02, -2.2168e-02, -1.4386e-02],\n",
              "                        [-6.5131e-03,  9.1688e-03,  5.9728e-02],\n",
              "                        [ 1.2909e-02, -8.3612e-02,  5.2202e-02]],\n",
              "              \n",
              "                       [[-7.0638e-02, -5.1806e-02,  1.0335e-01],\n",
              "                        [ 1.8045e-02, -1.0584e-02, -7.8993e-02],\n",
              "                        [ 4.5561e-02,  9.4947e-02, -4.2238e-02]],\n",
              "              \n",
              "                       [[-3.6306e-02, -5.9894e-02, -1.0411e-01],\n",
              "                        [ 7.9799e-02,  4.1433e-03, -1.3129e-02],\n",
              "                        [ 1.8722e-02, -1.7321e-02, -6.6613e-02]],\n",
              "              \n",
              "                       [[ 2.0802e-02,  1.0451e-01,  4.7681e-02],\n",
              "                        [ 4.9223e-02,  4.3134e-02,  5.0675e-02],\n",
              "                        [-5.4925e-03,  6.8025e-02,  8.1472e-02]],\n",
              "              \n",
              "                       [[-1.2944e-02,  1.4682e-02,  2.8777e-02],\n",
              "                        [ 7.4552e-02, -2.1065e-02, -1.4971e-02],\n",
              "                        [ 7.4489e-02,  6.1857e-02, -4.6765e-02]],\n",
              "              \n",
              "                       [[-8.8810e-02,  1.0025e-01,  9.3936e-02],\n",
              "                        [ 6.2156e-02, -3.0625e-02, -1.0417e-01],\n",
              "                        [-3.5639e-02, -1.0292e-01, -7.1471e-02]]],\n",
              "              \n",
              "              \n",
              "                      [[[ 3.6537e-02,  9.5339e-02,  2.3830e-02],\n",
              "                        [ 2.6409e-02,  3.2111e-02, -4.7256e-02],\n",
              "                        [-8.1707e-02, -7.7843e-02, -2.1279e-02]],\n",
              "              \n",
              "                       [[ 2.9409e-02, -2.6728e-03, -8.9517e-02],\n",
              "                        [ 7.7548e-02, -8.8214e-02, -3.8615e-02],\n",
              "                        [-9.6045e-02,  4.8739e-02, -8.4109e-02]],\n",
              "              \n",
              "                       [[-6.5341e-02, -9.6337e-02, -4.1310e-02],\n",
              "                        [-1.2538e-02, -8.7471e-02, -8.0085e-02],\n",
              "                        [ 3.5026e-02,  9.4237e-02,  6.2599e-02]],\n",
              "              \n",
              "                       [[ 1.0754e-02, -7.7449e-02, -5.3533e-03],\n",
              "                        [ 2.2694e-02,  7.2109e-02, -5.6777e-02],\n",
              "                        [-6.1921e-02, -6.2433e-02,  8.4714e-02]],\n",
              "              \n",
              "                       [[ 3.3969e-02, -2.5306e-03, -2.0558e-02],\n",
              "                        [-8.5559e-02,  2.3116e-02, -4.9820e-02],\n",
              "                        [ 6.6234e-02, -6.7810e-02,  9.6866e-02]],\n",
              "              \n",
              "                       [[-5.3440e-02,  4.3536e-02, -8.3786e-02],\n",
              "                        [-7.0383e-02,  7.9775e-02,  6.2104e-02],\n",
              "                        [-2.9706e-02, -6.9763e-02, -2.6668e-02]],\n",
              "              \n",
              "                       [[-8.8194e-02, -1.7619e-02,  1.8982e-02],\n",
              "                        [ 1.7235e-02, -2.0723e-02,  7.1655e-02],\n",
              "                        [-9.5037e-02,  3.5388e-02, -4.5809e-02]],\n",
              "              \n",
              "                       [[ 7.1559e-02, -3.9800e-03,  7.4087e-03],\n",
              "                        [-3.6594e-02,  7.3610e-02,  8.2505e-02],\n",
              "                        [ 7.1778e-02, -6.6700e-02,  2.2479e-02]],\n",
              "              \n",
              "                       [[-1.0153e-01, -7.8258e-02, -8.2085e-02],\n",
              "                        [ 8.8068e-02, -8.0489e-02,  3.0371e-02],\n",
              "                        [-7.7554e-02, -6.7598e-02, -6.7845e-02]],\n",
              "              \n",
              "                       [[ 9.4619e-02,  3.6628e-02,  6.6988e-02],\n",
              "                        [ 8.4984e-02, -7.5966e-02, -4.7825e-02],\n",
              "                        [ 9.5475e-02, -3.0561e-02, -7.4365e-02]]],\n",
              "              \n",
              "              \n",
              "                      [[[ 4.1020e-02, -3.4463e-02,  5.2607e-02],\n",
              "                        [ 7.5835e-03,  6.1177e-02,  4.6049e-02],\n",
              "                        [ 4.5661e-02, -3.9547e-02,  7.4274e-02]],\n",
              "              \n",
              "                       [[ 8.6046e-03, -1.0327e-01,  9.1783e-02],\n",
              "                        [ 2.0642e-02, -4.4180e-02,  2.7794e-02],\n",
              "                        [ 5.9361e-03, -8.3919e-02,  4.3131e-02]],\n",
              "              \n",
              "                       [[ 7.0982e-02, -7.0652e-02,  9.8874e-02],\n",
              "                        [ 8.4271e-02, -1.9278e-02,  1.0424e-02],\n",
              "                        [ 6.7834e-02,  9.9148e-02,  1.8536e-02]],\n",
              "              \n",
              "                       [[-2.9735e-02,  1.6182e-02, -5.2625e-02],\n",
              "                        [ 4.1608e-02,  6.3046e-02,  6.8986e-03],\n",
              "                        [ 6.1292e-02, -3.9872e-02,  8.0169e-02]],\n",
              "              \n",
              "                       [[ 9.4754e-02,  8.1745e-02, -1.0337e-01],\n",
              "                        [ 7.6283e-02,  2.5173e-02, -4.0047e-02],\n",
              "                        [ 4.4436e-02, -7.2173e-02, -6.2935e-02]],\n",
              "              \n",
              "                       [[ 1.2407e-02,  2.0824e-02,  7.3707e-03],\n",
              "                        [ 7.1878e-02, -7.7156e-02, -5.2307e-04],\n",
              "                        [-8.7250e-02, -1.0006e-02,  6.1435e-02]],\n",
              "              \n",
              "                       [[-3.0290e-02, -6.8932e-03, -4.5808e-02],\n",
              "                        [ 6.6679e-02, -4.5484e-02,  3.9254e-02],\n",
              "                        [ 1.7140e-02,  9.1292e-02, -6.1266e-02]],\n",
              "              \n",
              "                       [[ 3.9899e-02,  8.2837e-02, -8.3767e-02],\n",
              "                        [-1.1577e-02,  4.9424e-02, -6.8690e-02],\n",
              "                        [-1.5807e-02, -1.7760e-02,  1.9598e-02]],\n",
              "              \n",
              "                       [[ 8.9450e-02,  8.5373e-02,  9.1041e-02],\n",
              "                        [-9.3633e-02, -7.0041e-02,  5.5478e-02],\n",
              "                        [ 4.5931e-02, -5.3888e-02,  4.2205e-02]],\n",
              "              \n",
              "                       [[ 2.8324e-02, -6.7117e-03, -1.0130e-01],\n",
              "                        [-7.2509e-02,  5.4628e-02, -7.4275e-02],\n",
              "                        [ 1.0141e-01,  8.6586e-02,  4.9959e-03]]],\n",
              "              \n",
              "              \n",
              "                      [[[ 2.6475e-02,  6.0361e-02,  5.9911e-02],\n",
              "                        [ 7.5074e-02,  1.5073e-02,  7.9436e-02],\n",
              "                        [ 8.8251e-02, -6.1740e-02, -1.5283e-02]],\n",
              "              \n",
              "                       [[ 4.9244e-02, -5.6426e-02,  8.2034e-02],\n",
              "                        [ 7.6688e-02,  9.1401e-03, -9.9319e-02],\n",
              "                        [ 6.7083e-02, -4.1523e-02, -1.0438e-01]],\n",
              "              \n",
              "                       [[ 2.1137e-02,  8.6316e-02, -4.6985e-02],\n",
              "                        [-7.2346e-02, -5.8315e-02, -7.0070e-02],\n",
              "                        [ 7.1510e-02,  2.4533e-02,  5.7403e-02]],\n",
              "              \n",
              "                       [[ 6.7691e-02,  2.4944e-02,  4.9450e-03],\n",
              "                        [ 1.0520e-01,  7.4411e-02, -9.7711e-02],\n",
              "                        [-7.4981e-02,  1.0332e-01,  9.0381e-02]],\n",
              "              \n",
              "                       [[ 6.5265e-02, -9.7313e-02,  8.7271e-02],\n",
              "                        [-1.1647e-02,  8.9860e-02,  4.2043e-02],\n",
              "                        [ 4.0459e-02, -1.6734e-02,  2.5746e-02]],\n",
              "              \n",
              "                       [[ 5.7008e-02, -8.0384e-02,  1.8639e-02],\n",
              "                        [ 5.6573e-02,  5.6212e-02,  1.8911e-02],\n",
              "                        [ 5.3277e-02,  6.5408e-02, -8.4978e-02]],\n",
              "              \n",
              "                       [[ 2.5782e-02,  5.7558e-02, -3.7442e-02],\n",
              "                        [-4.7082e-03,  7.2682e-02, -3.0004e-02],\n",
              "                        [ 6.5797e-02, -5.8618e-02, -2.2767e-02]],\n",
              "              \n",
              "                       [[ 6.3999e-02, -8.7753e-02, -3.8689e-02],\n",
              "                        [-8.8097e-03, -8.2280e-02,  7.5501e-02],\n",
              "                        [ 1.1952e-02, -7.5664e-02,  4.5137e-02]],\n",
              "              \n",
              "                       [[-6.6006e-02,  1.1547e-02, -1.0134e-01],\n",
              "                        [-3.1218e-02,  4.1865e-02, -7.3269e-02],\n",
              "                        [ 1.0162e-01,  4.6712e-02,  9.7806e-02]],\n",
              "              \n",
              "                       [[ 1.0537e-02, -4.1131e-02, -6.3812e-02],\n",
              "                        [-1.1007e-02, -2.5666e-02,  5.3697e-02],\n",
              "                        [-5.8582e-02,  7.3871e-03, -2.1065e-02]]],\n",
              "              \n",
              "              \n",
              "                      [[[ 7.1138e-02, -3.2076e-02,  9.0929e-02],\n",
              "                        [-6.4971e-02,  4.7884e-02, -8.1695e-02],\n",
              "                        [-1.9516e-02, -4.6199e-02, -7.1616e-02]],\n",
              "              \n",
              "                       [[ 3.8965e-03,  2.5472e-02,  6.6093e-02],\n",
              "                        [-7.5758e-02, -3.0458e-02,  5.2600e-05],\n",
              "                        [-7.4854e-02,  7.9167e-02, -8.3429e-02]],\n",
              "              \n",
              "                       [[-1.2866e-02,  5.6953e-02,  8.7470e-02],\n",
              "                        [ 1.3325e-03, -8.2927e-02, -1.4540e-02],\n",
              "                        [-6.6886e-02,  9.1380e-02, -1.6707e-02]],\n",
              "              \n",
              "                       [[-1.0386e-01, -1.0099e-02, -4.0702e-02],\n",
              "                        [ 7.0200e-02,  1.0201e-01,  7.9602e-03],\n",
              "                        [ 4.9187e-03, -3.2016e-02, -1.4634e-02]],\n",
              "              \n",
              "                       [[ 6.6558e-02,  7.8396e-02, -2.8182e-02],\n",
              "                        [ 7.3845e-02, -6.9660e-02,  1.6499e-02],\n",
              "                        [ 2.5979e-02, -5.5211e-03, -5.8182e-02]],\n",
              "              \n",
              "                       [[-1.3129e-03, -1.8038e-02,  6.2227e-02],\n",
              "                        [ 8.8372e-03, -4.0846e-02,  1.6851e-02],\n",
              "                        [-1.3731e-02,  7.9507e-02, -1.0425e-02]],\n",
              "              \n",
              "                       [[ 7.2045e-02, -5.7825e-02,  9.0441e-02],\n",
              "                        [-1.1603e-02, -7.9506e-02,  8.8370e-02],\n",
              "                        [ 7.2699e-03,  1.6326e-02, -5.7687e-02]],\n",
              "              \n",
              "                       [[-2.5315e-02,  5.8548e-02,  2.0571e-02],\n",
              "                        [-5.0698e-02, -1.0326e-01,  2.0082e-03],\n",
              "                        [-3.1928e-02, -1.0152e-01, -9.3027e-02]],\n",
              "              \n",
              "                       [[ 7.0462e-02,  4.8378e-02, -4.9415e-02],\n",
              "                        [ 9.6006e-02,  3.9286e-02, -9.1521e-02],\n",
              "                        [ 5.2674e-03,  6.9797e-02, -2.2355e-02]],\n",
              "              \n",
              "                       [[-5.5601e-02,  8.3549e-02,  7.3757e-03],\n",
              "                        [ 5.0258e-02,  3.3480e-02,  2.8009e-02],\n",
              "                        [-2.5260e-02, -4.4676e-03,  5.4201e-02]]],\n",
              "              \n",
              "              \n",
              "                      [[[ 8.5144e-02, -1.7889e-02, -7.6739e-02],\n",
              "                        [ 5.9437e-02, -5.1768e-02,  5.2569e-02],\n",
              "                        [-4.7375e-02,  5.6076e-02,  1.0452e-02]],\n",
              "              \n",
              "                       [[-7.6047e-02, -1.8675e-02,  6.2577e-02],\n",
              "                        [ 7.6896e-03, -6.6841e-02, -2.6525e-02],\n",
              "                        [-1.0518e-01,  1.3622e-02, -9.8672e-02]],\n",
              "              \n",
              "                       [[ 1.0325e-01, -6.8984e-02, -1.4238e-02],\n",
              "                        [-6.3514e-02, -1.0302e-01, -2.7236e-02],\n",
              "                        [-7.0850e-02, -1.0017e-01,  2.5748e-02]],\n",
              "              \n",
              "                       [[-4.3699e-02,  5.8967e-02,  4.4438e-02],\n",
              "                        [ 2.3517e-02, -8.0210e-02,  5.5556e-02],\n",
              "                        [-8.4261e-04, -5.9875e-02, -3.9439e-02]],\n",
              "              \n",
              "                       [[ 6.4765e-02,  9.8813e-02, -5.8076e-02],\n",
              "                        [ 9.7719e-02,  1.9243e-02, -8.0602e-02],\n",
              "                        [-6.5871e-03, -1.5688e-02, -7.8206e-02]],\n",
              "              \n",
              "                       [[-6.0679e-02,  8.2308e-02, -4.5691e-03],\n",
              "                        [ 6.2229e-02, -5.7127e-02, -3.4052e-02],\n",
              "                        [ 6.3784e-02, -6.7844e-02, -9.6815e-02]],\n",
              "              \n",
              "                       [[-7.5676e-02, -9.3510e-02, -9.6571e-02],\n",
              "                        [-1.4376e-02,  9.1001e-02, -6.7703e-02],\n",
              "                        [ 2.0539e-02,  6.9479e-02, -8.6096e-02]],\n",
              "              \n",
              "                       [[ 5.7326e-02, -7.8309e-02, -2.3197e-02],\n",
              "                        [-5.7158e-02,  6.2678e-02,  7.3397e-02],\n",
              "                        [ 9.9872e-02, -1.1557e-02, -8.2132e-02]],\n",
              "              \n",
              "                       [[-8.1076e-02,  7.6528e-02,  9.8334e-02],\n",
              "                        [ 4.3859e-02,  5.7071e-02,  3.7069e-02],\n",
              "                        [ 6.0701e-02,  7.3730e-02,  5.5904e-02]],\n",
              "              \n",
              "                       [[-5.9610e-02,  2.2511e-02,  5.5404e-02],\n",
              "                        [-7.8705e-02,  1.7390e-02,  9.2790e-02],\n",
              "                        [-3.9853e-02,  6.8209e-02, -5.3015e-02]]],\n",
              "              \n",
              "              \n",
              "                      [[[ 6.2846e-02,  2.9561e-02, -1.0240e-01],\n",
              "                        [-9.7579e-02, -1.5993e-02, -2.3877e-02],\n",
              "                        [-4.0593e-02, -1.0345e-01,  4.1471e-02]],\n",
              "              \n",
              "                       [[ 3.3435e-02, -6.8377e-02,  4.3769e-02],\n",
              "                        [ 8.5377e-04,  1.3653e-02,  5.2609e-02],\n",
              "                        [-2.6969e-03, -5.0607e-02,  3.8887e-02]],\n",
              "              \n",
              "                       [[-5.7169e-02, -6.8203e-02,  1.6019e-02],\n",
              "                        [ 4.5891e-02,  1.0538e-01, -7.5047e-02],\n",
              "                        [ 5.1042e-02,  8.9081e-02, -2.0936e-02]],\n",
              "              \n",
              "                       [[-3.1898e-02, -9.3162e-02, -9.1300e-02],\n",
              "                        [ 4.0903e-02, -9.6441e-02, -9.7138e-02],\n",
              "                        [ 4.3417e-02,  5.7045e-02,  3.0071e-02]],\n",
              "              \n",
              "                       [[-9.0431e-02, -3.8438e-02, -3.6002e-02],\n",
              "                        [ 8.9831e-02,  1.0405e-01,  8.2510e-02],\n",
              "                        [ 7.5624e-02,  1.5121e-02, -4.3749e-03]],\n",
              "              \n",
              "                       [[-1.1993e-02, -7.6906e-03,  8.9318e-02],\n",
              "                        [ 7.9369e-02, -3.0191e-03,  9.0646e-02],\n",
              "                        [ 3.2425e-02,  7.0530e-03,  5.8060e-02]],\n",
              "              \n",
              "                       [[ 6.9937e-02,  1.0450e-01, -4.8183e-02],\n",
              "                        [ 9.1441e-02,  5.4270e-02, -3.7714e-02],\n",
              "                        [-3.9603e-02, -1.0018e-01,  5.3484e-02]],\n",
              "              \n",
              "                       [[-1.0069e-01, -5.4067e-02, -8.2085e-02],\n",
              "                        [ 8.9377e-03,  2.6197e-02, -2.1068e-02],\n",
              "                        [ 4.5713e-02, -1.0020e-01,  4.9339e-02]],\n",
              "              \n",
              "                       [[ 2.9358e-02, -9.9474e-02, -4.6348e-03],\n",
              "                        [ 3.4125e-02,  5.0947e-02,  1.0244e-01],\n",
              "                        [-8.3899e-02,  1.2302e-02,  4.4982e-02]],\n",
              "              \n",
              "                       [[ 1.0321e-01, -7.3706e-02, -1.7732e-02],\n",
              "                        [-1.8509e-02,  2.8121e-02, -1.0108e-01],\n",
              "                        [-9.0130e-02,  3.4936e-02,  5.8256e-04]]]], device='cuda:0')),\n",
              "             ('conv_block_2.0.bias',\n",
              "              tensor([ 0.0533, -0.0331,  0.1052, -0.0053,  0.0236,  0.0773, -0.1043, -0.0484,\n",
              "                       0.0979, -0.0695], device='cuda:0')),\n",
              "             ('conv_block_2.2.weight',\n",
              "              tensor([[[[ 9.9035e-02, -6.9443e-02,  7.0308e-02],\n",
              "                        [-6.6091e-02, -6.6667e-02,  9.1336e-02],\n",
              "                        [ 2.0944e-02,  8.5334e-02,  8.5289e-02]],\n",
              "              \n",
              "                       [[ 1.0076e-01,  7.9023e-02, -1.0493e-01],\n",
              "                        [ 5.3509e-03, -1.7019e-02,  7.1052e-02],\n",
              "                        [-6.2479e-02,  2.7947e-02,  5.9778e-02]],\n",
              "              \n",
              "                       [[-3.1437e-02,  9.0488e-02, -9.4033e-02],\n",
              "                        [ 5.3322e-02,  7.4981e-02, -6.7841e-02],\n",
              "                        [ 5.1619e-02,  5.5569e-02,  8.0960e-02]],\n",
              "              \n",
              "                       [[ 1.6466e-03, -8.8214e-02, -9.9144e-02],\n",
              "                        [-1.0437e-01, -7.6099e-02,  3.3942e-02],\n",
              "                        [ 1.0386e-01, -2.6789e-02, -9.9478e-02]],\n",
              "              \n",
              "                       [[-1.0057e-01,  7.5241e-02,  3.1605e-02],\n",
              "                        [ 1.5359e-03, -6.0312e-02,  8.0039e-02],\n",
              "                        [ 1.0193e-01, -4.2092e-04, -1.2927e-02]],\n",
              "              \n",
              "                       [[-4.2562e-02,  1.3818e-02, -7.2519e-02],\n",
              "                        [ 8.4027e-02,  8.3570e-03, -7.7064e-02],\n",
              "                        [ 2.0353e-02, -8.2887e-02,  9.6681e-02]],\n",
              "              \n",
              "                       [[-7.5982e-03, -6.8043e-02,  8.5499e-02],\n",
              "                        [ 8.8814e-02,  1.5688e-02, -5.0406e-02],\n",
              "                        [ 1.7751e-02, -4.3632e-02, -9.8198e-02]],\n",
              "              \n",
              "                       [[-7.5724e-03, -3.2948e-02, -9.4208e-02],\n",
              "                        [ 6.2916e-02,  2.3353e-02,  1.0127e-01],\n",
              "                        [-3.2448e-02, -9.7447e-02,  3.9111e-02]],\n",
              "              \n",
              "                       [[-4.6822e-02, -5.8315e-02, -5.4442e-03],\n",
              "                        [ 6.0676e-02, -3.8782e-03, -2.6594e-02],\n",
              "                        [-7.5398e-02,  9.3216e-02, -7.5938e-02]],\n",
              "              \n",
              "                       [[ 3.3612e-02,  2.8866e-04,  5.0987e-02],\n",
              "                        [ 7.7012e-03, -6.6078e-02,  1.0294e-01],\n",
              "                        [ 9.3450e-02, -1.5461e-02,  4.9101e-02]]],\n",
              "              \n",
              "              \n",
              "                      [[[-1.8422e-02, -6.5055e-03, -1.9682e-02],\n",
              "                        [ 3.3045e-02, -3.0521e-02,  5.7254e-02],\n",
              "                        [-4.3514e-02,  1.7645e-02,  1.8268e-02]],\n",
              "              \n",
              "                       [[ 2.9681e-02,  3.8094e-02,  8.9214e-02],\n",
              "                        [-1.0172e-01,  6.2488e-02, -8.1347e-02],\n",
              "                        [ 7.3590e-02, -7.5405e-02, -3.2277e-02]],\n",
              "              \n",
              "                       [[-9.6319e-02, -1.6435e-02, -1.0209e-01],\n",
              "                        [ 4.2297e-02, -3.9161e-02, -9.1779e-04],\n",
              "                        [ 7.2951e-02,  6.6917e-02, -2.4138e-03]],\n",
              "              \n",
              "                       [[-7.8925e-02, -9.5937e-02, -2.5600e-02],\n",
              "                        [ 3.4510e-03, -7.2984e-02, -1.0536e-01],\n",
              "                        [ 9.7985e-02, -9.1002e-02, -4.1915e-02]],\n",
              "              \n",
              "                       [[ 2.5671e-02,  1.4624e-02, -6.1332e-02],\n",
              "                        [ 3.5015e-02,  1.3517e-02,  8.6275e-02],\n",
              "                        [-7.2322e-02, -7.5207e-02, -8.0052e-02]],\n",
              "              \n",
              "                       [[-8.2248e-03, -4.6981e-02, -4.9230e-02],\n",
              "                        [ 1.0789e-02,  3.2653e-02,  5.9013e-03],\n",
              "                        [-1.6046e-03,  4.3144e-02,  7.4710e-02]],\n",
              "              \n",
              "                       [[ 6.1954e-02,  9.2199e-02,  6.7394e-02],\n",
              "                        [-7.0907e-03,  2.5577e-02,  1.1887e-02],\n",
              "                        [ 1.0379e-01, -2.4452e-02, -2.1874e-02]],\n",
              "              \n",
              "                       [[ 7.9613e-02,  5.9488e-02,  2.6902e-02],\n",
              "                        [ 9.6824e-02, -2.2190e-02, -1.4504e-02],\n",
              "                        [-5.7101e-02, -2.5415e-02,  4.1169e-02]],\n",
              "              \n",
              "                       [[ 5.1333e-02, -7.3238e-02, -1.2253e-02],\n",
              "                        [ 5.1858e-02,  3.1022e-02,  1.4888e-02],\n",
              "                        [-9.7713e-02, -3.9362e-02, -5.4617e-02]],\n",
              "              \n",
              "                       [[-1.6750e-02,  1.0164e-01, -2.7534e-02],\n",
              "                        [-2.4605e-02,  4.2611e-02, -4.5486e-02],\n",
              "                        [-4.3817e-02, -2.9575e-02,  1.6890e-03]]],\n",
              "              \n",
              "              \n",
              "                      [[[-9.1210e-02,  1.4498e-02,  6.9187e-03],\n",
              "                        [ 1.0388e-01, -8.6032e-02, -4.1030e-02],\n",
              "                        [-5.0890e-02,  6.0378e-02,  2.5590e-02]],\n",
              "              \n",
              "                       [[-5.2128e-03, -1.3496e-02, -7.5225e-02],\n",
              "                        [-3.3558e-02,  5.2617e-02,  1.0517e-01],\n",
              "                        [-5.7420e-02, -7.9948e-02,  8.1237e-02]],\n",
              "              \n",
              "                       [[-8.1492e-02,  1.4330e-02,  4.0976e-03],\n",
              "                        [-8.3542e-02, -2.6188e-02, -1.6961e-02],\n",
              "                        [-5.8289e-02,  5.8058e-02,  3.9385e-02]],\n",
              "              \n",
              "                       [[ 7.1417e-02, -5.6318e-03,  1.1344e-02],\n",
              "                        [ 6.2932e-02,  6.0348e-03,  1.9390e-03],\n",
              "                        [-3.4034e-02,  7.8601e-02,  8.6995e-02]],\n",
              "              \n",
              "                       [[ 2.4337e-02, -6.5708e-02,  3.5770e-02],\n",
              "                        [ 2.8339e-02,  6.2711e-02,  5.8347e-02],\n",
              "                        [-5.3533e-02, -1.6724e-02,  3.8460e-02]],\n",
              "              \n",
              "                       [[-8.9718e-02,  7.9250e-02, -3.4279e-02],\n",
              "                        [-4.1516e-02,  9.4552e-02,  2.4947e-02],\n",
              "                        [ 5.8327e-03,  4.4353e-02,  6.6523e-02]],\n",
              "              \n",
              "                       [[-7.5223e-02,  3.8220e-02,  7.2946e-02],\n",
              "                        [-3.6742e-02,  5.0437e-03, -8.8002e-02],\n",
              "                        [-1.2674e-02,  8.5236e-02, -3.2783e-02]],\n",
              "              \n",
              "                       [[-3.0065e-02, -8.4724e-02, -1.7937e-02],\n",
              "                        [-4.3258e-02, -2.5686e-02, -2.6744e-02],\n",
              "                        [-1.4671e-03, -6.8248e-02,  9.1115e-02]],\n",
              "              \n",
              "                       [[ 2.3768e-04,  7.9203e-02, -8.0451e-02],\n",
              "                        [ 1.0409e-01, -9.9679e-02, -3.2112e-02],\n",
              "                        [-2.1146e-02, -7.7229e-02,  1.0174e-01]],\n",
              "              \n",
              "                       [[-2.5699e-02,  8.3564e-02, -3.0374e-02],\n",
              "                        [-8.7766e-02, -7.8788e-02, -7.2080e-02],\n",
              "                        [ 1.0940e-02,  4.9707e-02,  1.4686e-02]]],\n",
              "              \n",
              "              \n",
              "                      [[[-9.2775e-03, -2.7691e-02,  8.1087e-02],\n",
              "                        [-8.3238e-02, -4.6891e-02, -4.9825e-02],\n",
              "                        [-2.7393e-02, -6.0566e-03,  8.0668e-02]],\n",
              "              \n",
              "                       [[-7.7008e-02, -3.6939e-02, -6.3624e-02],\n",
              "                        [ 7.3314e-02,  5.9565e-02, -1.3481e-02],\n",
              "                        [ 4.6905e-02, -6.7325e-03, -8.2333e-02]],\n",
              "              \n",
              "                       [[-1.6225e-02,  4.6338e-02,  3.2485e-02],\n",
              "                        [-8.5664e-02, -6.1655e-02, -1.8707e-02],\n",
              "                        [-3.9958e-02, -2.4623e-02, -9.9165e-03]],\n",
              "              \n",
              "                       [[-3.0182e-02, -3.7221e-03,  3.8195e-02],\n",
              "                        [-1.7538e-02,  8.2103e-04, -2.3324e-02],\n",
              "                        [ 5.8232e-02,  2.3559e-02, -9.4534e-02]],\n",
              "              \n",
              "                       [[-2.8746e-03, -5.3532e-02,  7.3589e-02],\n",
              "                        [-9.7388e-02,  3.5510e-02,  6.5636e-02],\n",
              "                        [-9.9119e-02, -1.0048e-01, -4.4496e-02]],\n",
              "              \n",
              "                       [[ 2.9963e-02,  1.8469e-02,  2.2322e-02],\n",
              "                        [ 2.4282e-02,  4.8310e-02,  3.5763e-02],\n",
              "                        [ 6.0587e-02,  6.0364e-02, -1.7156e-02]],\n",
              "              \n",
              "                       [[ 4.8975e-02,  3.0020e-02,  4.1755e-02],\n",
              "                        [ 8.7704e-02, -7.6518e-02, -1.0454e-01],\n",
              "                        [ 1.8542e-02, -3.6488e-02, -7.2344e-02]],\n",
              "              \n",
              "                       [[-6.2174e-02, -4.2910e-02,  1.6590e-02],\n",
              "                        [-1.0160e-01, -3.6800e-02,  1.7602e-02],\n",
              "                        [-3.6532e-02,  3.8209e-02,  5.1715e-02]],\n",
              "              \n",
              "                       [[-1.0162e-02,  5.9651e-02, -1.8895e-03],\n",
              "                        [ 3.3271e-02, -6.7289e-03,  6.0938e-03],\n",
              "                        [ 3.7658e-02,  1.6672e-02, -1.0149e-01]],\n",
              "              \n",
              "                       [[-8.7734e-02, -9.9303e-02, -1.0520e-01],\n",
              "                        [-2.2772e-02, -7.1470e-02, -1.4225e-02],\n",
              "                        [-8.8633e-02,  6.8464e-02, -1.4212e-02]]],\n",
              "              \n",
              "              \n",
              "                      [[[ 6.9221e-02,  1.0159e-01,  7.2193e-02],\n",
              "                        [-8.1561e-02,  6.8100e-02, -4.0640e-02],\n",
              "                        [ 4.7583e-02,  1.0745e-02, -1.0179e-01]],\n",
              "              \n",
              "                       [[ 5.1272e-02,  6.0545e-02, -3.7790e-02],\n",
              "                        [ 2.8468e-02, -4.8841e-02,  7.6488e-02],\n",
              "                        [ 1.6853e-02,  2.1730e-02, -8.6286e-02]],\n",
              "              \n",
              "                       [[ 1.0498e-01,  1.0000e-02,  6.1586e-02],\n",
              "                        [ 5.5703e-02,  5.2597e-02, -1.0068e-01],\n",
              "                        [-4.9922e-02,  2.0932e-02, -2.8754e-02]],\n",
              "              \n",
              "                       [[-9.3693e-02,  1.8057e-02,  4.4269e-02],\n",
              "                        [ 8.6232e-02,  4.2745e-02,  1.2117e-02],\n",
              "                        [ 2.7341e-03,  3.2146e-02, -9.0243e-02]],\n",
              "              \n",
              "                       [[-6.4709e-02,  1.2247e-02,  2.3374e-02],\n",
              "                        [ 7.9478e-02, -8.7787e-02,  4.1117e-02],\n",
              "                        [ 2.3247e-02,  6.1536e-02, -4.8356e-02]],\n",
              "              \n",
              "                       [[-1.9922e-02,  6.4629e-02,  3.0623e-02],\n",
              "                        [-8.5861e-02,  1.7801e-02,  4.0067e-02],\n",
              "                        [ 5.4168e-03, -8.2373e-02,  7.5272e-02]],\n",
              "              \n",
              "                       [[ 7.4015e-02,  2.2907e-02, -5.9102e-02],\n",
              "                        [-6.1448e-02,  6.9733e-02, -7.4312e-02],\n",
              "                        [-9.3593e-03,  5.0411e-02,  3.0258e-02]],\n",
              "              \n",
              "                       [[-1.8356e-02,  6.6173e-02,  4.2987e-03],\n",
              "                        [ 1.5811e-02, -5.9976e-02, -5.3186e-02],\n",
              "                        [ 3.9874e-03, -6.9064e-03, -3.2865e-02]],\n",
              "              \n",
              "                       [[-6.3748e-02, -1.0020e-01,  3.0007e-02],\n",
              "                        [ 1.8806e-02,  6.7934e-02, -7.6729e-02],\n",
              "                        [ 3.9195e-03, -5.7818e-02, -8.9231e-02]],\n",
              "              \n",
              "                       [[ 4.5270e-02,  1.0610e-02,  8.9121e-02],\n",
              "                        [ 9.2138e-02, -3.4127e-02,  2.2291e-02],\n",
              "                        [-3.0893e-02, -3.5245e-02, -9.3858e-02]]],\n",
              "              \n",
              "              \n",
              "                      [[[-6.5183e-02, -5.0960e-02,  4.9932e-02],\n",
              "                        [ 2.6778e-02,  3.2102e-02, -1.0217e-01],\n",
              "                        [ 9.8233e-02,  8.9485e-02, -9.8629e-04]],\n",
              "              \n",
              "                       [[ 4.2423e-02,  3.1908e-02, -6.9178e-02],\n",
              "                        [-5.9464e-02,  9.4541e-02,  1.0177e-01],\n",
              "                        [-3.6711e-02, -2.7571e-02,  3.8567e-02]],\n",
              "              \n",
              "                       [[-7.9281e-02, -7.5172e-02,  3.2166e-02],\n",
              "                        [ 6.7169e-02, -6.0841e-02, -5.9862e-02],\n",
              "                        [-5.2610e-02, -8.5994e-02,  7.3008e-02]],\n",
              "              \n",
              "                       [[ 9.3686e-02,  9.3316e-02,  2.5640e-02],\n",
              "                        [-1.5082e-02,  5.2776e-02,  1.3374e-02],\n",
              "                        [ 7.0772e-02, -2.5763e-02,  1.8185e-02]],\n",
              "              \n",
              "                       [[-1.0320e-01,  8.7027e-02,  2.6052e-02],\n",
              "                        [ 6.2255e-02,  4.8328e-04,  4.6821e-02],\n",
              "                        [ 1.2453e-05,  5.0371e-03, -5.9413e-02]],\n",
              "              \n",
              "                       [[-2.5238e-02, -1.2935e-02, -4.2962e-02],\n",
              "                        [ 5.4502e-03, -8.1700e-02, -4.2304e-02],\n",
              "                        [-1.0080e-01,  8.9576e-02,  3.4420e-02]],\n",
              "              \n",
              "                       [[ 7.1002e-02,  8.2969e-02,  1.5066e-02],\n",
              "                        [-1.0879e-02,  4.7278e-02,  7.5418e-02],\n",
              "                        [ 3.0293e-02, -1.0112e-01, -4.5821e-02]],\n",
              "              \n",
              "                       [[ 7.7532e-03, -1.6351e-02, -9.7908e-02],\n",
              "                        [ 5.8994e-02, -8.2201e-02, -5.7022e-02],\n",
              "                        [ 1.5377e-02,  2.6265e-02,  3.8108e-02]],\n",
              "              \n",
              "                       [[-7.5897e-02,  2.7332e-02, -1.1035e-03],\n",
              "                        [-4.4817e-02, -8.1327e-03, -5.1152e-02],\n",
              "                        [-7.3415e-02, -6.9441e-02,  7.0330e-02]],\n",
              "              \n",
              "                       [[-2.4233e-02, -1.0348e-01, -2.8453e-02],\n",
              "                        [ 8.9013e-02,  2.9531e-02,  5.6681e-02],\n",
              "                        [-8.2078e-02,  6.6856e-02,  1.0680e-02]]],\n",
              "              \n",
              "              \n",
              "                      [[[-9.6647e-02, -4.8517e-02, -7.6050e-03],\n",
              "                        [-9.8994e-02, -9.7127e-02, -5.4618e-02],\n",
              "                        [ 3.5837e-02, -7.0608e-02, -5.4755e-02]],\n",
              "              \n",
              "                       [[-9.5004e-02, -3.2197e-02,  4.0914e-02],\n",
              "                        [-6.9907e-02,  3.0443e-02, -5.3293e-03],\n",
              "                        [-7.8303e-02, -1.4281e-02, -1.0911e-02]],\n",
              "              \n",
              "                       [[-8.0186e-02,  1.0826e-02,  3.9561e-02],\n",
              "                        [-6.3682e-02,  6.7990e-02,  3.9104e-02],\n",
              "                        [ 9.2358e-02, -2.4257e-02,  1.0286e-01]],\n",
              "              \n",
              "                       [[ 1.8838e-02, -3.9329e-02,  2.1571e-02],\n",
              "                        [-8.8349e-02,  4.9785e-02, -9.1667e-02],\n",
              "                        [ 8.1397e-02, -9.3774e-02, -5.4766e-02]],\n",
              "              \n",
              "                       [[ 9.7702e-02,  4.4675e-02,  8.4845e-02],\n",
              "                        [-4.6529e-02, -3.3478e-02, -3.2665e-02],\n",
              "                        [-1.6937e-02, -2.6547e-03, -7.2957e-02]],\n",
              "              \n",
              "                       [[ 6.9847e-02, -1.0295e-01, -1.5524e-02],\n",
              "                        [-4.8540e-03, -6.9271e-02,  4.6344e-02],\n",
              "                        [ 8.2976e-02, -2.9351e-02,  1.3729e-02]],\n",
              "              \n",
              "                       [[-1.0083e-01, -5.0107e-03, -2.5156e-02],\n",
              "                        [-8.3105e-02, -2.2053e-03,  4.9881e-02],\n",
              "                        [ 8.8266e-02, -2.2028e-02,  2.9193e-02]],\n",
              "              \n",
              "                       [[-6.9472e-02, -3.2850e-03, -4.1296e-02],\n",
              "                        [ 3.4467e-02, -8.5748e-02, -7.7521e-02],\n",
              "                        [-5.7719e-02, -8.7798e-02,  9.9760e-02]],\n",
              "              \n",
              "                       [[-4.4345e-03,  6.5280e-02,  5.5504e-02],\n",
              "                        [-9.8658e-02, -4.5298e-02,  6.4310e-03],\n",
              "                        [ 6.3969e-02,  1.0490e-01,  3.3887e-02]],\n",
              "              \n",
              "                       [[-1.0158e-01,  7.7660e-02, -9.5143e-02],\n",
              "                        [ 6.0262e-02, -7.0906e-02,  1.0255e-01],\n",
              "                        [-1.9940e-02,  1.8483e-02, -6.9183e-03]]],\n",
              "              \n",
              "              \n",
              "                      [[[ 6.7744e-02,  5.9344e-02, -6.7436e-02],\n",
              "                        [-1.4704e-02,  2.2633e-02,  1.9885e-02],\n",
              "                        [ 5.8086e-02,  3.6670e-02,  3.8592e-02]],\n",
              "              \n",
              "                       [[ 2.0548e-02, -1.0740e-03, -6.7074e-03],\n",
              "                        [ 9.5020e-02, -6.5145e-02, -6.9294e-02],\n",
              "                        [-6.6762e-02,  2.1504e-02,  6.7310e-02]],\n",
              "              \n",
              "                       [[-8.4342e-02,  4.4262e-02, -8.2622e-02],\n",
              "                        [ 9.7738e-02, -3.5452e-02,  1.0847e-02],\n",
              "                        [-2.6312e-02,  4.2270e-02, -4.9464e-03]],\n",
              "              \n",
              "                       [[-9.5622e-03, -6.8534e-02, -7.5539e-02],\n",
              "                        [ 3.5176e-02,  4.2538e-02,  2.9195e-02],\n",
              "                        [ 4.7235e-02,  6.9999e-02,  1.6083e-02]],\n",
              "              \n",
              "                       [[ 4.5345e-03, -3.1509e-02, -3.4399e-02],\n",
              "                        [ 9.5378e-03, -8.2790e-02, -7.6761e-03],\n",
              "                        [ 8.5082e-02,  6.9977e-02, -9.5268e-02]],\n",
              "              \n",
              "                       [[ 8.0991e-02,  7.0970e-02,  7.7663e-02],\n",
              "                        [-6.2192e-03,  3.9191e-03, -8.2664e-02],\n",
              "                        [-6.9191e-03, -9.2447e-02, -8.1811e-02]],\n",
              "              \n",
              "                       [[ 6.1377e-03,  6.0266e-02,  7.1465e-02],\n",
              "                        [ 1.8292e-02,  1.0149e-02, -4.5841e-02],\n",
              "                        [-6.3460e-02,  6.7592e-02, -5.9569e-02]],\n",
              "              \n",
              "                       [[ 6.6666e-02,  9.3714e-04, -3.9054e-02],\n",
              "                        [-5.4974e-02,  1.0207e-01, -5.3974e-02],\n",
              "                        [ 4.8591e-02,  4.9520e-02, -6.7768e-02]],\n",
              "              \n",
              "                       [[-1.6454e-02,  6.8194e-02,  2.5070e-02],\n",
              "                        [-9.5930e-02,  4.5428e-02,  5.5548e-02],\n",
              "                        [-8.7299e-02, -9.8329e-02, -9.3377e-02]],\n",
              "              \n",
              "                       [[ 2.1865e-02,  4.0928e-02,  6.0633e-02],\n",
              "                        [ 5.4261e-02, -2.0218e-02, -7.0722e-02],\n",
              "                        [-3.6200e-02, -1.0278e-01, -5.5381e-02]]],\n",
              "              \n",
              "              \n",
              "                      [[[ 1.0359e-01, -2.9128e-02, -5.6801e-02],\n",
              "                        [ 9.2890e-02,  3.9446e-02,  3.2695e-02],\n",
              "                        [ 9.5687e-02, -6.2942e-02, -3.8765e-02]],\n",
              "              \n",
              "                       [[-2.5402e-02, -9.0129e-02, -5.1023e-02],\n",
              "                        [-7.0369e-02, -5.5000e-02, -1.9832e-02],\n",
              "                        [ 4.9161e-02, -5.9061e-02,  5.8157e-02]],\n",
              "              \n",
              "                       [[-6.8640e-02,  1.0258e-01, -5.7303e-03],\n",
              "                        [-7.7239e-02, -5.8157e-02,  1.8585e-02],\n",
              "                        [-8.3240e-02,  1.1818e-02,  1.4151e-02]],\n",
              "              \n",
              "                       [[ 7.7057e-04,  1.9147e-02,  9.7071e-02],\n",
              "                        [-3.5712e-02,  6.2618e-02, -1.3593e-03],\n",
              "                        [ 5.5226e-02, -1.8632e-02, -3.3879e-02]],\n",
              "              \n",
              "                       [[-4.3874e-02,  7.8709e-02,  9.4657e-02],\n",
              "                        [ 3.6361e-02, -7.7500e-02,  5.0794e-02],\n",
              "                        [-9.8123e-02, -3.0720e-02,  8.5536e-02]],\n",
              "              \n",
              "                       [[ 8.1223e-02, -1.5465e-03, -8.1803e-02],\n",
              "                        [-3.6133e-02, -5.5570e-02,  7.8158e-02],\n",
              "                        [-1.0461e-01,  7.0909e-02, -9.4834e-02]],\n",
              "              \n",
              "                       [[ 5.1038e-02,  4.0665e-02, -4.4651e-02],\n",
              "                        [ 9.1484e-03,  9.5264e-02, -1.1996e-02],\n",
              "                        [-6.9622e-02,  4.1097e-02, -6.4296e-02]],\n",
              "              \n",
              "                       [[ 9.1421e-02, -6.1945e-02, -2.3948e-02],\n",
              "                        [ 1.4196e-02,  6.5025e-02, -2.3099e-02],\n",
              "                        [-9.9009e-02,  6.8294e-02,  6.5416e-02]],\n",
              "              \n",
              "                       [[-1.0050e-02,  3.9764e-02, -9.6562e-02],\n",
              "                        [ 2.5399e-02, -1.0199e-01,  2.7506e-02],\n",
              "                        [ 1.3367e-02, -5.3505e-02,  4.0015e-02]],\n",
              "              \n",
              "                       [[ 4.4926e-02,  4.3008e-02, -2.2137e-02],\n",
              "                        [-8.3541e-02, -9.7957e-02,  8.6603e-04],\n",
              "                        [ 8.8543e-02, -7.3971e-02,  2.9550e-02]]],\n",
              "              \n",
              "              \n",
              "                      [[[ 1.0461e-02,  5.9942e-03,  4.2577e-02],\n",
              "                        [ 9.1165e-02, -9.4329e-02, -9.2710e-02],\n",
              "                        [-2.7831e-02,  4.9274e-02, -2.1160e-02]],\n",
              "              \n",
              "                       [[ 1.0550e-02, -8.0782e-02,  8.0474e-02],\n",
              "                        [ 1.0133e-01,  5.3534e-02,  8.9873e-02],\n",
              "                        [ 8.9756e-02,  9.6890e-02, -4.3446e-02]],\n",
              "              \n",
              "                       [[-5.6712e-02, -2.8426e-02,  5.7433e-03],\n",
              "                        [-1.3525e-02,  8.4564e-02,  7.7204e-02],\n",
              "                        [ 8.9943e-02,  4.6934e-02,  4.2204e-02]],\n",
              "              \n",
              "                       [[-7.7238e-02, -1.1754e-02,  2.3141e-02],\n",
              "                        [ 6.2994e-02,  3.6818e-03, -6.0058e-02],\n",
              "                        [ 1.0329e-01,  8.4287e-02,  2.1745e-02]],\n",
              "              \n",
              "                       [[-8.7329e-03,  2.2285e-03,  1.8952e-02],\n",
              "                        [-1.6094e-02,  8.2933e-02, -4.1025e-02],\n",
              "                        [-3.4675e-02, -6.9367e-02,  9.8081e-02]],\n",
              "              \n",
              "                       [[ 5.9621e-02,  7.2288e-02,  8.5397e-02],\n",
              "                        [-2.0207e-02, -6.0634e-02, -8.7177e-02],\n",
              "                        [ 8.7474e-02, -4.7442e-02,  4.5664e-02]],\n",
              "              \n",
              "                       [[-6.7588e-02,  8.6338e-02, -9.1396e-02],\n",
              "                        [-9.2911e-03,  8.9713e-02, -7.0764e-02],\n",
              "                        [-1.3807e-02, -3.0612e-02,  7.0601e-03]],\n",
              "              \n",
              "                       [[-2.4715e-02,  3.8148e-02,  5.3408e-03],\n",
              "                        [ 5.1983e-02,  9.1469e-02,  5.7319e-02],\n",
              "                        [ 9.1037e-02,  7.4170e-02, -7.2097e-02]],\n",
              "              \n",
              "                       [[ 3.5670e-02,  8.4270e-02,  2.0333e-02],\n",
              "                        [-1.0319e-01,  9.6239e-02, -6.5703e-03],\n",
              "                        [-5.2948e-02, -3.0496e-02, -7.5775e-02]],\n",
              "              \n",
              "                       [[-1.0445e-01,  6.0557e-02, -2.0723e-02],\n",
              "                        [ 9.5192e-02,  8.4391e-02, -5.2820e-02],\n",
              "                        [ 6.2885e-04,  4.7851e-02,  3.9710e-02]]]], device='cuda:0')),\n",
              "             ('conv_block_2.2.bias',\n",
              "              tensor([ 0.0403,  0.0700,  0.1019, -0.1031,  0.0849, -0.0386,  0.0133, -0.0742,\n",
              "                       0.0799,  0.0909], device='cuda:0')),\n",
              "             ('classifier.1.weight',\n",
              "              tensor([[-0.0059,  0.0423, -0.0046,  ..., -0.0260,  0.0302, -0.0020],\n",
              "                      [-0.0207, -0.0129,  0.0283,  ..., -0.0138,  0.0437, -0.0329],\n",
              "                      [-0.0352,  0.0343,  0.0311,  ..., -0.0306,  0.0299,  0.0377],\n",
              "                      ...,\n",
              "                      [ 0.0253,  0.0083, -0.0229,  ..., -0.0277,  0.0215,  0.0379],\n",
              "                      [ 0.0137, -0.0452, -0.0260,  ...,  0.0087,  0.0092, -0.0107],\n",
              "                      [ 0.0083, -0.0317,  0.0169,  ...,  0.0191, -0.0334,  0.0125]],\n",
              "                     device='cuda:0')),\n",
              "             ('classifier.1.bias',\n",
              "              tensor([ 0.0094,  0.0424, -0.0094,  0.0146,  0.0393,  0.0369,  0.0450, -0.0216,\n",
              "                      -0.0003, -0.0416], device='cuda:0'))])"
            ]
          },
          "execution_count": 18,
          "metadata": {},
          "output_type": "execute_result"
        }
      ],
      "source": [
        "# Check out the model state dict to find out what patterns our model wants to learn\n",
        "model.state_dict()"
      ]
    },
    {
      "cell_type": "code",
      "execution_count": 19,
      "metadata": {
        "colab": {
          "base_uri": "https://localhost:8080/"
        },
        "id": "AAd-DhBIMQ_N",
        "outputId": "aa33c6a0-ed54-48f0-a46b-1aa8a0742376"
      },
      "outputs": [
        {
          "data": {
            "text/plain": [
              "tensor([[-0.0320, -0.0432,  0.0146,  0.0410, -0.0006, -0.0103,  0.0284, -0.0096,\n",
              "         -0.0362, -0.1134]], device='cuda:0', grad_fn=<AddmmBackward0>)"
            ]
          },
          "execution_count": 19,
          "metadata": {},
          "output_type": "execute_result"
        }
      ],
      "source": [
        "# Try a dummy forward pass to see what shapes our data is\n",
        "dummy_x = torch.rand(size=(1, 28, 28)).unsqueeze(dim=0).to(device)\n",
        "# dummy_x.shape\n",
        "model(dummy_x)"
      ]
    },
    {
      "cell_type": "code",
      "execution_count": 20,
      "metadata": {
        "colab": {
          "base_uri": "https://localhost:8080/"
        },
        "id": "xw4nqMCVN_Jr",
        "outputId": "071ee69e-bc24-403f-c864-84a78f9c7a76"
      },
      "outputs": [
        {
          "data": {
            "text/plain": [
              "torch.Size([1, 10, 7, 7])"
            ]
          },
          "execution_count": 20,
          "metadata": {},
          "output_type": "execute_result"
        }
      ],
      "source": [
        "dummy_x_2 = torch.rand(size=([1, 10, 7, 7]))\n",
        "dummy_x_2.shape"
      ]
    },
    {
      "cell_type": "code",
      "execution_count": 21,
      "metadata": {
        "colab": {
          "base_uri": "https://localhost:8080/"
        },
        "id": "9omFrrBCODLL",
        "outputId": "2cab7078-7338-431f-f1de-b32dd8859ffd"
      },
      "outputs": [
        {
          "data": {
            "text/plain": [
              "torch.Size([1, 490])"
            ]
          },
          "execution_count": 21,
          "metadata": {},
          "output_type": "execute_result"
        }
      ],
      "source": [
        "flatten_layer = nn.Flatten()\n",
        "flatten_layer(dummy_x_2).shape"
      ]
    },
    {
      "cell_type": "markdown",
      "metadata": {
        "id": "sf_3zUr7xlhy"
      },
      "source": [
        "## 9. Train the model you built in exercise 8. for 5 epochs on CPU and GPU and see how long it takes on each."
      ]
    },
    {
      "cell_type": "code",
      "execution_count": 22,
      "metadata": {
        "colab": {
          "base_uri": "https://localhost:8080/",
          "height": 173,
          "referenced_widgets": [
            "f2fb9f5dfbe144caaeff6d95f3ea24b1",
            "bd43d96dea8f4ff2a71037d5c594845d",
            "5171c1cc4aca4737b46b99ed9a7ab9da",
            "00b8d54af39a4ba4bd9e488ecaa37772",
            "49a6ff8d5ce347528577eb3896b425d9",
            "9fbb80c57c814ab6bf0205ba1b1a71e9",
            "4cc05625e0834781b9f65bd31d2f5fb0",
            "faa2697a0c274661886e031ab42e0a04",
            "9cec1b0eee41441899c4d7fb743fa33e",
            "3aa64a1f9a4f4f38b710d2a28b26c19f",
            "a35d16d75b5b4f27b26828af2154a3d5"
          ]
        },
        "id": "j1cCWCIfyB7h",
        "outputId": "113b228a-a192-44b0-98b9-3d15ad060beb"
      },
      "outputs": [
        {
          "name": "stderr",
          "output_type": "stream",
          "text": [
            "/home/famousdeer/Desktop/Programs/Python/Pytorch/.venv/lib/python3.10/site-packages/tqdm/auto.py:21: TqdmWarning: IProgress not found. Please update jupyter and ipywidgets. See https://ipywidgets.readthedocs.io/en/stable/user_install.html\n",
            "  from .autonotebook import tqdm as notebook_tqdm\n",
            " 20%|██        | 1/5 [00:12<00:50, 12.56s/it]"
          ]
        },
        {
          "name": "stdout",
          "output_type": "stream",
          "text": [
            "Epoch: 0 | Loss: 0.276 | Test loss: 0.086\n"
          ]
        },
        {
          "name": "stderr",
          "output_type": "stream",
          "text": [
            " 40%|████      | 2/5 [00:25<00:37, 12.58s/it]"
          ]
        },
        {
          "name": "stdout",
          "output_type": "stream",
          "text": [
            "Epoch: 1 | Loss: 0.073 | Test loss: 0.075\n"
          ]
        },
        {
          "name": "stderr",
          "output_type": "stream",
          "text": [
            " 60%|██████    | 3/5 [00:38<00:25, 12.79s/it]"
          ]
        },
        {
          "name": "stdout",
          "output_type": "stream",
          "text": [
            "Epoch: 2 | Loss: 0.054 | Test loss: 0.046\n"
          ]
        },
        {
          "name": "stderr",
          "output_type": "stream",
          "text": [
            " 80%|████████  | 4/5 [00:51<00:12, 12.88s/it]"
          ]
        },
        {
          "name": "stdout",
          "output_type": "stream",
          "text": [
            "Epoch: 3 | Loss: 0.046 | Test loss: 0.057\n"
          ]
        },
        {
          "name": "stderr",
          "output_type": "stream",
          "text": [
            "100%|██████████| 5/5 [01:03<00:00, 12.73s/it]"
          ]
        },
        {
          "name": "stdout",
          "output_type": "stream",
          "text": [
            "Epoch: 4 | Loss: 0.039 | Test loss: 0.043\n",
            "CPU times: user 6min 20s, sys: 688 ms, total: 6min 21s\n",
            "Wall time: 1min 3s\n"
          ]
        },
        {
          "name": "stderr",
          "output_type": "stream",
          "text": [
            "\n"
          ]
        }
      ],
      "source": [
        "%%time\n",
        "from tqdm.auto import tqdm \n",
        "\n",
        "# Train on CPU\n",
        "model_cpu = MNIST_model(input_shape=1,\n",
        "                        hidden_units=10,\n",
        "                        output_shape=10).to(\"cpu\")\n",
        "\n",
        "# Create a loss function and optimizer\n",
        "loss_fn = nn.CrossEntropyLoss()\n",
        "optimizer = torch.optim.SGD(model_cpu.parameters(), lr=0.1)\n",
        "\n",
        "### Training loop\n",
        "epochs = 5\n",
        "for epoch in tqdm(range(epochs)):\n",
        "  train_loss = 0\n",
        "  for batch, (X, y) in enumerate(train_dataloader):\n",
        "    model_cpu.train()\n",
        "\n",
        "    # Put data on CPU\n",
        "    X, y = X.to(\"cpu\"), y.to(\"cpu\")\n",
        "\n",
        "    # Forward pass\n",
        "    y_pred = model_cpu(X)\n",
        "\n",
        "    # Loss calculation\n",
        "    loss = loss_fn(y_pred, y)\n",
        "    train_loss += loss\n",
        "\n",
        "    # Optimizer zero grad\n",
        "    optimizer.zero_grad()\n",
        "\n",
        "    # Loss backward\n",
        "    loss.backward()\n",
        "\n",
        "    # Step the optimizer\n",
        "    optimizer.step()\n",
        "  \n",
        "  # Adjust train loss for number of batches\n",
        "  train_loss /= len(train_dataloader)\n",
        "\n",
        "  ### Testing loop\n",
        "  test_loss_total = 0\n",
        "\n",
        "  # Put model in eval mode \n",
        "  model_cpu.eval()\n",
        "\n",
        "  # Turn on inference mode\n",
        "  with torch.inference_mode():\n",
        "    for batch, (X_test, y_test) in enumerate(test_dataloader):\n",
        "      # Make sure test data on CPU\n",
        "      X_test, y_test = X_test.to(\"cpu\"), y_test.to(\"cpu\")\n",
        "      test_pred = model_cpu(X_test)\n",
        "      test_loss = loss_fn(test_pred, y_test)\n",
        "\n",
        "      test_loss_total += test_loss\n",
        "    \n",
        "    test_loss_total /= len(test_dataloader)\n",
        "  \n",
        "  # Print out what's happening\n",
        "  print(f\"Epoch: {epoch} | Loss: {train_loss:.3f} | Test loss: {test_loss_total:.3f}\")"
      ]
    },
    {
      "cell_type": "code",
      "execution_count": 23,
      "metadata": {
        "colab": {
          "base_uri": "https://localhost:8080/",
          "height": 173,
          "referenced_widgets": [
            "ac4f9033337a425ab05f963a300af10a",
            "4c2b4be7117d4043b56d6b4e05251d9e",
            "800977f38e5e45f9bb7b8f43fe78ea9c",
            "2f37f541c8f949eab60200d46fbc8b05",
            "8695077763e749559af9cec55f651006",
            "1853564527f045d7bcb510f62b45489f",
            "adf4f0bbf7d44ae3a13b627bd754e421",
            "3913cd7ccbfa4fa29305a7a34c0a6846",
            "61814ca3a0704d0d84cededc512f96a4",
            "17ba6b57f29a42f9a525db0bbe3bdb68",
            "d29972a957884ef0bf2d4ac167eb2218"
          ]
        },
        "id": "0IzzuVLkPE9j",
        "outputId": "15badd9e-676a-4ba4-d472-29fa605cda95"
      },
      "outputs": [
        {
          "name": "stderr",
          "output_type": "stream",
          "text": [
            " 20%|██        | 1/5 [00:07<00:29,  7.31s/it]"
          ]
        },
        {
          "name": "stdout",
          "output_type": "stream",
          "text": [
            "Epoch: 0 | Loss: 0.337 | Test loss: 0.069\n"
          ]
        },
        {
          "name": "stderr",
          "output_type": "stream",
          "text": [
            " 40%|████      | 2/5 [00:14<00:21,  7.28s/it]"
          ]
        },
        {
          "name": "stdout",
          "output_type": "stream",
          "text": [
            "Epoch: 1 | Loss: 0.074 | Test loss: 0.049\n"
          ]
        },
        {
          "name": "stderr",
          "output_type": "stream",
          "text": [
            " 60%|██████    | 3/5 [00:21<00:14,  7.22s/it]"
          ]
        },
        {
          "name": "stdout",
          "output_type": "stream",
          "text": [
            "Epoch: 2 | Loss: 0.056 | Test loss: 0.040\n"
          ]
        },
        {
          "name": "stderr",
          "output_type": "stream",
          "text": [
            " 80%|████████  | 4/5 [00:28<00:07,  7.17s/it]"
          ]
        },
        {
          "name": "stdout",
          "output_type": "stream",
          "text": [
            "Epoch: 3 | Loss: 0.048 | Test loss: 0.034\n"
          ]
        },
        {
          "name": "stderr",
          "output_type": "stream",
          "text": [
            "100%|██████████| 5/5 [00:36<00:00,  7.23s/it]"
          ]
        },
        {
          "name": "stdout",
          "output_type": "stream",
          "text": [
            "Epoch: 4 | Loss: 0.042 | Test loss: 0.035\n",
            "CPU times: user 36.5 s, sys: 76 ms, total: 36.5 s\n",
            "Wall time: 36.1 s\n"
          ]
        },
        {
          "name": "stderr",
          "output_type": "stream",
          "text": [
            "\n"
          ]
        }
      ],
      "source": [
        "%%time\n",
        "from tqdm.auto import tqdm \n",
        "\n",
        "device = \"cuda\" if torch.cuda.is_available() else \"cpu\"\n",
        "\n",
        "# Train on GPU\n",
        "model_gpu = MNIST_model(input_shape=1,\n",
        "                        hidden_units=10,\n",
        "                        output_shape=10).to(device)\n",
        "\n",
        "# Create a loss function and optimizer\n",
        "loss_fn = nn.CrossEntropyLoss()\n",
        "optimizer = torch.optim.SGD(model_gpu.parameters(), lr=0.1)\n",
        "\n",
        "# Training loop\n",
        "epochs = 5\n",
        "for epoch in tqdm(range(epochs)):\n",
        "  train_loss = 0\n",
        "  model_gpu.train()\n",
        "  for batch, (X, y) in enumerate(train_dataloader):\n",
        "    # Put data on target device\n",
        "    X, y = X.to(device), y.to(device)\n",
        "\n",
        "    # Forward pass\n",
        "    y_pred = model_gpu(X)\n",
        "\n",
        "    # Loss calculation\n",
        "    loss = loss_fn(y_pred, y)\n",
        "    train_loss += loss\n",
        "\n",
        "    # Optimizer zero grad\n",
        "    optimizer.zero_grad()\n",
        "\n",
        "    # Loss backward\n",
        "    loss.backward()\n",
        "\n",
        "    # Step the optimizer\n",
        "    optimizer.step()\n",
        "  \n",
        "  # Adjust train loss to number of batches\n",
        "  train_loss /= len(train_dataloader)\n",
        "\n",
        "  ### Testing loop\n",
        "  test_loss_total = 0\n",
        "  # Put model in eval mode and turn on inference mode\n",
        "  model_gpu.eval()\n",
        "  with torch.inference_mode():\n",
        "    for batch, (X_test, y_test) in enumerate(test_dataloader):\n",
        "      # Make sure test data on target device\n",
        "      X_test, y_test = X_test.to(device), y_test.to(device)\n",
        "      \n",
        "      test_pred = model_gpu(X_test)\n",
        "      test_loss = loss_fn(test_pred, y_test)\n",
        "\n",
        "      test_loss_total += test_loss\n",
        "\n",
        "    # Adjust test loss total for number of batches\n",
        "    test_loss_total /= len(test_dataloader)\n",
        "  \n",
        "  # Print out what's happening\n",
        "  print(f\"Epoch: {epoch} | Loss: {train_loss:.3f} | Test loss: {test_loss_total:.3f}\")"
      ]
    },
    {
      "cell_type": "markdown",
      "metadata": {
        "id": "w1CsHhPpxp1w"
      },
      "source": [
        "## 10. Make predictions using your trained model and visualize at least 5 of them comparing the prediciton to the target label."
      ]
    },
    {
      "cell_type": "code",
      "execution_count": 24,
      "metadata": {
        "colab": {
          "base_uri": "https://localhost:8080/",
          "height": 282
        },
        "id": "iVyM5cC6yBkF",
        "outputId": "17f9a80f-1b39-433b-ac33-ca9b9b38a787"
      },
      "outputs": [
        {
          "data": {
            "text/plain": [
              "<matplotlib.image.AxesImage at 0x7f8545136ce0>"
            ]
          },
          "execution_count": 24,
          "metadata": {},
          "output_type": "execute_result"
        },
        {
          "data": {
            "image/png": "[encoded data removed]",
            "text/plain": [
              "<Figure size 640x480 with 1 Axes>"
            ]
          },
          "metadata": {},
          "output_type": "display_data"
        }
      ],
      "source": [
        "# Make predictions with the trained model\n",
        "plt.imshow(test_data[0][0].squeeze(), cmap=\"gray\")"
      ]
    },
    {
      "cell_type": "code",
      "execution_count": 25,
      "metadata": {
        "colab": {
          "base_uri": "https://localhost:8080/"
        },
        "id": "NGide8hMWP17",
        "outputId": "c68b7926-f691-4d46-b3a6-5b8fd3b5b587"
      },
      "outputs": [
        {
          "data": {
            "text/plain": [
              "tensor([7], device='cuda:0')"
            ]
          },
          "execution_count": 25,
          "metadata": {},
          "output_type": "execute_result"
        }
      ],
      "source": [
        "# Logits -> Prediction probabilities -> Prediction labels\n",
        "model_pred_logits = model_gpu(test_data[0][0].unsqueeze(dim=0).to(device)) # make sure image is right shape + on right device\n",
        "model_pred_probs = torch.softmax(model_pred_logits, dim=1)\n",
        "model_pred_label = torch.argmax(model_pred_probs, dim=1)\n",
        "model_pred_label"
      ]
    },
    {
      "cell_type": "code",
      "execution_count": 26,
      "metadata": {
        "colab": {
          "base_uri": "https://localhost:8080/",
          "height": 1000
        },
        "id": "jNCPUtO_Wuj5",
        "outputId": "f5e34b91-c746-4cf4-af5f-7231e9963209"
      },
      "outputs": [
        {
          "data": {
            "image/png": "[encoded data removed]",
            "text/plain": [
              "<Figure size 640x480 with 1 Axes>"
            ]
          },
          "metadata": {},
          "output_type": "display_data"
        },
        {
          "data": {
            "image/png": "[encoded data removed]",
            "text/plain": [
              "<Figure size 640x480 with 1 Axes>"
            ]
          },
          "metadata": {},
          "output_type": "display_data"
        },
        {
          "data": {
            "image/png": "[encoded data removed]",
            "text/plain": [
              "<Figure size 640x480 with 1 Axes>"
            ]
          },
          "metadata": {},
          "output_type": "display_data"
        },
        {
          "data": {
            "image/png": "[encoded data removed]",
            "text/plain": [
              "<Figure size 640x480 with 1 Axes>"
            ]
          },
          "metadata": {},
          "output_type": "display_data"
        },
        {
          "data": {
            "image/png": "[encoded data removed]",
            "text/plain": [
              "<Figure size 640x480 with 1 Axes>"
            ]
          },
          "metadata": {},
          "output_type": "display_data"
        }
      ],
      "source": [
        "num_to_plot = 5 \n",
        "for i in range(num_to_plot):\n",
        "  # Get image and labels from the test data\n",
        "  img = test_data[i][0]\n",
        "  label = test_data[i][1]\n",
        "\n",
        "  # Make prediction on image\n",
        "  model_pred_logits = model_gpu(img.unsqueeze(dim=0).to(device))\n",
        "  model_pred_probs = torch.softmax(model_pred_logits, dim=1)\n",
        "  model_pred_label = torch.argmax(model_pred_probs, dim=1)\n",
        "\n",
        "  # Plot the image and prediction\n",
        "  plt.figure()\n",
        "  plt.imshow(img.squeeze(), cmap=\"gray\")\n",
        "  plt.title(f\"Truth: {label} | Pred: {model_pred_label.cpu().item()}\") \n",
        "  plt.axis(False);"
      ]
    },
    {
      "cell_type": "markdown",
      "metadata": {
        "id": "qQwzqlBWxrpG"
      },
      "source": [
        "## 11. Plot a confusion matrix comparing your model's predictions to the truth labels."
      ]
    },
    {
      "cell_type": "code",
      "execution_count": 27,
      "metadata": {
        "colab": {
          "base_uri": "https://localhost:8080/"
        },
        "id": "CTIlKRqqYF02",
        "outputId": "6d0a28c1-ed59-4305-c47c-67fc0cc27192"
      },
      "outputs": [
        {
          "name": "stdout",
          "output_type": "stream",
          "text": [
            "mlxtend version: 0.22.0\n"
          ]
        }
      ],
      "source": [
        "# See if torchmetrics exists, if not, install it\n",
        "try:\n",
        "    import torchmetrics, mlxtend\n",
        "    print(f\"mlxtend version: {mlxtend.__version__}\")\n",
        "    assert int(mlxtend.__version__.split(\".\")[1]) >= 19, \"mlxtend verison should be 0.19.0 or higher\"\n",
        "except:\n",
        "    !pip install -q torchmetrics -U mlxtend # <- Note: If you're using Google Colab, this may require restarting the runtime\n",
        "    import torchmetrics, mlxtend\n",
        "    print(f\"mlxtend version: {mlxtend.__version__}\")"
      ]
    },
    {
      "cell_type": "code",
      "execution_count": 28,
      "metadata": {
        "colab": {
          "base_uri": "https://localhost:8080/"
        },
        "id": "SqYUDscuYGSd",
        "outputId": "4cf2b146-49bf-446e-e762-0e807696665a"
      },
      "outputs": [
        {
          "name": "stdout",
          "output_type": "stream",
          "text": [
            "0.22.0\n"
          ]
        }
      ],
      "source": [
        "# Import mlxtend upgraded version\n",
        "import mlxtend \n",
        "print(mlxtend.__version__)\n",
        "assert int(mlxtend.__version__.split(\".\")[1]) >= 19 # should be version 0.19.0 or higher"
      ]
    },
    {
      "cell_type": "code",
      "execution_count": 29,
      "metadata": {
        "colab": {
          "base_uri": "https://localhost:8080/",
          "height": 67,
          "referenced_widgets": [
            "fd9be8a0ee5244fa833009d0c531a643",
            "59a28ded11914e88a8d54c8bac21e3a4",
            "6fb3df7d7bec4e92abdf872d4cc50f9c",
            "194f0886026b47b4bc1855151ad97034",
            "b5931a6b638d408f93255db7cd0283bf",
            "11278b21b19f4ec4b163313b42a7c9ef",
            "4bea2e3d735e4c569fc5026bf0e36b9b",
            "f219941b11dd42afba6e5d9fb9be7c4b",
            "829d30f9c02f46358bcc78768fabc3c5",
            "2e97b9ce8eca4a4d8d1b68a5c19fbe11",
            "14ae9f7185124afcab1ca2e38ecbd81b"
          ]
        },
        "id": "8kJO6BqAyBEc",
        "outputId": "1cdebb39-79ff-4114-bf92-c6181f2d15c9"
      },
      "outputs": [
        {
          "name": "stderr",
          "output_type": "stream",
          "text": [
            "313it [00:00, 414.11it/s]\n"
          ]
        },
        {
          "data": {
            "text/plain": [
              "10000"
            ]
          },
          "execution_count": 29,
          "metadata": {},
          "output_type": "execute_result"
        }
      ],
      "source": [
        "# Make predictions across all test data\n",
        "from tqdm.auto import tqdm\n",
        "model_gpu.eval()\n",
        "y_preds = []\n",
        "with torch.inference_mode():\n",
        "  for batch, (X, y) in tqdm(enumerate(test_dataloader)):\n",
        "    # Make sure data on right device\n",
        "    X, y = X.to(device), y.to(device)\n",
        "    # Forward pass\n",
        "    y_pred_logits = model_gpu(X)\n",
        "    # Logits -> Pred probs -> Pred label\n",
        "    y_pred_labels = torch.argmax(torch.softmax(y_pred_logits, dim=1), dim=1)\n",
        "    # Append the labels to the preds list\n",
        "    y_preds.append(y_pred_labels)\n",
        "  y_preds=torch.cat(y_preds).cpu()\n",
        "len(y_preds) "
      ]
    },
    {
      "cell_type": "code",
      "execution_count": 30,
      "metadata": {
        "colab": {
          "base_uri": "https://localhost:8080/"
        },
        "id": "HMs7XPLTZBV4",
        "outputId": "a30674af-3656-47c2-dd18-123533718bd2"
      },
      "outputs": [
        {
          "data": {
            "text/plain": [
              "(tensor([7, 2, 1, 0, 4, 1, 4, 9, 5, 9]),\n",
              " tensor([7, 2, 1, 0, 4, 1, 4, 9, 5, 9]))"
            ]
          },
          "execution_count": 30,
          "metadata": {},
          "output_type": "execute_result"
        }
      ],
      "source": [
        "test_data.targets[:10], y_preds[:10]"
      ]
    },
    {
      "cell_type": "code",
      "execution_count": 31,
      "metadata": {
        "colab": {
          "base_uri": "https://localhost:8080/",
          "height": 472
        },
        "id": "7lK_v2JyZOOG",
        "outputId": "fa17d9a7-dfbc-4485-fb95-ee27d6fb857c"
      },
      "outputs": [
        {
          "data": {
            "image/png": "[encoded data removed]",
            "text/plain": [
              "<Figure size 1000x700 with 1 Axes>"
            ]
          },
          "metadata": {},
          "output_type": "display_data"
        }
      ],
      "source": [
        "from torchmetrics import ConfusionMatrix\n",
        "from mlxtend.plotting import plot_confusion_matrix\n",
        "\n",
        "# Setup confusion matrix \n",
        "confmat = ConfusionMatrix(task=\"multiclass\", num_classes=len(class_names))\n",
        "confmat_tensor = confmat(preds=y_preds,\n",
        "                         target=test_data.targets)\n",
        "\n",
        "# Plot the confusion matrix\n",
        "fix, ax = plot_confusion_matrix(\n",
        "    conf_mat=confmat_tensor.numpy(),\n",
        "    class_names=class_names,\n",
        "    figsize=(10, 7)\n",
        ")"
      ]
    },
    {
      "cell_type": "markdown",
      "metadata": {
        "id": "lj6bDhoWxt2y"
      },
      "source": [
        "## 12. Create a random tensor of shape `[1, 3, 64, 64]` and pass it through a `nn.Conv2d()` layer with various hyperparameter settings (these can be any settings you choose), what do you notice if the `kernel_size` parameter goes up and down?"
      ]
    },
    {
      "cell_type": "code",
      "execution_count": 32,
      "metadata": {
        "colab": {
          "base_uri": "https://localhost:8080/"
        },
        "id": "dXM4LOZpyA1e",
        "outputId": "a213063d-3534-4200-9f3c-6b49a9143186"
      },
      "outputs": [
        {
          "data": {
            "text/plain": [
              "torch.Size([1, 3, 64, 64])"
            ]
          },
          "execution_count": 32,
          "metadata": {},
          "output_type": "execute_result"
        }
      ],
      "source": [
        "random_tensor = torch.rand([1, 3, 64, 64])\n",
        "random_tensor.shape"
      ]
    },
    {
      "cell_type": "code",
      "execution_count": 33,
      "metadata": {
        "colab": {
          "base_uri": "https://localhost:8080/"
        },
        "id": "PcCZ5hLAaS_t",
        "outputId": "bd950d3c-557e-43b1-cd56-70214bef8d50"
      },
      "outputs": [
        {
          "name": "stdout",
          "output_type": "stream",
          "text": [
            "Random tensor original shape: torch.Size([1, 3, 64, 64])\n",
            "Random tensor through conv layer shape: torch.Size([1, 64, 32, 32])\n"
          ]
        }
      ],
      "source": [
        "conv_layer = nn.Conv2d(in_channels=3,\n",
        "                       out_channels=64,\n",
        "                       kernel_size=3,\n",
        "                       stride=2,\n",
        "                       padding=1)\n",
        "\n",
        "print(f\"Random tensor original shape: {random_tensor.shape}\")\n",
        "random_tensor_through_conv_layer = conv_layer(random_tensor)\n",
        "print(f\"Random tensor through conv layer shape: {random_tensor_through_conv_layer.shape}\")"
      ]
    },
    {
      "cell_type": "markdown",
      "metadata": {
        "id": "VHS20cNTxwSi"
      },
      "source": [
        "## 13. Use a model similar to the trained `model_2` from notebook 03 to make predictions on the test [`torchvision.datasets.FashionMNIST`](https://pytorch.org/vision/main/generated/torchvision.datasets.FashionMNIST.html) dataset. \n",
        "* Then plot some predictions where the model was wrong alongside what the label of the image should've been. \n",
        "* After visualing these predictions do you think it's more of a modelling error or a data error? \n",
        "* As in, could the model do better or are the labels of the data too close to each other (e.g. a \"Shirt\" label is too close to \"T-shirt/top\")?"
      ]
    },
    {
      "cell_type": "code",
      "execution_count": 34,
      "metadata": {
        "colab": {
          "base_uri": "https://localhost:8080/"
        },
        "id": "ReWkG-WgRsUy",
        "outputId": "c2e76512-bf34-43ca-952c-d22b71433130"
      },
      "outputs": [
        {
          "data": {
            "text/plain": [
              "(60000, 10000)"
            ]
          },
          "execution_count": 34,
          "metadata": {},
          "output_type": "execute_result"
        }
      ],
      "source": [
        "# Download FashionMNIST train & test\n",
        "from torchvision import datasets\n",
        "from torchvision import transforms\n",
        "\n",
        "fashion_mnist_train = datasets.FashionMNIST(root=\".\",\n",
        "                                            download=True,\n",
        "                                            train=True,\n",
        "                                            transform=transforms.ToTensor())\n",
        "\n",
        "fashion_mnist_test = datasets.FashionMNIST(root=\".\",\n",
        "                                           train=False,\n",
        "                                           download=True,\n",
        "                                           transform=transforms.ToTensor())\n",
        "\n",
        "len(fashion_mnist_train), len(fashion_mnist_test)"
      ]
    },
    {
      "cell_type": "code",
      "execution_count": 35,
      "metadata": {
        "colab": {
          "base_uri": "https://localhost:8080/"
        },
        "id": "l3_dnddgTg7a",
        "outputId": "3a5b43b0-54f8-482f-d540-45a6b9fa9918"
      },
      "outputs": [
        {
          "data": {
            "text/plain": [
              "['T-shirt/top',\n",
              " 'Trouser',\n",
              " 'Pullover',\n",
              " 'Dress',\n",
              " 'Coat',\n",
              " 'Sandal',\n",
              " 'Shirt',\n",
              " 'Sneaker',\n",
              " 'Bag',\n",
              " 'Ankle boot']"
            ]
          },
          "execution_count": 35,
          "metadata": {},
          "output_type": "execute_result"
        }
      ],
      "source": [
        "# Get the class names of the Fashion MNIST dataset\n",
        "fashion_mnist_class_names = fashion_mnist_train.classes\n",
        "fashion_mnist_class_names"
      ]
    },
    {
      "cell_type": "code",
      "execution_count": 36,
      "metadata": {
        "colab": {
          "base_uri": "https://localhost:8080/"
        },
        "id": "xc_QU6yBSCl_",
        "outputId": "adf3c118-0ab3-4526-f450-067ee85ba944"
      },
      "outputs": [
        {
          "data": {
            "text/plain": [
              "(1875, 313)"
            ]
          },
          "execution_count": 36,
          "metadata": {},
          "output_type": "execute_result"
        }
      ],
      "source": [
        "# Turn FashionMNIST datasets into dataloaders\n",
        "from torch.utils.data import DataLoader\n",
        "\n",
        "fashion_mnist_train_dataloader = DataLoader(fashion_mnist_train,\n",
        "                                            batch_size=32,\n",
        "                                            shuffle=True)\n",
        "\n",
        "fashion_mnist_test_dataloader = DataLoader(fashion_mnist_test,\n",
        "                                           batch_size=32,\n",
        "                                           shuffle=False)\n",
        "\n",
        "len(fashion_mnist_train_dataloader), len(fashion_mnist_test_dataloader)"
      ]
    },
    {
      "cell_type": "code",
      "execution_count": 37,
      "metadata": {
        "colab": {
          "base_uri": "https://localhost:8080/"
        },
        "id": "8b3ksFYFx8uc",
        "outputId": "40f2c9e0-3480-45da-b25b-eece397d56b4"
      },
      "outputs": [
        {
          "data": {
            "text/plain": [
              "MNIST_model(\n",
              "  (conv_block_1): Sequential(\n",
              "    (0): Conv2d(1, 10, kernel_size=(3, 3), stride=(1, 1), padding=(1, 1))\n",
              "    (1): ReLU()\n",
              "    (2): Conv2d(10, 10, kernel_size=(3, 3), stride=(1, 1), padding=(1, 1))\n",
              "    (3): ReLU()\n",
              "    (4): MaxPool2d(kernel_size=2, stride=2, padding=0, dilation=1, ceil_mode=False)\n",
              "  )\n",
              "  (conv_block_2): Sequential(\n",
              "    (0): Conv2d(10, 10, kernel_size=(3, 3), stride=(1, 1), padding=(1, 1))\n",
              "    (1): ReLU()\n",
              "    (2): Conv2d(10, 10, kernel_size=(3, 3), stride=(1, 1), padding=(1, 1))\n",
              "    (3): ReLU()\n",
              "    (4): MaxPool2d(kernel_size=2, stride=2, padding=0, dilation=1, ceil_mode=False)\n",
              "  )\n",
              "  (classifier): Sequential(\n",
              "    (0): Flatten(start_dim=1, end_dim=-1)\n",
              "    (1): Linear(in_features=490, out_features=10, bias=True)\n",
              "  )\n",
              ")"
            ]
          },
          "execution_count": 37,
          "metadata": {},
          "output_type": "execute_result"
        }
      ],
      "source": [
        "# model_2 is the same architecture as MNIST_model\n",
        "model_2 = MNIST_model(input_shape=1,\n",
        "                      hidden_units=10,\n",
        "                      output_shape=10).to(device)\n",
        "model_2"
      ]
    },
    {
      "cell_type": "code",
      "execution_count": 38,
      "metadata": {
        "id": "Tu_-5U5nRrew"
      },
      "outputs": [],
      "source": [
        "# Setup loss and optimizer\n",
        "from torch import nn\n",
        "loss_fn = nn.CrossEntropyLoss()\n",
        "optimizer = torch.optim.SGD(model_2.parameters(), lr=0.01)"
      ]
    },
    {
      "cell_type": "code",
      "execution_count": 39,
      "metadata": {
        "colab": {
          "base_uri": "https://localhost:8080/",
          "height": 138,
          "referenced_widgets": [
            "a74d331cd4b24285a55e5a3705f1b68f",
            "e24d41fab6ee49e09997503870813e0a",
            "561e8d9c749b4be0a126db44e263145b",
            "8241d895e996490f9e40f2393f3ee7f9",
            "f9b11b9712c3423784642b7a3597e667",
            "c9b96de5d3b94ed8ae22a956ba81ed23",
            "1a802f281ef24b9ca5949ff3106b88ef",
            "d082717fb8e94afe8a3c129c9b57d3ce",
            "ed1fe3209f9440a38bcfa77b89f5c8ad",
            "430e20b56d344c1d9942e4b50b77be77",
            "c7374c0a769a4dac96ace3670e6800e4"
          ]
        },
        "id": "jZfVpOXDS89v",
        "outputId": "12dc664e-535e-4e81-9e28-5b606ee77c11"
      },
      "outputs": [
        {
          "name": "stderr",
          "output_type": "stream",
          "text": [
            " 20%|██        | 1/5 [00:08<00:34,  8.59s/it]"
          ]
        },
        {
          "name": "stdout",
          "output_type": "stream",
          "text": [
            "Epoch: 0 | Train loss: 1.418 | Train acc: 0.49 | Test loss: 183.501 | Test acc: 0.79\n"
          ]
        },
        {
          "name": "stderr",
          "output_type": "stream",
          "text": [
            " 40%|████      | 2/5 [00:17<00:25,  8.54s/it]"
          ]
        },
        {
          "name": "stdout",
          "output_type": "stream",
          "text": [
            "Epoch: 1 | Train loss: 0.513 | Train acc: 0.81 | Test loss: 153.066 | Test acc: 0.82\n"
          ]
        },
        {
          "name": "stderr",
          "output_type": "stream",
          "text": [
            " 60%|██████    | 3/5 [00:25<00:17,  8.62s/it]"
          ]
        },
        {
          "name": "stdout",
          "output_type": "stream",
          "text": [
            "Epoch: 2 | Train loss: 0.443 | Train acc: 0.84 | Test loss: 141.478 | Test acc: 0.84\n"
          ]
        },
        {
          "name": "stderr",
          "output_type": "stream",
          "text": [
            " 80%|████████  | 4/5 [00:34<00:08,  8.72s/it]"
          ]
        },
        {
          "name": "stdout",
          "output_type": "stream",
          "text": [
            "Epoch: 3 | Train loss: 0.404 | Train acc: 0.86 | Test loss: 126.265 | Test acc: 0.85\n"
          ]
        },
        {
          "name": "stderr",
          "output_type": "stream",
          "text": [
            "100%|██████████| 5/5 [00:43<00:00,  8.68s/it]"
          ]
        },
        {
          "name": "stdout",
          "output_type": "stream",
          "text": [
            "Epoch: 4 | Train loss: 0.376 | Train acc: 0.87 | Test loss: 122.802 | Test acc: 0.86\n"
          ]
        },
        {
          "name": "stderr",
          "output_type": "stream",
          "text": [
            "\n"
          ]
        }
      ],
      "source": [
        "# Setup metrics\n",
        "from tqdm.auto import tqdm\n",
        "from torchmetrics import Accuracy\n",
        "\n",
        "acc_fn = Accuracy(task='multiclass',num_classes=len(fashion_mnist_class_names)).to(device) \n",
        "\n",
        "# Setup training/testing loop\n",
        "epochs = 5\n",
        "for epoch in tqdm(range(epochs)):\n",
        "  train_loss, test_loss_total = 0, 0\n",
        "  train_acc, test_acc = 0, 0 \n",
        "\n",
        "  ### Training\n",
        "  model_2.train()\n",
        "  for batch, (X_train, y_train) in enumerate(fashion_mnist_train_dataloader):\n",
        "    X_train, y_train = X_train.to(device), y_train.to(device)\n",
        "\n",
        "    # Forward pass and loss\n",
        "    y_pred = model_2(X_train)\n",
        "    loss = loss_fn(y_pred, y_train)\n",
        "    train_loss += loss\n",
        "    train_acc += acc_fn(y_pred, y_train)\n",
        "\n",
        "    # Backprop and gradient descent\n",
        "    optimizer.zero_grad()\n",
        "    loss.backward() \n",
        "    optimizer.step()\n",
        "\n",
        "  # Adjust the loss/acc (find the loss/acc per epoch)\n",
        "  train_loss /= len(fashion_mnist_train_dataloader)\n",
        "  train_acc /= len(fashion_mnist_train_dataloader)\n",
        "\n",
        "  ### Testing\n",
        "  model_2.eval()\n",
        "  with torch.inference_mode():\n",
        "    for batch, (X_test, y_test) in enumerate(fashion_mnist_test_dataloader):\n",
        "      X_test, y_test = X_test.to(device), y_test.to(device)\n",
        "\n",
        "      # Forward pass and loss\n",
        "      y_pred_test = model_2(X_test)\n",
        "      test_loss = loss_fn(y_pred_test, y_test)\n",
        "      test_loss_total += test_loss\n",
        "\n",
        "      test_acc += acc_fn(y_pred_test, y_test)\n",
        "  \n",
        "    # Adjust the loss/acc (find the loss/acc per epoch)\n",
        "    test_loss /= len(fashion_mnist_test_dataloader)\n",
        "    test_acc /= len(fashion_mnist_test_dataloader)\n",
        "    \n",
        "  # Print out what's happening\n",
        "  print(f\"Epoch: {epoch} | Train loss: {train_loss:.3f} | Train acc: {train_acc:.2f} | Test loss: {test_loss_total:.3f} | Test acc: {test_acc:.2f}\")"
      ]
    },
    {
      "cell_type": "code",
      "execution_count": 40,
      "metadata": {
        "colab": {
          "base_uri": "https://localhost:8080/",
          "height": 67,
          "referenced_widgets": [
            "671a67e7a2a94007bfb337e0a3f20ca7",
            "61e487bf20834fbb889f25cb5d46e311",
            "139588c346c042f8a5f67722166cd6b7",
            "1820ad9809494ec1a755344245e91dda",
            "6050da7f27f747e58ee98250544bad03",
            "091a2fc4fc9b4e9c8e683d2a04f01073",
            "637a295bd69f412788f6073065a18934",
            "e6a2483643c3481ea529538b8c86b8f3",
            "b452afd37618427a801b35a9a6b0b310",
            "f88e19b433254b69a26a08378073a6ca",
            "198d76ef4b0c4cc7809b3a99b969f2f7"
          ]
        },
        "id": "-fc0k8R6TG7d",
        "outputId": "02ff70d1-e56e-41f4-94d5-66648d8459fd"
      },
      "outputs": [
        {
          "name": "stderr",
          "output_type": "stream",
          "text": [
            "100%|██████████| 313/313 [00:00<00:00, 433.54it/s]\n"
          ]
        },
        {
          "data": {
            "text/plain": [
              "(tensor([9, 2, 1, 1, 0, 1, 4, 6, 5, 7]), 10000)"
            ]
          },
          "execution_count": 40,
          "metadata": {},
          "output_type": "execute_result"
        }
      ],
      "source": [
        "# Make predictions with trained model_2\n",
        "test_preds = []\n",
        "model_2.eval()\n",
        "with torch.inference_mode():\n",
        "  for X_test, y_test in tqdm(fashion_mnist_test_dataloader):\n",
        "    y_logits = model_2(X_test.to(device))\n",
        "    y_pred_probs = torch.softmax(y_logits, dim=1)\n",
        "    y_pred_labels = torch.argmax(y_pred_probs, dim=1)\n",
        "    test_preds.append(y_pred_labels)\n",
        "test_preds = torch.cat(test_preds).cpu() # matplotlib likes CPU\n",
        "test_preds[:10], len(test_preds)    "
      ]
    },
    {
      "cell_type": "code",
      "execution_count": 41,
      "metadata": {
        "colab": {
          "base_uri": "https://localhost:8080/"
        },
        "id": "A17UvsvHW6Mf",
        "outputId": "e9acdb76-5439-4a10-9e86-2aa186228e83"
      },
      "outputs": [
        {
          "data": {
            "text/plain": [
              "1377"
            ]
          },
          "execution_count": 41,
          "metadata": {},
          "output_type": "execute_result"
        }
      ],
      "source": [
        "# Get wrong prediction indexes\n",
        "import numpy as np\n",
        "wrong_pred_indexes = np.where(test_preds != fashion_mnist_test.targets)[0]\n",
        "len(wrong_pred_indexes)"
      ]
    },
    {
      "cell_type": "code",
      "execution_count": 42,
      "metadata": {
        "colab": {
          "base_uri": "https://localhost:8080/",
          "height": 591
        },
        "id": "AW5qlA7gXMrI",
        "outputId": "572d5356-68c1-44a3-e3a4-4e20327cff52"
      },
      "outputs": [
        {
          "data": {
            "image/png": "[encoded data removed]",
            "text/plain": [
              "<Figure size 1000x1000 with 9 Axes>"
            ]
          },
          "metadata": {},
          "output_type": "display_data"
        }
      ],
      "source": [
        "# Select random 9 wrong predictions and plot them\n",
        "import random\n",
        "random_selection = random.sample(list(wrong_pred_indexes), k=9)\n",
        "\n",
        "plt.figure(figsize=(10, 10))\n",
        "for i, idx in enumerate(random_selection):\n",
        "  # Get true and pred labels\n",
        "  true_label = fashion_mnist_class_names[fashion_mnist_test[idx][1]]\n",
        "  pred_label = fashion_mnist_class_names[test_preds[idx]]\n",
        "\n",
        "  # Plot the wrong prediction with its original label\n",
        "  plt.subplot(3, 3, i+1)\n",
        "  plt.imshow(fashion_mnist_test[idx][0].squeeze(), cmap=\"gray\")\n",
        "  plt.title(f\"True: {true_label} | Pred: {pred_label}\", c=\"r\")\n",
        "  plt.axis(False);"
      ]
    },
    {
      "cell_type": "markdown",
      "metadata": {
        "id": "xoDfh-fKXtyU"
      },
      "source": [
        "From the look of some of these predictions, the model is getting about as confused as I would...\n",
        "\n",
        "For example it predicts \"Sneaker\" instead of \"Sandal\" when it could have easily been a \"Sneaker\".\n",
        "\n",
        "The same goes for the confusion between the classes of \"T-shirt/top\" and \"Shirt\", many of the examples here look similar."
      ]
    }
  ],
  "metadata": {
    "accelerator": "GPU",
    "colab": {
      "authorship_tag": "ABX9TyOnW8A8G3kaKJ58HLc6IXYQ",
      "collapsed_sections": [],
      "include_colab_link": true,
      "name": "03_pytorch_computer_vision_exercise_solutions.ipynb",
      "provenance": []
    },
    "kernelspec": {
      "display_name": "Python 3",
      "name": "python3"
    },
    "language_info": {
      "codemirror_mode": {
        "name": "ipython",
        "version": 3
      },
      "file_extension": ".py",
      "mimetype": "text/x-python",
      "name": "python",
      "nbconvert_exporter": "python",
      "pygments_lexer": "ipython3",
      "version": "3.10.6"
    },
    "widgets": {
      "application/vnd.jupyter.widget-state+json": {
        "00b8d54af39a4ba4bd9e488ecaa37772": {
          "model_module": "@jupyter-widgets/controls",
          "model_module_version": "1.5.0",
          "model_name": "HTMLModel",
          "state": {
            "_dom_classes": [],
            "_model_module": "@jupyter-widgets/controls",
            "_model_module_version": "1.5.0",
            "_model_name": "HTMLModel",
            "_view_count": null,
            "_view_module": "@jupyter-widgets/controls",
            "_view_module_version": "1.5.0",
            "_view_name": "HTMLView",
            "description": "",
            "description_tooltip": null,
            "layout": "IPY_MODEL_3aa64a1f9a4f4f38b710d2a28b26c19f",
            "placeholder": "​",
            "style": "IPY_MODEL_a35d16d75b5b4f27b26828af2154a3d5",
            "value": " 5/5 [03:28&lt;00:00, 41.05s/it]"
          }
        },
        "091a2fc4fc9b4e9c8e683d2a04f01073": {
          "model_module": "@jupyter-widgets/base",
          "model_module_version": "1.2.0",
          "model_name": "LayoutModel",
          "state": {
            "_model_module": "@jupyter-widgets/base",
            "_model_module_version": "1.2.0",
            "_model_name": "LayoutModel",
            "_view_count": null,
            "_view_module": "@jupyter-widgets/base",
            "_view_module_version": "1.2.0",
            "_view_name": "LayoutView",
            "align_content": null,
            "align_items": null,
            "align_self": null,
            "border": null,
            "bottom": null,
            "display": null,
            "flex": null,
            "flex_flow": null,
            "grid_area": null,
            "grid_auto_columns": null,
            "grid_auto_flow": null,
            "grid_auto_rows": null,
            "grid_column": null,
            "grid_gap": null,
            "grid_row": null,
            "grid_template_areas": null,
            "grid_template_columns": null,
            "grid_template_rows": null,
            "height": null,
            "justify_content": null,
            "justify_items": null,
            "left": null,
            "margin": null,
            "max_height": null,
            "max_width": null,
            "min_height": null,
            "min_width": null,
            "object_fit": null,
            "object_position": null,
            "order": null,
            "overflow": null,
            "overflow_x": null,
            "overflow_y": null,
            "padding": null,
            "right": null,
            "top": null,
            "visibility": null,
            "width": null
          }
        },
        "11278b21b19f4ec4b163313b42a7c9ef": {
          "model_module": "@jupyter-widgets/base",
          "model_module_version": "1.2.0",
          "model_name": "LayoutModel",
          "state": {
            "_model_module": "@jupyter-widgets/base",
            "_model_module_version": "1.2.0",
            "_model_name": "LayoutModel",
            "_view_count": null,
            "_view_module": "@jupyter-widgets/base",
            "_view_module_version": "1.2.0",
            "_view_name": "LayoutView",
            "align_content": null,
            "align_items": null,
            "align_self": null,
            "border": null,
            "bottom": null,
            "display": null,
            "flex": null,
            "flex_flow": null,
            "grid_area": null,
            "grid_auto_columns": null,
            "grid_auto_flow": null,
            "grid_auto_rows": null,
            "grid_column": null,
            "grid_gap": null,
            "grid_row": null,
            "grid_template_areas": null,
            "grid_template_columns": null,
            "grid_template_rows": null,
            "height": null,
            "justify_content": null,
            "justify_items": null,
            "left": null,
            "margin": null,
            "max_height": null,
            "max_width": null,
            "min_height": null,
            "min_width": null,
            "object_fit": null,
            "object_position": null,
            "order": null,
            "overflow": null,
            "overflow_x": null,
            "overflow_y": null,
            "padding": null,
            "right": null,
            "top": null,
            "visibility": null,
            "width": null
          }
        },
        "139588c346c042f8a5f67722166cd6b7": {
          "model_module": "@jupyter-widgets/controls",
          "model_module_version": "1.5.0",
          "model_name": "FloatProgressModel",
          "state": {
            "_dom_classes": [],
            "_model_module": "@jupyter-widgets/controls",
            "_model_module_version": "1.5.0",
            "_model_name": "FloatProgressModel",
            "_view_count": null,
            "_view_module": "@jupyter-widgets/controls",
            "_view_module_version": "1.5.0",
            "_view_name": "ProgressView",
            "bar_style": "success",
            "description": "",
            "description_tooltip": null,
            "layout": "IPY_MODEL_e6a2483643c3481ea529538b8c86b8f3",
            "max": 313,
            "min": 0,
            "orientation": "horizontal",
            "style": "IPY_MODEL_b452afd37618427a801b35a9a6b0b310",
            "value": 313
          }
        },
        "14ae9f7185124afcab1ca2e38ecbd81b": {
          "model_module": "@jupyter-widgets/controls",
          "model_module_version": "1.5.0",
          "model_name": "DescriptionStyleModel",
          "state": {
            "_model_module": "@jupyter-widgets/controls",
            "_model_module_version": "1.5.0",
            "_model_name": "DescriptionStyleModel",
            "_view_count": null,
            "_view_module": "@jupyter-widgets/base",
            "_view_module_version": "1.2.0",
            "_view_name": "StyleView",
            "description_width": ""
          }
        },
        "17ba6b57f29a42f9a525db0bbe3bdb68": {
          "model_module": "@jupyter-widgets/base",
          "model_module_version": "1.2.0",
          "model_name": "LayoutModel",
          "state": {
            "_model_module": "@jupyter-widgets/base",
            "_model_module_version": "1.2.0",
            "_model_name": "LayoutModel",
            "_view_count": null,
            "_view_module": "@jupyter-widgets/base",
            "_view_module_version": "1.2.0",
            "_view_name": "LayoutView",
            "align_content": null,
            "align_items": null,
            "align_self": null,
            "border": null,
            "bottom": null,
            "display": null,
            "flex": null,
            "flex_flow": null,
            "grid_area": null,
            "grid_auto_columns": null,
            "grid_auto_flow": null,
            "grid_auto_rows": null,
            "grid_column": null,
            "grid_gap": null,
            "grid_row": null,
            "grid_template_areas": null,
            "grid_template_columns": null,
            "grid_template_rows": null,
            "height": null,
            "justify_content": null,
            "justify_items": null,
            "left": null,
            "margin": null,
            "max_height": null,
            "max_width": null,
            "min_height": null,
            "min_width": null,
            "object_fit": null,
            "object_position": null,
            "order": null,
            "overflow": null,
            "overflow_x": null,
            "overflow_y": null,
            "padding": null,
            "right": null,
            "top": null,
            "visibility": null,
            "width": null
          }
        },
        "1820ad9809494ec1a755344245e91dda": {
          "model_module": "@jupyter-widgets/controls",
          "model_module_version": "1.5.0",
          "model_name": "HTMLModel",
          "state": {
            "_dom_classes": [],
            "_model_module": "@jupyter-widgets/controls",
            "_model_module_version": "1.5.0",
            "_model_name": "HTMLModel",
            "_view_count": null,
            "_view_module": "@jupyter-widgets/controls",
            "_view_module_version": "1.5.0",
            "_view_name": "HTMLView",
            "description": "",
            "description_tooltip": null,
            "layout": "IPY_MODEL_f88e19b433254b69a26a08378073a6ca",
            "placeholder": "​",
            "style": "IPY_MODEL_198d76ef4b0c4cc7809b3a99b969f2f7",
            "value": " 313/313 [00:00&lt;00:00, 325.62it/s]"
          }
        },
        "1853564527f045d7bcb510f62b45489f": {
          "model_module": "@jupyter-widgets/base",
          "model_module_version": "1.2.0",
          "model_name": "LayoutModel",
          "state": {
            "_model_module": "@jupyter-widgets/base",
            "_model_module_version": "1.2.0",
            "_model_name": "LayoutModel",
            "_view_count": null,
            "_view_module": "@jupyter-widgets/base",
            "_view_module_version": "1.2.0",
            "_view_name": "LayoutView",
            "align_content": null,
            "align_items": null,
            "align_self": null,
            "border": null,
            "bottom": null,
            "display": null,
            "flex": null,
            "flex_flow": null,
            "grid_area": null,
            "grid_auto_columns": null,
            "grid_auto_flow": null,
            "grid_auto_rows": null,
            "grid_column": null,
            "grid_gap": null,
            "grid_row": null,
            "grid_template_areas": null,
            "grid_template_columns": null,
            "grid_template_rows": null,
            "height": null,
            "justify_content": null,
            "justify_items": null,
            "left": null,
            "margin": null,
            "max_height": null,
            "max_width": null,
            "min_height": null,
            "min_width": null,
            "object_fit": null,
            "object_position": null,
            "order": null,
            "overflow": null,
            "overflow_x": null,
            "overflow_y": null,
            "padding": null,
            "right": null,
            "top": null,
            "visibility": null,
            "width": null
          }
        },
        "194f0886026b47b4bc1855151ad97034": {
          "model_module": "@jupyter-widgets/controls",
          "model_module_version": "1.5.0",
          "model_name": "HTMLModel",
          "state": {
            "_dom_classes": [],
            "_model_module": "@jupyter-widgets/controls",
            "_model_module_version": "1.5.0",
            "_model_name": "HTMLModel",
            "_view_count": null,
            "_view_module": "@jupyter-widgets/controls",
            "_view_module_version": "1.5.0",
            "_view_name": "HTMLView",
            "description": "",
            "description_tooltip": null,
            "layout": "IPY_MODEL_2e97b9ce8eca4a4d8d1b68a5c19fbe11",
            "placeholder": "​",
            "style": "IPY_MODEL_14ae9f7185124afcab1ca2e38ecbd81b",
            "value": " 313/? [00:01&lt;00:00, 322.62it/s]"
          }
        },
        "198d76ef4b0c4cc7809b3a99b969f2f7": {
          "model_module": "@jupyter-widgets/controls",
          "model_module_version": "1.5.0",
          "model_name": "DescriptionStyleModel",
          "state": {
            "_model_module": "@jupyter-widgets/controls",
            "_model_module_version": "1.5.0",
            "_model_name": "DescriptionStyleModel",
            "_view_count": null,
            "_view_module": "@jupyter-widgets/base",
            "_view_module_version": "1.2.0",
            "_view_name": "StyleView",
            "description_width": ""
          }
        },
        "1a802f281ef24b9ca5949ff3106b88ef": {
          "model_module": "@jupyter-widgets/controls",
          "model_module_version": "1.5.0",
          "model_name": "DescriptionStyleModel",
          "state": {
            "_model_module": "@jupyter-widgets/controls",
            "_model_module_version": "1.5.0",
            "_model_name": "DescriptionStyleModel",
            "_view_count": null,
            "_view_module": "@jupyter-widgets/base",
            "_view_module_version": "1.2.0",
            "_view_name": "StyleView",
            "description_width": ""
          }
        },
        "2e97b9ce8eca4a4d8d1b68a5c19fbe11": {
          "model_module": "@jupyter-widgets/base",
          "model_module_version": "1.2.0",
          "model_name": "LayoutModel",
          "state": {
            "_model_module": "@jupyter-widgets/base",
            "_model_module_version": "1.2.0",
            "_model_name": "LayoutModel",
            "_view_count": null,
            "_view_module": "@jupyter-widgets/base",
            "_view_module_version": "1.2.0",
            "_view_name": "LayoutView",
            "align_content": null,
            "align_items": null,
            "align_self": null,
            "border": null,
            "bottom": null,
            "display": null,
            "flex": null,
            "flex_flow": null,
            "grid_area": null,
            "grid_auto_columns": null,
            "grid_auto_flow": null,
            "grid_auto_rows": null,
            "grid_column": null,
            "grid_gap": null,
            "grid_row": null,
            "grid_template_areas": null,
            "grid_template_columns": null,
            "grid_template_rows": null,
            "height": null,
            "justify_content": null,
            "justify_items": null,
            "left": null,
            "margin": null,
            "max_height": null,
            "max_width": null,
            "min_height": null,
            "min_width": null,
            "object_fit": null,
            "object_position": null,
            "order": null,
            "overflow": null,
            "overflow_x": null,
            "overflow_y": null,
            "padding": null,
            "right": null,
            "top": null,
            "visibility": null,
            "width": null
          }
        },
        "2f37f541c8f949eab60200d46fbc8b05": {
          "model_module": "@jupyter-widgets/controls",
          "model_module_version": "1.5.0",
          "model_name": "HTMLModel",
          "state": {
            "_dom_classes": [],
            "_model_module": "@jupyter-widgets/controls",
            "_model_module_version": "1.5.0",
            "_model_name": "HTMLModel",
            "_view_count": null,
            "_view_module": "@jupyter-widgets/controls",
            "_view_module_version": "1.5.0",
            "_view_name": "HTMLView",
            "description": "",
            "description_tooltip": null,
            "layout": "IPY_MODEL_17ba6b57f29a42f9a525db0bbe3bdb68",
            "placeholder": "​",
            "style": "IPY_MODEL_d29972a957884ef0bf2d4ac167eb2218",
            "value": " 5/5 [00:43&lt;00:00,  8.76s/it]"
          }
        },
        "3913cd7ccbfa4fa29305a7a34c0a6846": {
          "model_module": "@jupyter-widgets/base",
          "model_module_version": "1.2.0",
          "model_name": "LayoutModel",
          "state": {
            "_model_module": "@jupyter-widgets/base",
            "_model_module_version": "1.2.0",
            "_model_name": "LayoutModel",
            "_view_count": null,
            "_view_module": "@jupyter-widgets/base",
            "_view_module_version": "1.2.0",
            "_view_name": "LayoutView",
            "align_content": null,
            "align_items": null,
            "align_self": null,
            "border": null,
            "bottom": null,
            "display": null,
            "flex": null,
            "flex_flow": null,
            "grid_area": null,
            "grid_auto_columns": null,
            "grid_auto_flow": null,
            "grid_auto_rows": null,
            "grid_column": null,
            "grid_gap": null,
            "grid_row": null,
            "grid_template_areas": null,
            "grid_template_columns": null,
            "grid_template_rows": null,
            "height": null,
            "justify_content": null,
            "justify_items": null,
            "left": null,
            "margin": null,
            "max_height": null,
            "max_width": null,
            "min_height": null,
            "min_width": null,
            "object_fit": null,
            "object_position": null,
            "order": null,
            "overflow": null,
            "overflow_x": null,
            "overflow_y": null,
            "padding": null,
            "right": null,
            "top": null,
            "visibility": null,
            "width": null
          }
        },
        "3aa64a1f9a4f4f38b710d2a28b26c19f": {
          "model_module": "@jupyter-widgets/base",
          "model_module_version": "1.2.0",
          "model_name": "LayoutModel",
          "state": {
            "_model_module": "@jupyter-widgets/base",
            "_model_module_version": "1.2.0",
            "_model_name": "LayoutModel",
            "_view_count": null,
            "_view_module": "@jupyter-widgets/base",
            "_view_module_version": "1.2.0",
            "_view_name": "LayoutView",
            "align_content": null,
            "align_items": null,
            "align_self": null,
            "border": null,
            "bottom": null,
            "display": null,
            "flex": null,
            "flex_flow": null,
            "grid_area": null,
            "grid_auto_columns": null,
            "grid_auto_flow": null,
            "grid_auto_rows": null,
            "grid_column": null,
            "grid_gap": null,
            "grid_row": null,
            "grid_template_areas": null,
            "grid_template_columns": null,
            "grid_template_rows": null,
            "height": null,
            "justify_content": null,
            "justify_items": null,
            "left": null,
            "margin": null,
            "max_height": null,
            "max_width": null,
            "min_height": null,
            "min_width": null,
            "object_fit": null,
            "object_position": null,
            "order": null,
            "overflow": null,
            "overflow_x": null,
            "overflow_y": null,
            "padding": null,
            "right": null,
            "top": null,
            "visibility": null,
            "width": null
          }
        },
        "430e20b56d344c1d9942e4b50b77be77": {
          "model_module": "@jupyter-widgets/base",
          "model_module_version": "1.2.0",
          "model_name": "LayoutModel",
          "state": {
            "_model_module": "@jupyter-widgets/base",
            "_model_module_version": "1.2.0",
            "_model_name": "LayoutModel",
            "_view_count": null,
            "_view_module": "@jupyter-widgets/base",
            "_view_module_version": "1.2.0",
            "_view_name": "LayoutView",
            "align_content": null,
            "align_items": null,
            "align_self": null,
            "border": null,
            "bottom": null,
            "display": null,
            "flex": null,
            "flex_flow": null,
            "grid_area": null,
            "grid_auto_columns": null,
            "grid_auto_flow": null,
            "grid_auto_rows": null,
            "grid_column": null,
            "grid_gap": null,
            "grid_row": null,
            "grid_template_areas": null,
            "grid_template_columns": null,
            "grid_template_rows": null,
            "height": null,
            "justify_content": null,
            "justify_items": null,
            "left": null,
            "margin": null,
            "max_height": null,
            "max_width": null,
            "min_height": null,
            "min_width": null,
            "object_fit": null,
            "object_position": null,
            "order": null,
            "overflow": null,
            "overflow_x": null,
            "overflow_y": null,
            "padding": null,
            "right": null,
            "top": null,
            "visibility": null,
            "width": null
          }
        },
        "49a6ff8d5ce347528577eb3896b425d9": {
          "model_module": "@jupyter-widgets/base",
          "model_module_version": "1.2.0",
          "model_name": "LayoutModel",
          "state": {
            "_model_module": "@jupyter-widgets/base",
            "_model_module_version": "1.2.0",
            "_model_name": "LayoutModel",
            "_view_count": null,
            "_view_module": "@jupyter-widgets/base",
            "_view_module_version": "1.2.0",
            "_view_name": "LayoutView",
            "align_content": null,
            "align_items": null,
            "align_self": null,
            "border": null,
            "bottom": null,
            "display": null,
            "flex": null,
            "flex_flow": null,
            "grid_area": null,
            "grid_auto_columns": null,
            "grid_auto_flow": null,
            "grid_auto_rows": null,
            "grid_column": null,
            "grid_gap": null,
            "grid_row": null,
            "grid_template_areas": null,
            "grid_template_columns": null,
            "grid_template_rows": null,
            "height": null,
            "justify_content": null,
            "justify_items": null,
            "left": null,
            "margin": null,
            "max_height": null,
            "max_width": null,
            "min_height": null,
            "min_width": null,
            "object_fit": null,
            "object_position": null,
            "order": null,
            "overflow": null,
            "overflow_x": null,
            "overflow_y": null,
            "padding": null,
            "right": null,
            "top": null,
            "visibility": null,
            "width": null
          }
        },
        "4bea2e3d735e4c569fc5026bf0e36b9b": {
          "model_module": "@jupyter-widgets/controls",
          "model_module_version": "1.5.0",
          "model_name": "DescriptionStyleModel",
          "state": {
            "_model_module": "@jupyter-widgets/controls",
            "_model_module_version": "1.5.0",
            "_model_name": "DescriptionStyleModel",
            "_view_count": null,
            "_view_module": "@jupyter-widgets/base",
            "_view_module_version": "1.2.0",
            "_view_name": "StyleView",
            "description_width": ""
          }
        },
        "4c2b4be7117d4043b56d6b4e05251d9e": {
          "model_module": "@jupyter-widgets/controls",
          "model_module_version": "1.5.0",
          "model_name": "HTMLModel",
          "state": {
            "_dom_classes": [],
            "_model_module": "@jupyter-widgets/controls",
            "_model_module_version": "1.5.0",
            "_model_name": "HTMLModel",
            "_view_count": null,
            "_view_module": "@jupyter-widgets/controls",
            "_view_module_version": "1.5.0",
            "_view_name": "HTMLView",
            "description": "",
            "description_tooltip": null,
            "layout": "IPY_MODEL_1853564527f045d7bcb510f62b45489f",
            "placeholder": "​",
            "style": "IPY_MODEL_adf4f0bbf7d44ae3a13b627bd754e421",
            "value": "100%"
          }
        },
        "4cc05625e0834781b9f65bd31d2f5fb0": {
          "model_module": "@jupyter-widgets/controls",
          "model_module_version": "1.5.0",
          "model_name": "DescriptionStyleModel",
          "state": {
            "_model_module": "@jupyter-widgets/controls",
            "_model_module_version": "1.5.0",
            "_model_name": "DescriptionStyleModel",
            "_view_count": null,
            "_view_module": "@jupyter-widgets/base",
            "_view_module_version": "1.2.0",
            "_view_name": "StyleView",
            "description_width": ""
          }
        },
        "5171c1cc4aca4737b46b99ed9a7ab9da": {
          "model_module": "@jupyter-widgets/controls",
          "model_module_version": "1.5.0",
          "model_name": "FloatProgressModel",
          "state": {
            "_dom_classes": [],
            "_model_module": "@jupyter-widgets/controls",
            "_model_module_version": "1.5.0",
            "_model_name": "FloatProgressModel",
            "_view_count": null,
            "_view_module": "@jupyter-widgets/controls",
            "_view_module_version": "1.5.0",
            "_view_name": "ProgressView",
            "bar_style": "success",
            "description": "",
            "description_tooltip": null,
            "layout": "IPY_MODEL_faa2697a0c274661886e031ab42e0a04",
            "max": 5,
            "min": 0,
            "orientation": "horizontal",
            "style": "IPY_MODEL_9cec1b0eee41441899c4d7fb743fa33e",
            "value": 5
          }
        },
        "561e8d9c749b4be0a126db44e263145b": {
          "model_module": "@jupyter-widgets/controls",
          "model_module_version": "1.5.0",
          "model_name": "FloatProgressModel",
          "state": {
            "_dom_classes": [],
            "_model_module": "@jupyter-widgets/controls",
            "_model_module_version": "1.5.0",
            "_model_name": "FloatProgressModel",
            "_view_count": null,
            "_view_module": "@jupyter-widgets/controls",
            "_view_module_version": "1.5.0",
            "_view_name": "ProgressView",
            "bar_style": "success",
            "description": "",
            "description_tooltip": null,
            "layout": "IPY_MODEL_d082717fb8e94afe8a3c129c9b57d3ce",
            "max": 5,
            "min": 0,
            "orientation": "horizontal",
            "style": "IPY_MODEL_ed1fe3209f9440a38bcfa77b89f5c8ad",
            "value": 5
          }
        },
        "59a28ded11914e88a8d54c8bac21e3a4": {
          "model_module": "@jupyter-widgets/controls",
          "model_module_version": "1.5.0",
          "model_name": "HTMLModel",
          "state": {
            "_dom_classes": [],
            "_model_module": "@jupyter-widgets/controls",
            "_model_module_version": "1.5.0",
            "_model_name": "HTMLModel",
            "_view_count": null,
            "_view_module": "@jupyter-widgets/controls",
            "_view_module_version": "1.5.0",
            "_view_name": "HTMLView",
            "description": "",
            "description_tooltip": null,
            "layout": "IPY_MODEL_11278b21b19f4ec4b163313b42a7c9ef",
            "placeholder": "​",
            "style": "IPY_MODEL_4bea2e3d735e4c569fc5026bf0e36b9b",
            "value": ""
          }
        },
        "6050da7f27f747e58ee98250544bad03": {
          "model_module": "@jupyter-widgets/base",
          "model_module_version": "1.2.0",
          "model_name": "LayoutModel",
          "state": {
            "_model_module": "@jupyter-widgets/base",
            "_model_module_version": "1.2.0",
            "_model_name": "LayoutModel",
            "_view_count": null,
            "_view_module": "@jupyter-widgets/base",
            "_view_module_version": "1.2.0",
            "_view_name": "LayoutView",
            "align_content": null,
            "align_items": null,
            "align_self": null,
            "border": null,
            "bottom": null,
            "display": null,
            "flex": null,
            "flex_flow": null,
            "grid_area": null,
            "grid_auto_columns": null,
            "grid_auto_flow": null,
            "grid_auto_rows": null,
            "grid_column": null,
            "grid_gap": null,
            "grid_row": null,
            "grid_template_areas": null,
            "grid_template_columns": null,
            "grid_template_rows": null,
            "height": null,
            "justify_content": null,
            "justify_items": null,
            "left": null,
            "margin": null,
            "max_height": null,
            "max_width": null,
            "min_height": null,
            "min_width": null,
            "object_fit": null,
            "object_position": null,
            "order": null,
            "overflow": null,
            "overflow_x": null,
            "overflow_y": null,
            "padding": null,
            "right": null,
            "top": null,
            "visibility": null,
            "width": null
          }
        },
        "61814ca3a0704d0d84cededc512f96a4": {
          "model_module": "@jupyter-widgets/controls",
          "model_module_version": "1.5.0",
          "model_name": "ProgressStyleModel",
          "state": {
            "_model_module": "@jupyter-widgets/controls",
            "_model_module_version": "1.5.0",
            "_model_name": "ProgressStyleModel",
            "_view_count": null,
            "_view_module": "@jupyter-widgets/base",
            "_view_module_version": "1.2.0",
            "_view_name": "StyleView",
            "bar_color": null,
            "description_width": ""
          }
        },
        "61e487bf20834fbb889f25cb5d46e311": {
          "model_module": "@jupyter-widgets/controls",
          "model_module_version": "1.5.0",
          "model_name": "HTMLModel",
          "state": {
            "_dom_classes": [],
            "_model_module": "@jupyter-widgets/controls",
            "_model_module_version": "1.5.0",
            "_model_name": "HTMLModel",
            "_view_count": null,
            "_view_module": "@jupyter-widgets/controls",
            "_view_module_version": "1.5.0",
            "_view_name": "HTMLView",
            "description": "",
            "description_tooltip": null,
            "layout": "IPY_MODEL_091a2fc4fc9b4e9c8e683d2a04f01073",
            "placeholder": "​",
            "style": "IPY_MODEL_637a295bd69f412788f6073065a18934",
            "value": "100%"
          }
        },
        "637a295bd69f412788f6073065a18934": {
          "model_module": "@jupyter-widgets/controls",
          "model_module_version": "1.5.0",
          "model_name": "DescriptionStyleModel",
          "state": {
            "_model_module": "@jupyter-widgets/controls",
            "_model_module_version": "1.5.0",
            "_model_name": "DescriptionStyleModel",
            "_view_count": null,
            "_view_module": "@jupyter-widgets/base",
            "_view_module_version": "1.2.0",
            "_view_name": "StyleView",
            "description_width": ""
          }
        },
        "671a67e7a2a94007bfb337e0a3f20ca7": {
          "model_module": "@jupyter-widgets/controls",
          "model_module_version": "1.5.0",
          "model_name": "HBoxModel",
          "state": {
            "_dom_classes": [],
            "_model_module": "@jupyter-widgets/controls",
            "_model_module_version": "1.5.0",
            "_model_name": "HBoxModel",
            "_view_count": null,
            "_view_module": "@jupyter-widgets/controls",
            "_view_module_version": "1.5.0",
            "_view_name": "HBoxView",
            "box_style": "",
            "children": [
              "IPY_MODEL_61e487bf20834fbb889f25cb5d46e311",
              "IPY_MODEL_139588c346c042f8a5f67722166cd6b7",
              "IPY_MODEL_1820ad9809494ec1a755344245e91dda"
            ],
            "layout": "IPY_MODEL_6050da7f27f747e58ee98250544bad03"
          }
        },
        "6fb3df7d7bec4e92abdf872d4cc50f9c": {
          "model_module": "@jupyter-widgets/controls",
          "model_module_version": "1.5.0",
          "model_name": "FloatProgressModel",
          "state": {
            "_dom_classes": [],
            "_model_module": "@jupyter-widgets/controls",
            "_model_module_version": "1.5.0",
            "_model_name": "FloatProgressModel",
            "_view_count": null,
            "_view_module": "@jupyter-widgets/controls",
            "_view_module_version": "1.5.0",
            "_view_name": "ProgressView",
            "bar_style": "success",
            "description": "",
            "description_tooltip": null,
            "layout": "IPY_MODEL_f219941b11dd42afba6e5d9fb9be7c4b",
            "max": 1,
            "min": 0,
            "orientation": "horizontal",
            "style": "IPY_MODEL_829d30f9c02f46358bcc78768fabc3c5",
            "value": 1
          }
        },
        "800977f38e5e45f9bb7b8f43fe78ea9c": {
          "model_module": "@jupyter-widgets/controls",
          "model_module_version": "1.5.0",
          "model_name": "FloatProgressModel",
          "state": {
            "_dom_classes": [],
            "_model_module": "@jupyter-widgets/controls",
            "_model_module_version": "1.5.0",
            "_model_name": "FloatProgressModel",
            "_view_count": null,
            "_view_module": "@jupyter-widgets/controls",
            "_view_module_version": "1.5.0",
            "_view_name": "ProgressView",
            "bar_style": "success",
            "description": "",
            "description_tooltip": null,
            "layout": "IPY_MODEL_3913cd7ccbfa4fa29305a7a34c0a6846",
            "max": 5,
            "min": 0,
            "orientation": "horizontal",
            "style": "IPY_MODEL_61814ca3a0704d0d84cededc512f96a4",
            "value": 5
          }
        },
        "8241d895e996490f9e40f2393f3ee7f9": {
          "model_module": "@jupyter-widgets/controls",
          "model_module_version": "1.5.0",
          "model_name": "HTMLModel",
          "state": {
            "_dom_classes": [],
            "_model_module": "@jupyter-widgets/controls",
            "_model_module_version": "1.5.0",
            "_model_name": "HTMLModel",
            "_view_count": null,
            "_view_module": "@jupyter-widgets/controls",
            "_view_module_version": "1.5.0",
            "_view_name": "HTMLView",
            "description": "",
            "description_tooltip": null,
            "layout": "IPY_MODEL_430e20b56d344c1d9942e4b50b77be77",
            "placeholder": "​",
            "style": "IPY_MODEL_c7374c0a769a4dac96ace3670e6800e4",
            "value": " 5/5 [01:14&lt;00:00, 14.37s/it]"
          }
        },
        "829d30f9c02f46358bcc78768fabc3c5": {
          "model_module": "@jupyter-widgets/controls",
          "model_module_version": "1.5.0",
          "model_name": "ProgressStyleModel",
          "state": {
            "_model_module": "@jupyter-widgets/controls",
            "_model_module_version": "1.5.0",
            "_model_name": "ProgressStyleModel",
            "_view_count": null,
            "_view_module": "@jupyter-widgets/base",
            "_view_module_version": "1.2.0",
            "_view_name": "StyleView",
            "bar_color": null,
            "description_width": ""
          }
        },
        "8695077763e749559af9cec55f651006": {
          "model_module": "@jupyter-widgets/base",
          "model_module_version": "1.2.0",
          "model_name": "LayoutModel",
          "state": {
            "_model_module": "@jupyter-widgets/base",
            "_model_module_version": "1.2.0",
            "_model_name": "LayoutModel",
            "_view_count": null,
            "_view_module": "@jupyter-widgets/base",
            "_view_module_version": "1.2.0",
            "_view_name": "LayoutView",
            "align_content": null,
            "align_items": null,
            "align_self": null,
            "border": null,
            "bottom": null,
            "display": null,
            "flex": null,
            "flex_flow": null,
            "grid_area": null,
            "grid_auto_columns": null,
            "grid_auto_flow": null,
            "grid_auto_rows": null,
            "grid_column": null,
            "grid_gap": null,
            "grid_row": null,
            "grid_template_areas": null,
            "grid_template_columns": null,
            "grid_template_rows": null,
            "height": null,
            "justify_content": null,
            "justify_items": null,
            "left": null,
            "margin": null,
            "max_height": null,
            "max_width": null,
            "min_height": null,
            "min_width": null,
            "object_fit": null,
            "object_position": null,
            "order": null,
            "overflow": null,
            "overflow_x": null,
            "overflow_y": null,
            "padding": null,
            "right": null,
            "top": null,
            "visibility": null,
            "width": null
          }
        },
        "9cec1b0eee41441899c4d7fb743fa33e": {
          "model_module": "@jupyter-widgets/controls",
          "model_module_version": "1.5.0",
          "model_name": "ProgressStyleModel",
          "state": {
            "_model_module": "@jupyter-widgets/controls",
            "_model_module_version": "1.5.0",
            "_model_name": "ProgressStyleModel",
            "_view_count": null,
            "_view_module": "@jupyter-widgets/base",
            "_view_module_version": "1.2.0",
            "_view_name": "StyleView",
            "bar_color": null,
            "description_width": ""
          }
        },
        "9fbb80c57c814ab6bf0205ba1b1a71e9": {
          "model_module": "@jupyter-widgets/base",
          "model_module_version": "1.2.0",
          "model_name": "LayoutModel",
          "state": {
            "_model_module": "@jupyter-widgets/base",
            "_model_module_version": "1.2.0",
            "_model_name": "LayoutModel",
            "_view_count": null,
            "_view_module": "@jupyter-widgets/base",
            "_view_module_version": "1.2.0",
            "_view_name": "LayoutView",
            "align_content": null,
            "align_items": null,
            "align_self": null,
            "border": null,
            "bottom": null,
            "display": null,
            "flex": null,
            "flex_flow": null,
            "grid_area": null,
            "grid_auto_columns": null,
            "grid_auto_flow": null,
            "grid_auto_rows": null,
            "grid_column": null,
            "grid_gap": null,
            "grid_row": null,
            "grid_template_areas": null,
            "grid_template_columns": null,
            "grid_template_rows": null,
            "height": null,
            "justify_content": null,
            "justify_items": null,
            "left": null,
            "margin": null,
            "max_height": null,
            "max_width": null,
            "min_height": null,
            "min_width": null,
            "object_fit": null,
            "object_position": null,
            "order": null,
            "overflow": null,
            "overflow_x": null,
            "overflow_y": null,
            "padding": null,
            "right": null,
            "top": null,
            "visibility": null,
            "width": null
          }
        },
        "a35d16d75b5b4f27b26828af2154a3d5": {
          "model_module": "@jupyter-widgets/controls",
          "model_module_version": "1.5.0",
          "model_name": "DescriptionStyleModel",
          "state": {
            "_model_module": "@jupyter-widgets/controls",
            "_model_module_version": "1.5.0",
            "_model_name": "DescriptionStyleModel",
            "_view_count": null,
            "_view_module": "@jupyter-widgets/base",
            "_view_module_version": "1.2.0",
            "_view_name": "StyleView",
            "description_width": ""
          }
        },
        "a74d331cd4b24285a55e5a3705f1b68f": {
          "model_module": "@jupyter-widgets/controls",
          "model_module_version": "1.5.0",
          "model_name": "HBoxModel",
          "state": {
            "_dom_classes": [],
            "_model_module": "@jupyter-widgets/controls",
            "_model_module_version": "1.5.0",
            "_model_name": "HBoxModel",
            "_view_count": null,
            "_view_module": "@jupyter-widgets/controls",
            "_view_module_version": "1.5.0",
            "_view_name": "HBoxView",
            "box_style": "",
            "children": [
              "IPY_MODEL_e24d41fab6ee49e09997503870813e0a",
              "IPY_MODEL_561e8d9c749b4be0a126db44e263145b",
              "IPY_MODEL_8241d895e996490f9e40f2393f3ee7f9"
            ],
            "layout": "IPY_MODEL_f9b11b9712c3423784642b7a3597e667"
          }
        },
        "ac4f9033337a425ab05f963a300af10a": {
          "model_module": "@jupyter-widgets/controls",
          "model_module_version": "1.5.0",
          "model_name": "HBoxModel",
          "state": {
            "_dom_classes": [],
            "_model_module": "@jupyter-widgets/controls",
            "_model_module_version": "1.5.0",
            "_model_name": "HBoxModel",
            "_view_count": null,
            "_view_module": "@jupyter-widgets/controls",
            "_view_module_version": "1.5.0",
            "_view_name": "HBoxView",
            "box_style": "",
            "children": [
              "IPY_MODEL_4c2b4be7117d4043b56d6b4e05251d9e",
              "IPY_MODEL_800977f38e5e45f9bb7b8f43fe78ea9c",
              "IPY_MODEL_2f37f541c8f949eab60200d46fbc8b05"
            ],
            "layout": "IPY_MODEL_8695077763e749559af9cec55f651006"
          }
        },
        "adf4f0bbf7d44ae3a13b627bd754e421": {
          "model_module": "@jupyter-widgets/controls",
          "model_module_version": "1.5.0",
          "model_name": "DescriptionStyleModel",
          "state": {
            "_model_module": "@jupyter-widgets/controls",
            "_model_module_version": "1.5.0",
            "_model_name": "DescriptionStyleModel",
            "_view_count": null,
            "_view_module": "@jupyter-widgets/base",
            "_view_module_version": "1.2.0",
            "_view_name": "StyleView",
            "description_width": ""
          }
        },
        "b452afd37618427a801b35a9a6b0b310": {
          "model_module": "@jupyter-widgets/controls",
          "model_module_version": "1.5.0",
          "model_name": "ProgressStyleModel",
          "state": {
            "_model_module": "@jupyter-widgets/controls",
            "_model_module_version": "1.5.0",
            "_model_name": "ProgressStyleModel",
            "_view_count": null,
            "_view_module": "@jupyter-widgets/base",
            "_view_module_version": "1.2.0",
            "_view_name": "StyleView",
            "bar_color": null,
            "description_width": ""
          }
        },
        "b5931a6b638d408f93255db7cd0283bf": {
          "model_module": "@jupyter-widgets/base",
          "model_module_version": "1.2.0",
          "model_name": "LayoutModel",
          "state": {
            "_model_module": "@jupyter-widgets/base",
            "_model_module_version": "1.2.0",
            "_model_name": "LayoutModel",
            "_view_count": null,
            "_view_module": "@jupyter-widgets/base",
            "_view_module_version": "1.2.0",
            "_view_name": "LayoutView",
            "align_content": null,
            "align_items": null,
            "align_self": null,
            "border": null,
            "bottom": null,
            "display": null,
            "flex": null,
            "flex_flow": null,
            "grid_area": null,
            "grid_auto_columns": null,
            "grid_auto_flow": null,
            "grid_auto_rows": null,
            "grid_column": null,
            "grid_gap": null,
            "grid_row": null,
            "grid_template_areas": null,
            "grid_template_columns": null,
            "grid_template_rows": null,
            "height": null,
            "justify_content": null,
            "justify_items": null,
            "left": null,
            "margin": null,
            "max_height": null,
            "max_width": null,
            "min_height": null,
            "min_width": null,
            "object_fit": null,
            "object_position": null,
            "order": null,
            "overflow": null,
            "overflow_x": null,
            "overflow_y": null,
            "padding": null,
            "right": null,
            "top": null,
            "visibility": null,
            "width": null
          }
        },
        "bd43d96dea8f4ff2a71037d5c594845d": {
          "model_module": "@jupyter-widgets/controls",
          "model_module_version": "1.5.0",
          "model_name": "HTMLModel",
          "state": {
            "_dom_classes": [],
            "_model_module": "@jupyter-widgets/controls",
            "_model_module_version": "1.5.0",
            "_model_name": "HTMLModel",
            "_view_count": null,
            "_view_module": "@jupyter-widgets/controls",
            "_view_module_version": "1.5.0",
            "_view_name": "HTMLView",
            "description": "",
            "description_tooltip": null,
            "layout": "IPY_MODEL_9fbb80c57c814ab6bf0205ba1b1a71e9",
            "placeholder": "​",
            "style": "IPY_MODEL_4cc05625e0834781b9f65bd31d2f5fb0",
            "value": "100%"
          }
        },
        "c7374c0a769a4dac96ace3670e6800e4": {
          "model_module": "@jupyter-widgets/controls",
          "model_module_version": "1.5.0",
          "model_name": "DescriptionStyleModel",
          "state": {
            "_model_module": "@jupyter-widgets/controls",
            "_model_module_version": "1.5.0",
            "_model_name": "DescriptionStyleModel",
            "_view_count": null,
            "_view_module": "@jupyter-widgets/base",
            "_view_module_version": "1.2.0",
            "_view_name": "StyleView",
            "description_width": ""
          }
        },
        "c9b96de5d3b94ed8ae22a956ba81ed23": {
          "model_module": "@jupyter-widgets/base",
          "model_module_version": "1.2.0",
          "model_name": "LayoutModel",
          "state": {
            "_model_module": "@jupyter-widgets/base",
            "_model_module_version": "1.2.0",
            "_model_name": "LayoutModel",
            "_view_count": null,
            "_view_module": "@jupyter-widgets/base",
            "_view_module_version": "1.2.0",
            "_view_name": "LayoutView",
            "align_content": null,
            "align_items": null,
            "align_self": null,
            "border": null,
            "bottom": null,
            "display": null,
            "flex": null,
            "flex_flow": null,
            "grid_area": null,
            "grid_auto_columns": null,
            "grid_auto_flow": null,
            "grid_auto_rows": null,
            "grid_column": null,
            "grid_gap": null,
            "grid_row": null,
            "grid_template_areas": null,
            "grid_template_columns": null,
            "grid_template_rows": null,
            "height": null,
            "justify_content": null,
            "justify_items": null,
            "left": null,
            "margin": null,
            "max_height": null,
            "max_width": null,
            "min_height": null,
            "min_width": null,
            "object_fit": null,
            "object_position": null,
            "order": null,
            "overflow": null,
            "overflow_x": null,
            "overflow_y": null,
            "padding": null,
            "right": null,
            "top": null,
            "visibility": null,
            "width": null
          }
        },
        "d082717fb8e94afe8a3c129c9b57d3ce": {
          "model_module": "@jupyter-widgets/base",
          "model_module_version": "1.2.0",
          "model_name": "LayoutModel",
          "state": {
            "_model_module": "@jupyter-widgets/base",
            "_model_module_version": "1.2.0",
            "_model_name": "LayoutModel",
            "_view_count": null,
            "_view_module": "@jupyter-widgets/base",
            "_view_module_version": "1.2.0",
            "_view_name": "LayoutView",
            "align_content": null,
            "align_items": null,
            "align_self": null,
            "border": null,
            "bottom": null,
            "display": null,
            "flex": null,
            "flex_flow": null,
            "grid_area": null,
            "grid_auto_columns": null,
            "grid_auto_flow": null,
            "grid_auto_rows": null,
            "grid_column": null,
            "grid_gap": null,
            "grid_row": null,
            "grid_template_areas": null,
            "grid_template_columns": null,
            "grid_template_rows": null,
            "height": null,
            "justify_content": null,
            "justify_items": null,
            "left": null,
            "margin": null,
            "max_height": null,
            "max_width": null,
            "min_height": null,
            "min_width": null,
            "object_fit": null,
            "object_position": null,
            "order": null,
            "overflow": null,
            "overflow_x": null,
            "overflow_y": null,
            "padding": null,
            "right": null,
            "top": null,
            "visibility": null,
            "width": null
          }
        },
        "d29972a957884ef0bf2d4ac167eb2218": {
          "model_module": "@jupyter-widgets/controls",
          "model_module_version": "1.5.0",
          "model_name": "DescriptionStyleModel",
          "state": {
            "_model_module": "@jupyter-widgets/controls",
            "_model_module_version": "1.5.0",
            "_model_name": "DescriptionStyleModel",
            "_view_count": null,
            "_view_module": "@jupyter-widgets/base",
            "_view_module_version": "1.2.0",
            "_view_name": "StyleView",
            "description_width": ""
          }
        },
        "e24d41fab6ee49e09997503870813e0a": {
          "model_module": "@jupyter-widgets/controls",
          "model_module_version": "1.5.0",
          "model_name": "HTMLModel",
          "state": {
            "_dom_classes": [],
            "_model_module": "@jupyter-widgets/controls",
            "_model_module_version": "1.5.0",
            "_model_name": "HTMLModel",
            "_view_count": null,
            "_view_module": "@jupyter-widgets/controls",
            "_view_module_version": "1.5.0",
            "_view_name": "HTMLView",
            "description": "",
            "description_tooltip": null,
            "layout": "IPY_MODEL_c9b96de5d3b94ed8ae22a956ba81ed23",
            "placeholder": "​",
            "style": "IPY_MODEL_1a802f281ef24b9ca5949ff3106b88ef",
            "value": "100%"
          }
        },
        "e6a2483643c3481ea529538b8c86b8f3": {
          "model_module": "@jupyter-widgets/base",
          "model_module_version": "1.2.0",
          "model_name": "LayoutModel",
          "state": {
            "_model_module": "@jupyter-widgets/base",
            "_model_module_version": "1.2.0",
            "_model_name": "LayoutModel",
            "_view_count": null,
            "_view_module": "@jupyter-widgets/base",
            "_view_module_version": "1.2.0",
            "_view_name": "LayoutView",
            "align_content": null,
            "align_items": null,
            "align_self": null,
            "border": null,
            "bottom": null,
            "display": null,
            "flex": null,
            "flex_flow": null,
            "grid_area": null,
            "grid_auto_columns": null,
            "grid_auto_flow": null,
            "grid_auto_rows": null,
            "grid_column": null,
            "grid_gap": null,
            "grid_row": null,
            "grid_template_areas": null,
            "grid_template_columns": null,
            "grid_template_rows": null,
            "height": null,
            "justify_content": null,
            "justify_items": null,
            "left": null,
            "margin": null,
            "max_height": null,
            "max_width": null,
            "min_height": null,
            "min_width": null,
            "object_fit": null,
            "object_position": null,
            "order": null,
            "overflow": null,
            "overflow_x": null,
            "overflow_y": null,
            "padding": null,
            "right": null,
            "top": null,
            "visibility": null,
            "width": null
          }
        },
        "ed1fe3209f9440a38bcfa77b89f5c8ad": {
          "model_module": "@jupyter-widgets/controls",
          "model_module_version": "1.5.0",
          "model_name": "ProgressStyleModel",
          "state": {
            "_model_module": "@jupyter-widgets/controls",
            "_model_module_version": "1.5.0",
            "_model_name": "ProgressStyleModel",
            "_view_count": null,
            "_view_module": "@jupyter-widgets/base",
            "_view_module_version": "1.2.0",
            "_view_name": "StyleView",
            "bar_color": null,
            "description_width": ""
          }
        },
        "f219941b11dd42afba6e5d9fb9be7c4b": {
          "model_module": "@jupyter-widgets/base",
          "model_module_version": "1.2.0",
          "model_name": "LayoutModel",
          "state": {
            "_model_module": "@jupyter-widgets/base",
            "_model_module_version": "1.2.0",
            "_model_name": "LayoutModel",
            "_view_count": null,
            "_view_module": "@jupyter-widgets/base",
            "_view_module_version": "1.2.0",
            "_view_name": "LayoutView",
            "align_content": null,
            "align_items": null,
            "align_self": null,
            "border": null,
            "bottom": null,
            "display": null,
            "flex": null,
            "flex_flow": null,
            "grid_area": null,
            "grid_auto_columns": null,
            "grid_auto_flow": null,
            "grid_auto_rows": null,
            "grid_column": null,
            "grid_gap": null,
            "grid_row": null,
            "grid_template_areas": null,
            "grid_template_columns": null,
            "grid_template_rows": null,
            "height": null,
            "justify_content": null,
            "justify_items": null,
            "left": null,
            "margin": null,
            "max_height": null,
            "max_width": null,
            "min_height": null,
            "min_width": null,
            "object_fit": null,
            "object_position": null,
            "order": null,
            "overflow": null,
            "overflow_x": null,
            "overflow_y": null,
            "padding": null,
            "right": null,
            "top": null,
            "visibility": null,
            "width": "20px"
          }
        },
        "f2fb9f5dfbe144caaeff6d95f3ea24b1": {
          "model_module": "@jupyter-widgets/controls",
          "model_module_version": "1.5.0",
          "model_name": "HBoxModel",
          "state": {
            "_dom_classes": [],
            "_model_module": "@jupyter-widgets/controls",
            "_model_module_version": "1.5.0",
            "_model_name": "HBoxModel",
            "_view_count": null,
            "_view_module": "@jupyter-widgets/controls",
            "_view_module_version": "1.5.0",
            "_view_name": "HBoxView",
            "box_style": "",
            "children": [
              "IPY_MODEL_bd43d96dea8f4ff2a71037d5c594845d",
              "IPY_MODEL_5171c1cc4aca4737b46b99ed9a7ab9da",
              "IPY_MODEL_00b8d54af39a4ba4bd9e488ecaa37772"
            ],
            "layout": "IPY_MODEL_49a6ff8d5ce347528577eb3896b425d9"
          }
        },
        "f88e19b433254b69a26a08378073a6ca": {
          "model_module": "@jupyter-widgets/base",
          "model_module_version": "1.2.0",
          "model_name": "LayoutModel",
          "state": {
            "_model_module": "@jupyter-widgets/base",
            "_model_module_version": "1.2.0",
            "_model_name": "LayoutModel",
            "_view_count": null,
            "_view_module": "@jupyter-widgets/base",
            "_view_module_version": "1.2.0",
            "_view_name": "LayoutView",
            "align_content": null,
            "align_items": null,
            "align_self": null,
            "border": null,
            "bottom": null,
            "display": null,
            "flex": null,
            "flex_flow": null,
            "grid_area": null,
            "grid_auto_columns": null,
            "grid_auto_flow": null,
            "grid_auto_rows": null,
            "grid_column": null,
            "grid_gap": null,
            "grid_row": null,
            "grid_template_areas": null,
            "grid_template_columns": null,
            "grid_template_rows": null,
            "height": null,
            "justify_content": null,
            "justify_items": null,
            "left": null,
            "margin": null,
            "max_height": null,
            "max_width": null,
            "min_height": null,
            "min_width": null,
            "object_fit": null,
            "object_position": null,
            "order": null,
            "overflow": null,
            "overflow_x": null,
            "overflow_y": null,
            "padding": null,
            "right": null,
            "top": null,
            "visibility": null,
            "width": null
          }
        },
        "f9b11b9712c3423784642b7a3597e667": {
          "model_module": "@jupyter-widgets/base",
          "model_module_version": "1.2.0",
          "model_name": "LayoutModel",
          "state": {
            "_model_module": "@jupyter-widgets/base",
            "_model_module_version": "1.2.0",
            "_model_name": "LayoutModel",
            "_view_count": null,
            "_view_module": "@jupyter-widgets/base",
            "_view_module_version": "1.2.0",
            "_view_name": "LayoutView",
            "align_content": null,
            "align_items": null,
            "align_self": null,
            "border": null,
            "bottom": null,
            "display": null,
            "flex": null,
            "flex_flow": null,
            "grid_area": null,
            "grid_auto_columns": null,
            "grid_auto_flow": null,
            "grid_auto_rows": null,
            "grid_column": null,
            "grid_gap": null,
            "grid_row": null,
            "grid_template_areas": null,
            "grid_template_columns": null,
            "grid_template_rows": null,
            "height": null,
            "justify_content": null,
            "justify_items": null,
            "left": null,
            "margin": null,
            "max_height": null,
            "max_width": null,
            "min_height": null,
            "min_width": null,
            "object_fit": null,
            "object_position": null,
            "order": null,
            "overflow": null,
            "overflow_x": null,
            "overflow_y": null,
            "padding": null,
            "right": null,
            "top": null,
            "visibility": null,
            "width": null
          }
        },
        "faa2697a0c274661886e031ab42e0a04": {
          "model_module": "@jupyter-widgets/base",
          "model_module_version": "1.2.0",
          "model_name": "LayoutModel",
          "state": {
            "_model_module": "@jupyter-widgets/base",
            "_model_module_version": "1.2.0",
            "_model_name": "LayoutModel",
            "_view_count": null,
            "_view_module": "@jupyter-widgets/base",
            "_view_module_version": "1.2.0",
            "_view_name": "LayoutView",
            "align_content": null,
            "align_items": null,
            "align_self": null,
            "border": null,
            "bottom": null,
            "display": null,
            "flex": null,
            "flex_flow": null,
            "grid_area": null,
            "grid_auto_columns": null,
            "grid_auto_flow": null,
            "grid_auto_rows": null,
            "grid_column": null,
            "grid_gap": null,
            "grid_row": null,
            "grid_template_areas": null,
            "grid_template_columns": null,
            "grid_template_rows": null,
            "height": null,
            "justify_content": null,
            "justify_items": null,
            "left": null,
            "margin": null,
            "max_height": null,
            "max_width": null,
            "min_height": null,
            "min_width": null,
            "object_fit": null,
            "object_position": null,
            "order": null,
            "overflow": null,
            "overflow_x": null,
            "overflow_y": null,
            "padding": null,
            "right": null,
            "top": null,
            "visibility": null,
            "width": null
          }
        },
        "fd9be8a0ee5244fa833009d0c531a643": {
          "model_module": "@jupyter-widgets/controls",
          "model_module_version": "1.5.0",
          "model_name": "HBoxModel",
          "state": {
            "_dom_classes": [],
            "_model_module": "@jupyter-widgets/controls",
            "_model_module_version": "1.5.0",
            "_model_name": "HBoxModel",
            "_view_count": null,
            "_view_module": "@jupyter-widgets/controls",
            "_view_module_version": "1.5.0",
            "_view_name": "HBoxView",
            "box_style": "",
            "children": [
              "IPY_MODEL_59a28ded11914e88a8d54c8bac21e3a4",
              "IPY_MODEL_6fb3df7d7bec4e92abdf872d4cc50f9c",
              "IPY_MODEL_194f0886026b47b4bc1855151ad97034"
            ],
            "layout": "IPY_MODEL_b5931a6b638d408f93255db7cd0283bf"
          }
        }
      }
    }
  },
  "nbformat": 4,
  "nbformat_minor": 0
}
