{
 "cells": [
  {
   "cell_type": "markdown",
   "metadata": {},
   "source": [
    "# Importing modules"
   ]
  },
  {
   "cell_type": "code",
   "execution_count": 1,
   "metadata": {},
   "outputs": [
    {
     "name": "stdout",
     "output_type": "stream",
     "text": [
      "1.12.1+cu116\n"
     ]
    }
   ],
   "source": [
    "import torch\n",
    "from torch import nn # nn contains all of PyTorch's a building blocks of neural network\n",
    "import matplotlib.pyplot as plt\n",
    "\n",
    "# Check PyTorch version\n",
    "print(torch.__version__)"
   ]
  },
  {
   "attachments": {},
   "cell_type": "markdown",
   "metadata": {},
   "source": [
    "# PyTorch Workflow\n",
    "\n",
    "Let's explore a an example PyTorch end-to-end workflow.\n",
    "\n",
    "Resources:\n",
    "* Ground truth notebook - https://github.com/mrdbourke/pytorch-deep-learning/blob/main/01_pytorch_workflow.ipynb\n",
    "* Book version of notebook - https://www.learnpytorch.io/01_pytorch_workflow/"
   ]
  },
  {
   "cell_type": "code",
   "execution_count": 198,
   "metadata": {},
   "outputs": [
    {
     "data": {
      "text/plain": [
       "{1: 'data (prepare and load)',\n",
       " 2: 'build model',\n",
       " 3: 'fitting the model to data (training)',\n",
       " 4: 'making predictions and evaluating  a model (inference)',\n",
       " 5: 'saving and loading a model',\n",
       " 6: 'putting it all together'}"
      ]
     },
     "execution_count": 198,
     "metadata": {},
     "output_type": "execute_result"
    }
   ],
   "source": [
    "what_were_covering = {1: 'data (prepare and load)',\n",
    "                      2: 'build model',\n",
    "                      3: 'fitting the model to data (training)',\n",
    "                      4: 'making predictions and evaluating  a model (inference)',\n",
    "                      5: 'saving and loading a model',\n",
    "                      6: 'putting it all together'}\n",
    "\n",
    "what_were_covering"
   ]
  },
  {
   "attachments": {},
   "cell_type": "markdown",
   "metadata": {},
   "source": [
    "## 1. Data (preparing and loading)\n",
    "\n",
    "Data can be almost anything... in machine learning.\n",
    "\n",
    "* Excel speadsheet\n",
    "* Images of any kind\n",
    "* Videos (YouTube has lots of data...)\n",
    "* Audio like songs or podcasts\n",
    "* DNA\n",
    "* Text\n",
    "\n",
    "Machine learning is a game of two parts:\n",
    "1. Get data into numerical representation.\n",
    "2. Build a model to learn patterns in that numerical representations.\n",
    "\n",
    "To showcase this, let's create some *known* data using the linear regression formula.\n",
    "\n",
    "We'll use a linear regression formula to make a straight line with *known* **parameters**"
   ]
  },
  {
   "cell_type": "code",
   "execution_count": 199,
   "metadata": {},
   "outputs": [
    {
     "data": {
      "text/plain": [
       "(tensor([[0.0000],\n",
       "         [0.0200],\n",
       "         [0.0400],\n",
       "         [0.0600],\n",
       "         [0.0800],\n",
       "         [0.1000],\n",
       "         [0.1200],\n",
       "         [0.1400],\n",
       "         [0.1600],\n",
       "         [0.1800]]),\n",
       " tensor([[0.3000],\n",
       "         [0.3140],\n",
       "         [0.3280],\n",
       "         [0.3420],\n",
       "         [0.3560],\n",
       "         [0.3700],\n",
       "         [0.3840],\n",
       "         [0.3980],\n",
       "         [0.4120],\n",
       "         [0.4260]]))"
      ]
     },
     "execution_count": 199,
     "metadata": {},
     "output_type": "execute_result"
    }
   ],
   "source": [
    "# Create *known* parameters\n",
    "weight = 0.7\n",
    "bias = 0.3\n",
    "\n",
    "# Create \n",
    "start = 0\n",
    "end = 1\n",
    "step = 0.02\n",
    "X = torch.arange(start, end, step).unsqueeze(dim=1)\n",
    "# Linear reggresion y = ax + b\n",
    "y = weight * X + bias \n",
    "\n",
    "X[:10], y[:10]"
   ]
  },
  {
   "cell_type": "code",
   "execution_count": 200,
   "metadata": {},
   "outputs": [
    {
     "data": {
      "text/plain": [
       "(50, 50)"
      ]
     },
     "execution_count": 200,
     "metadata": {},
     "output_type": "execute_result"
    }
   ],
   "source": [
    "# Lenght of X and y\n",
    "len(X), len(y)"
   ]
  },
  {
   "attachments": {},
   "cell_type": "markdown",
   "metadata": {},
   "source": [
    "### Splitting data into training and test sets (one of the most important concepts in machine learning in general)\n",
    "\n",
    "Let's create a training and test set with our data."
   ]
  },
  {
   "cell_type": "code",
   "execution_count": 201,
   "metadata": {},
   "outputs": [
    {
     "data": {
      "text/plain": [
       "(40, 40, 10, 10)"
      ]
     },
     "execution_count": 201,
     "metadata": {},
     "output_type": "execute_result"
    }
   ],
   "source": [
    "# Create a train/test split\n",
    "train_split = int(0.8 * len(X))\n",
    "X_train, y_train = X[:train_split], y[:train_split]\n",
    "X_test, y_test = X[train_split:], y[train_split:]\n",
    "\n",
    "len(X_train), len(y_train), len(X_test), len(y_test)"
   ]
  },
  {
   "attachments": {},
   "cell_type": "markdown",
   "metadata": {},
   "source": [
    "How might we better visualize our data ?\n",
    "\n",
    "This is where the data explorer's motto comes in!\n",
    "\n",
    "\"Visualize, visualize, visualize\""
   ]
  },
  {
   "cell_type": "code",
   "execution_count": 4,
   "metadata": {},
   "outputs": [],
   "source": [
    "def plot_predictions(train_data=X_train,\n",
    "                     train_labels=y_train,\n",
    "                     test_data=X_test,\n",
    "                     test_labels=y_test,\n",
    "                     predictions=None):\n",
    "    \"\"\"\n",
    "    Plots training data, test data compares predections.\n",
    "    \"\"\"\n",
    "    plt.figure(figsize=(10, 7))\n",
    "\n",
    "    # Plot training data in blue\n",
    "    plt.scatter(train_data, train_labels, c='b', s=4, label='Training data')\n",
    "\n",
    "    # Plot test data in green\n",
    "    plt.scatter(test_data, test_labels, c='g', s=4, label='Testing data')\n",
    "\n",
    "    # Are there predictions? \n",
    "    if predictions is not None:\n",
    "        # Plot the predictions if they exist\n",
    "        plt.scatter(test_data, predictions, c='r', s=4, label='Predictions data')\n",
    "\n",
    "    # Show the legend\n",
    "    plt.legend(prop={'size': 14})"
   ]
  },
  {
   "cell_type": "code",
   "execution_count": 203,
   "metadata": {},
   "outputs": [
    {
     "data": {
      "image/png": "[encoded data removed]",
      "text/plain": [
       "<Figure size 1000x700 with 1 Axes>"
      ]
     },
     "metadata": {},
     "output_type": "display_data"
    }
   ],
   "source": [
    "plot_predictions()"
   ]
  },
  {
   "attachments": {},
   "cell_type": "markdown",
   "metadata": {},
   "source": [
    "## 2. Build model\n",
    "\n",
    "Our first PyTorch model!\n",
    "\n",
    "What our model does:\n",
    "* Start with random values (weight & bias)\n",
    "* Look at training data and adjust the random values to better represent (or get closer to) the ideal values (the weight & bias values we used to create the data)\n",
    "\n",
    "How deas it do so?\n",
    "\n",
    "Through two main algorithms:\n",
    "1. Gradient descent\n",
    "2. Backpropagation"
   ]
  },
  {
   "cell_type": "code",
   "execution_count": 204,
   "metadata": {},
   "outputs": [],
   "source": [
    "# Create linear regression model class\n",
    "class LinearRegressionModel(nn.Module): # <- almost everything in PyTorch inherhits from nn.Module\n",
    "\n",
    "    def __init__(self):\n",
    "        super().__init__()\n",
    "\n",
    "        # Initialize model parameters\n",
    "        self.weights = nn.Parameter(torch.randn(1,\n",
    "                                                requires_grad=True,\n",
    "                                                dtype=torch.float))\n",
    "        self.bias = nn.Parameter(torch.randn(1,\n",
    "                                             requires_grad=True,\n",
    "                                             dtype=torch.float))\n",
    "        \n",
    "    # Forward method to define the computation in the model\n",
    "    def forward(self, x: torch.Tensor) -> torch.Tensor: # <- 'x' is the input data\n",
    "        return self.weights * x + self.bias"
   ]
  },
  {
   "attachments": {},
   "cell_type": "markdown",
   "metadata": {},
   "source": [
    "### PyTorch model building essentials\n",
    "\n",
    "* torch.nn - contains all of the buildings for computational graphs (a neural network can be considered a computational graph)\n",
    "* torch.nn.Parameter - what parameters should our model try and learn, often a PyTorch layer from torch.nn wille set this for us\n",
    "* torch.nn.Module - The base class for all neural network modules, if you subclass it, you should overwrite forward()\n",
    "* torch.optim - this where the optimizers in PyTorch live, they will help with gradient descent\n",
    "* def forward() - All nn.Module subclasses require you to overwrite forward(), this method defines what happend in the forward computation"
   ]
  },
  {
   "attachments": {},
   "cell_type": "markdown",
   "metadata": {},
   "source": [
    "### Checking the contents of our PyTorch model\n",
    "\n",
    "Now we've created a model, let's see what's inside...\n",
    "\n",
    "So we can check our model parameters or what's inside out model using `.parameters().`"
   ]
  },
  {
   "cell_type": "code",
   "execution_count": 205,
   "metadata": {},
   "outputs": [
    {
     "data": {
      "text/plain": [
       "[Parameter containing:\n",
       " tensor([0.3367], requires_grad=True),\n",
       " Parameter containing:\n",
       " tensor([0.1288], requires_grad=True)]"
      ]
     },
     "execution_count": 205,
     "metadata": {},
     "output_type": "execute_result"
    }
   ],
   "source": [
    "# Create a random seed\n",
    "torch.manual_seed(42)\n",
    "\n",
    "# Create an instance of the model (this is a subclass of nn.Module)\n",
    "model_0 = LinearRegressionModel()\n",
    "\n",
    "# Check out the parameters\n",
    "list(model_0.parameters())\n"
   ]
  },
  {
   "cell_type": "code",
   "execution_count": 206,
   "metadata": {},
   "outputs": [
    {
     "data": {
      "text/plain": [
       "OrderedDict([('weights', tensor([0.3367])), ('bias', tensor([0.1288]))])"
      ]
     },
     "execution_count": 206,
     "metadata": {},
     "output_type": "execute_result"
    }
   ],
   "source": [
    "# List named parameters\n",
    "model_0.state_dict()"
   ]
  },
  {
   "attachments": {},
   "cell_type": "markdown",
   "metadata": {},
   "source": [
    "### Making predictions using `torch.inference_mode()`\n",
    "\n",
    "To check our model's predictive power, let's see how well it predicts `y_test` based on `X_test`\n",
    "\n",
    "When we pass data through our model, it's going to run it through the `forward()` method"
   ]
  },
  {
   "cell_type": "code",
   "execution_count": 207,
   "metadata": {},
   "outputs": [
    {
     "data": {
      "text/plain": [
       "tensor([[0.3982],\n",
       "        [0.4049],\n",
       "        [0.4116],\n",
       "        [0.4184],\n",
       "        [0.4251],\n",
       "        [0.4318],\n",
       "        [0.4386],\n",
       "        [0.4453],\n",
       "        [0.4520],\n",
       "        [0.4588]])"
      ]
     },
     "execution_count": 207,
     "metadata": {},
     "output_type": "execute_result"
    }
   ],
   "source": [
    "# make predictions with model\n",
    "with torch.inference_mode(): # <- Let's us turn off grad_tracking. It replacing no_grad()\n",
    "    y_preds = model_0(X_test)\n",
    "\n",
    "# This is the same like above, but inference_mode() is preffer\n",
    "# with torch.no_grad():\n",
    "    # y_preds = model_0(X_test)\n",
    "\n",
    "y_preds"
   ]
  },
  {
   "cell_type": "code",
   "execution_count": 208,
   "metadata": {},
   "outputs": [
    {
     "data": {
      "image/png": "[encoded data removed]",
      "text/plain": [
       "<Figure size 1000x700 with 1 Axes>"
      ]
     },
     "metadata": {},
     "output_type": "display_data"
    }
   ],
   "source": [
    "plot_predictions(predictions=y_preds)"
   ]
  },
  {
   "attachments": {},
   "cell_type": "markdown",
   "metadata": {},
   "source": [
    "## 3. Train model\n",
    "\n",
    "The whole idea of training is for a model to move from some *unknown* parameters (these may be random) to some *known* parameters.\n",
    "\n",
    "Or in other words from a poor representation to the data to a better representation of the data.\n",
    "\n",
    "One way to measure how poor or how wrong your predictions are is to use a loss function.\n",
    "\n",
    "* Note: Loss function may also be called cost function or criterion in different areas. For our casem we're going to refer to it as a loss function.\n",
    "\n",
    "Things we need to train:\n",
    "\n",
    "* **Loss function:** A function to measure how wrong your model's predictions are to ideal outputs, lower is better.\n",
    "* **Optimizer:** Takes into account the loss of a model and adjusts the model's parameters (e.g. weight & bias in our case) to improve the loss function.\n",
    "    * Inside the optimizer you'll often have to set two parameters:\n",
    "        * `params` the model parameters you'd like to optimize, for example `params=model_0.parameters()`\n",
    "        * `lr` (learning rate) - the learning rate is a hyperparameter that defines how big/small the optimizer changes the parameters with each step (a small `lr` results in small changes, a large `lr` results in large changes)\n",
    "\n",
    "And specifically for PyTorch, we need:\n",
    "* A training loop\n",
    "* A testing loop"
   ]
  },
  {
   "cell_type": "code",
   "execution_count": 209,
   "metadata": {},
   "outputs": [
    {
     "data": {
      "text/plain": [
       "[Parameter containing:\n",
       " tensor([0.3367], requires_grad=True),\n",
       " Parameter containing:\n",
       " tensor([0.1288], requires_grad=True)]"
      ]
     },
     "execution_count": 209,
     "metadata": {},
     "output_type": "execute_result"
    }
   ],
   "source": [
    "list(model_0.parameters())"
   ]
  },
  {
   "cell_type": "code",
   "execution_count": 210,
   "metadata": {},
   "outputs": [
    {
     "data": {
      "text/plain": [
       "OrderedDict([('weights', tensor([0.3367])), ('bias', tensor([0.1288]))])"
      ]
     },
     "execution_count": 210,
     "metadata": {},
     "output_type": "execute_result"
    }
   ],
   "source": [
    "# Check out our model's parameters (a parameter is a value that the model sets itself)\n",
    "model_0.state_dict()"
   ]
  },
  {
   "cell_type": "code",
   "execution_count": 211,
   "metadata": {},
   "outputs": [],
   "source": [
    "# Setup a loss function\n",
    "loss_fn = nn.L1Loss() # <- This is - torch.mean(torch.abs(y_pred-y_test))\n",
    "\n",
    "# Setup a optimizer\n",
    "optimizer = torch.optim.SGD(params=model_0.parameters(),\n",
    "                            lr=0.01) # <- Stochastic Gradient Descent, lr = learning rate = possibly the most important hyperparameter you can set"
   ]
  },
  {
   "attachments": {},
   "cell_type": "markdown",
   "metadata": {},
   "source": [
    "**Q:** Which loss function and optimizer should I use ?\n",
    "\n",
    "**A:** This will be problem specific. But with experience, you'll get an idea of what works and what doesn't with your particular problem set.\n",
    "\n",
    "For example, for a regression problem (like ours), a loss function of `nn.L1Loss()` and a ptimizer like `torch.optim.SGD()` will suffice.\n",
    "\n",
    "But for a classification problem like classifying whetrer a photo is of a dog or a cat, you'll likely want to use a loss function of `nn.BCELoss()` (binary cross entropy loss)."
   ]
  },
  {
   "attachments": {},
   "cell_type": "markdown",
   "metadata": {},
   "source": [
    "### Building a training loop (and a testing loop) in PyTorch\n",
    "\n",
    "A couple of things we need in a training loop:\n",
    "0. Loop through the data\n",
    "1. Forward pass (this involves data moving through our model's `forward()` functions) to make predictions on data - also called forward propagation\n",
    "2. Calculate the loss (compare forward pass predictions to ground truth labels)\n",
    "3. Optimizer zero grad\n",
    "4. Loss backward - move backwards through the network to calculate the gradients of each of the parameters of our model with respect to the loss (**backpropagation**)\n",
    "5. Optimizer step - use the optimizer to adjust our model's parameters to try and improve the loss (**gradient descent**)"
   ]
  },
  {
   "cell_type": "code",
   "execution_count": 212,
   "metadata": {},
   "outputs": [
    {
     "name": "stdout",
     "output_type": "stream",
     "text": [
      "Epoch: 0 | Loss: 0.31288138031959534 | Test loss: 0.48106518387794495\n",
      "Epoch: 10 | Loss: 0.1976713240146637 | Test loss: 0.3463551998138428\n",
      "Epoch: 20 | Loss: 0.08908725529909134 | Test loss: 0.21729660034179688\n",
      "Epoch: 30 | Loss: 0.053148526698350906 | Test loss: 0.14464017748832703\n",
      "Epoch: 40 | Loss: 0.04543796554207802 | Test loss: 0.11360953003168106\n",
      "Epoch: 50 | Loss: 0.04167863354086876 | Test loss: 0.09919948130846024\n",
      "Epoch: 60 | Loss: 0.03818932920694351 | Test loss: 0.08886633068323135\n",
      "Epoch: 70 | Loss: 0.03476089984178543 | Test loss: 0.0805937647819519\n",
      "Epoch: 80 | Loss: 0.03132382780313492 | Test loss: 0.07232122868299484\n",
      "Epoch: 90 | Loss: 0.02788739837706089 | Test loss: 0.06473556160926819\n",
      "Epoch: 100 | Loss: 0.024458957836031914 | Test loss: 0.05646304413676262\n",
      "Epoch: 110 | Loss: 0.021020207554101944 | Test loss: 0.04819049686193466\n",
      "Epoch: 120 | Loss: 0.01758546568453312 | Test loss: 0.04060482233762741\n",
      "Epoch: 130 | Loss: 0.014155393466353416 | Test loss: 0.03233227878808975\n",
      "Epoch: 140 | Loss: 0.010716589167714119 | Test loss: 0.024059748277068138\n",
      "Epoch: 150 | Loss: 0.0072835334576666355 | Test loss: 0.016474086791276932\n",
      "Epoch: 160 | Loss: 0.0038517764769494534 | Test loss: 0.008201557211577892\n",
      "Epoch: 170 | Loss: 0.008932482451200485 | Test loss: 0.005023092031478882\n",
      "Epoch: 180 | Loss: 0.008932482451200485 | Test loss: 0.005023092031478882\n",
      "Epoch: 190 | Loss: 0.008932482451200485 | Test loss: 0.005023092031478882\n",
      "Epoch: 200 | Loss: 0.008932482451200485 | Test loss: 0.005023092031478882\n",
      "Epoch: 210 | Loss: 0.008932482451200485 | Test loss: 0.005023092031478882\n",
      "Epoch: 220 | Loss: 0.008932482451200485 | Test loss: 0.005023092031478882\n",
      "Epoch: 230 | Loss: 0.008932482451200485 | Test loss: 0.005023092031478882\n",
      "Epoch: 240 | Loss: 0.008932482451200485 | Test loss: 0.005023092031478882\n",
      "Epoch: 250 | Loss: 0.008932482451200485 | Test loss: 0.005023092031478882\n",
      "Epoch: 260 | Loss: 0.008932482451200485 | Test loss: 0.005023092031478882\n",
      "Epoch: 270 | Loss: 0.008932482451200485 | Test loss: 0.005023092031478882\n",
      "Epoch: 280 | Loss: 0.008932482451200485 | Test loss: 0.005023092031478882\n",
      "Epoch: 290 | Loss: 0.008932482451200485 | Test loss: 0.005023092031478882\n",
      "Epoch: 300 | Loss: 0.008932482451200485 | Test loss: 0.005023092031478882\n",
      "Epoch: 310 | Loss: 0.008932482451200485 | Test loss: 0.005023092031478882\n",
      "Epoch: 320 | Loss: 0.008932482451200485 | Test loss: 0.005023092031478882\n",
      "Epoch: 330 | Loss: 0.008932482451200485 | Test loss: 0.005023092031478882\n",
      "Epoch: 340 | Loss: 0.008932482451200485 | Test loss: 0.005023092031478882\n",
      "Epoch: 350 | Loss: 0.008932482451200485 | Test loss: 0.005023092031478882\n",
      "Epoch: 360 | Loss: 0.008932482451200485 | Test loss: 0.005023092031478882\n",
      "Epoch: 370 | Loss: 0.008932482451200485 | Test loss: 0.005023092031478882\n",
      "Epoch: 380 | Loss: 0.008932482451200485 | Test loss: 0.005023092031478882\n",
      "Epoch: 390 | Loss: 0.008932482451200485 | Test loss: 0.005023092031478882\n",
      "Epoch: 400 | Loss: 0.008932482451200485 | Test loss: 0.005023092031478882\n",
      "Epoch: 410 | Loss: 0.008932482451200485 | Test loss: 0.005023092031478882\n",
      "Epoch: 420 | Loss: 0.008932482451200485 | Test loss: 0.005023092031478882\n",
      "Epoch: 430 | Loss: 0.008932482451200485 | Test loss: 0.005023092031478882\n",
      "Epoch: 440 | Loss: 0.008932482451200485 | Test loss: 0.005023092031478882\n",
      "Epoch: 450 | Loss: 0.008932482451200485 | Test loss: 0.005023092031478882\n",
      "Epoch: 460 | Loss: 0.008932482451200485 | Test loss: 0.005023092031478882\n",
      "Epoch: 470 | Loss: 0.008932482451200485 | Test loss: 0.005023092031478882\n",
      "Epoch: 480 | Loss: 0.008932482451200485 | Test loss: 0.005023092031478882\n",
      "Epoch: 490 | Loss: 0.008932482451200485 | Test loss: 0.005023092031478882\n",
      "Epoch: 500 | Loss: 0.008932482451200485 | Test loss: 0.005023092031478882\n",
      "Epoch: 510 | Loss: 0.008932482451200485 | Test loss: 0.005023092031478882\n",
      "Epoch: 520 | Loss: 0.008932482451200485 | Test loss: 0.005023092031478882\n",
      "Epoch: 530 | Loss: 0.008932482451200485 | Test loss: 0.005023092031478882\n",
      "Epoch: 540 | Loss: 0.008932482451200485 | Test loss: 0.005023092031478882\n",
      "Epoch: 550 | Loss: 0.008932482451200485 | Test loss: 0.005023092031478882\n",
      "Epoch: 560 | Loss: 0.008932482451200485 | Test loss: 0.005023092031478882\n",
      "Epoch: 570 | Loss: 0.008932482451200485 | Test loss: 0.005023092031478882\n",
      "Epoch: 580 | Loss: 0.008932482451200485 | Test loss: 0.005023092031478882\n",
      "Epoch: 590 | Loss: 0.008932482451200485 | Test loss: 0.005023092031478882\n",
      "Epoch: 600 | Loss: 0.008932482451200485 | Test loss: 0.005023092031478882\n",
      "Epoch: 610 | Loss: 0.008932482451200485 | Test loss: 0.005023092031478882\n",
      "Epoch: 620 | Loss: 0.008932482451200485 | Test loss: 0.005023092031478882\n",
      "Epoch: 630 | Loss: 0.008932482451200485 | Test loss: 0.005023092031478882\n",
      "Epoch: 640 | Loss: 0.008932482451200485 | Test loss: 0.005023092031478882\n",
      "Epoch: 650 | Loss: 0.008932482451200485 | Test loss: 0.005023092031478882\n",
      "Epoch: 660 | Loss: 0.008932482451200485 | Test loss: 0.005023092031478882\n",
      "Epoch: 670 | Loss: 0.008932482451200485 | Test loss: 0.005023092031478882\n",
      "Epoch: 680 | Loss: 0.008932482451200485 | Test loss: 0.005023092031478882\n",
      "Epoch: 690 | Loss: 0.008932482451200485 | Test loss: 0.005023092031478882\n",
      "Epoch: 700 | Loss: 0.008932482451200485 | Test loss: 0.005023092031478882\n",
      "Epoch: 710 | Loss: 0.008932482451200485 | Test loss: 0.005023092031478882\n",
      "Epoch: 720 | Loss: 0.008932482451200485 | Test loss: 0.005023092031478882\n",
      "Epoch: 730 | Loss: 0.008932482451200485 | Test loss: 0.005023092031478882\n",
      "Epoch: 740 | Loss: 0.008932482451200485 | Test loss: 0.005023092031478882\n",
      "Epoch: 750 | Loss: 0.008932482451200485 | Test loss: 0.005023092031478882\n",
      "Epoch: 760 | Loss: 0.008932482451200485 | Test loss: 0.005023092031478882\n",
      "Epoch: 770 | Loss: 0.008932482451200485 | Test loss: 0.005023092031478882\n",
      "Epoch: 780 | Loss: 0.008932482451200485 | Test loss: 0.005023092031478882\n",
      "Epoch: 790 | Loss: 0.008932482451200485 | Test loss: 0.005023092031478882\n",
      "Epoch: 800 | Loss: 0.008932482451200485 | Test loss: 0.005023092031478882\n",
      "Epoch: 810 | Loss: 0.008932482451200485 | Test loss: 0.005023092031478882\n",
      "Epoch: 820 | Loss: 0.008932482451200485 | Test loss: 0.005023092031478882\n",
      "Epoch: 830 | Loss: 0.008932482451200485 | Test loss: 0.005023092031478882\n",
      "Epoch: 840 | Loss: 0.008932482451200485 | Test loss: 0.005023092031478882\n",
      "Epoch: 850 | Loss: 0.008932482451200485 | Test loss: 0.005023092031478882\n",
      "Epoch: 860 | Loss: 0.008932482451200485 | Test loss: 0.005023092031478882\n",
      "Epoch: 870 | Loss: 0.008932482451200485 | Test loss: 0.005023092031478882\n",
      "Epoch: 880 | Loss: 0.008932482451200485 | Test loss: 0.005023092031478882\n",
      "Epoch: 890 | Loss: 0.008932482451200485 | Test loss: 0.005023092031478882\n",
      "Epoch: 900 | Loss: 0.008932482451200485 | Test loss: 0.005023092031478882\n",
      "Epoch: 910 | Loss: 0.008932482451200485 | Test loss: 0.005023092031478882\n",
      "Epoch: 920 | Loss: 0.008932482451200485 | Test loss: 0.005023092031478882\n",
      "Epoch: 930 | Loss: 0.008932482451200485 | Test loss: 0.005023092031478882\n",
      "Epoch: 940 | Loss: 0.008932482451200485 | Test loss: 0.005023092031478882\n",
      "Epoch: 950 | Loss: 0.008932482451200485 | Test loss: 0.005023092031478882\n",
      "Epoch: 960 | Loss: 0.008932482451200485 | Test loss: 0.005023092031478882\n",
      "Epoch: 970 | Loss: 0.008932482451200485 | Test loss: 0.005023092031478882\n",
      "Epoch: 980 | Loss: 0.008932482451200485 | Test loss: 0.005023092031478882\n",
      "Epoch: 990 | Loss: 0.008932482451200485 | Test loss: 0.005023092031478882\n",
      "Epoch: 1000 | Loss: 0.008932482451200485 | Test loss: 0.005023092031478882\n",
      "Epoch: 1010 | Loss: 0.008932482451200485 | Test loss: 0.005023092031478882\n",
      "Epoch: 1020 | Loss: 0.008932482451200485 | Test loss: 0.005023092031478882\n",
      "Epoch: 1030 | Loss: 0.008932482451200485 | Test loss: 0.005023092031478882\n",
      "Epoch: 1040 | Loss: 0.008932482451200485 | Test loss: 0.005023092031478882\n",
      "Epoch: 1050 | Loss: 0.008932482451200485 | Test loss: 0.005023092031478882\n",
      "Epoch: 1060 | Loss: 0.008932482451200485 | Test loss: 0.005023092031478882\n",
      "Epoch: 1070 | Loss: 0.008932482451200485 | Test loss: 0.005023092031478882\n",
      "Epoch: 1080 | Loss: 0.008932482451200485 | Test loss: 0.005023092031478882\n",
      "Epoch: 1090 | Loss: 0.008932482451200485 | Test loss: 0.005023092031478882\n",
      "Epoch: 1100 | Loss: 0.008932482451200485 | Test loss: 0.005023092031478882\n",
      "Epoch: 1110 | Loss: 0.008932482451200485 | Test loss: 0.005023092031478882\n",
      "Epoch: 1120 | Loss: 0.008932482451200485 | Test loss: 0.005023092031478882\n",
      "Epoch: 1130 | Loss: 0.008932482451200485 | Test loss: 0.005023092031478882\n",
      "Epoch: 1140 | Loss: 0.008932482451200485 | Test loss: 0.005023092031478882\n",
      "Epoch: 1150 | Loss: 0.008932482451200485 | Test loss: 0.005023092031478882\n",
      "Epoch: 1160 | Loss: 0.008932482451200485 | Test loss: 0.005023092031478882\n",
      "Epoch: 1170 | Loss: 0.008932482451200485 | Test loss: 0.005023092031478882\n",
      "Epoch: 1180 | Loss: 0.008932482451200485 | Test loss: 0.005023092031478882\n",
      "Epoch: 1190 | Loss: 0.008932482451200485 | Test loss: 0.005023092031478882\n",
      "Epoch: 1200 | Loss: 0.008932482451200485 | Test loss: 0.005023092031478882\n",
      "Epoch: 1210 | Loss: 0.008932482451200485 | Test loss: 0.005023092031478882\n",
      "Epoch: 1220 | Loss: 0.008932482451200485 | Test loss: 0.005023092031478882\n",
      "Epoch: 1230 | Loss: 0.008932482451200485 | Test loss: 0.005023092031478882\n",
      "Epoch: 1240 | Loss: 0.008932482451200485 | Test loss: 0.005023092031478882\n",
      "Epoch: 1250 | Loss: 0.008932482451200485 | Test loss: 0.005023092031478882\n",
      "Epoch: 1260 | Loss: 0.008932482451200485 | Test loss: 0.005023092031478882\n",
      "Epoch: 1270 | Loss: 0.008932482451200485 | Test loss: 0.005023092031478882\n",
      "Epoch: 1280 | Loss: 0.008932482451200485 | Test loss: 0.005023092031478882\n",
      "Epoch: 1290 | Loss: 0.008932482451200485 | Test loss: 0.005023092031478882\n",
      "Epoch: 1300 | Loss: 0.008932482451200485 | Test loss: 0.005023092031478882\n",
      "Epoch: 1310 | Loss: 0.008932482451200485 | Test loss: 0.005023092031478882\n",
      "Epoch: 1320 | Loss: 0.008932482451200485 | Test loss: 0.005023092031478882\n",
      "Epoch: 1330 | Loss: 0.008932482451200485 | Test loss: 0.005023092031478882\n",
      "Epoch: 1340 | Loss: 0.008932482451200485 | Test loss: 0.005023092031478882\n",
      "Epoch: 1350 | Loss: 0.008932482451200485 | Test loss: 0.005023092031478882\n",
      "Epoch: 1360 | Loss: 0.008932482451200485 | Test loss: 0.005023092031478882\n",
      "Epoch: 1370 | Loss: 0.008932482451200485 | Test loss: 0.005023092031478882\n",
      "Epoch: 1380 | Loss: 0.008932482451200485 | Test loss: 0.005023092031478882\n",
      "Epoch: 1390 | Loss: 0.008932482451200485 | Test loss: 0.005023092031478882\n",
      "Epoch: 1400 | Loss: 0.008932482451200485 | Test loss: 0.005023092031478882\n",
      "Epoch: 1410 | Loss: 0.008932482451200485 | Test loss: 0.005023092031478882\n",
      "Epoch: 1420 | Loss: 0.008932482451200485 | Test loss: 0.005023092031478882\n",
      "Epoch: 1430 | Loss: 0.008932482451200485 | Test loss: 0.005023092031478882\n",
      "Epoch: 1440 | Loss: 0.008932482451200485 | Test loss: 0.005023092031478882\n",
      "Epoch: 1450 | Loss: 0.008932482451200485 | Test loss: 0.005023092031478882\n",
      "Epoch: 1460 | Loss: 0.008932482451200485 | Test loss: 0.005023092031478882\n",
      "Epoch: 1470 | Loss: 0.008932482451200485 | Test loss: 0.005023092031478882\n",
      "Epoch: 1480 | Loss: 0.008932482451200485 | Test loss: 0.005023092031478882\n",
      "Epoch: 1490 | Loss: 0.008932482451200485 | Test loss: 0.005023092031478882\n",
      "Epoch: 1500 | Loss: 0.008932482451200485 | Test loss: 0.005023092031478882\n",
      "Epoch: 1510 | Loss: 0.008932482451200485 | Test loss: 0.005023092031478882\n",
      "Epoch: 1520 | Loss: 0.008932482451200485 | Test loss: 0.005023092031478882\n",
      "Epoch: 1530 | Loss: 0.008932482451200485 | Test loss: 0.005023092031478882\n",
      "Epoch: 1540 | Loss: 0.008932482451200485 | Test loss: 0.005023092031478882\n",
      "Epoch: 1550 | Loss: 0.008932482451200485 | Test loss: 0.005023092031478882\n",
      "Epoch: 1560 | Loss: 0.008932482451200485 | Test loss: 0.005023092031478882\n",
      "Epoch: 1570 | Loss: 0.008932482451200485 | Test loss: 0.005023092031478882\n",
      "Epoch: 1580 | Loss: 0.008932482451200485 | Test loss: 0.005023092031478882\n",
      "Epoch: 1590 | Loss: 0.008932482451200485 | Test loss: 0.005023092031478882\n",
      "Epoch: 1600 | Loss: 0.008932482451200485 | Test loss: 0.005023092031478882\n",
      "Epoch: 1610 | Loss: 0.008932482451200485 | Test loss: 0.005023092031478882\n",
      "Epoch: 1620 | Loss: 0.008932482451200485 | Test loss: 0.005023092031478882\n",
      "Epoch: 1630 | Loss: 0.008932482451200485 | Test loss: 0.005023092031478882\n",
      "Epoch: 1640 | Loss: 0.008932482451200485 | Test loss: 0.005023092031478882\n",
      "Epoch: 1650 | Loss: 0.008932482451200485 | Test loss: 0.005023092031478882\n",
      "Epoch: 1660 | Loss: 0.008932482451200485 | Test loss: 0.005023092031478882\n",
      "Epoch: 1670 | Loss: 0.008932482451200485 | Test loss: 0.005023092031478882\n",
      "Epoch: 1680 | Loss: 0.008932482451200485 | Test loss: 0.005023092031478882\n",
      "Epoch: 1690 | Loss: 0.008932482451200485 | Test loss: 0.005023092031478882\n",
      "Epoch: 1700 | Loss: 0.008932482451200485 | Test loss: 0.005023092031478882\n",
      "Epoch: 1710 | Loss: 0.008932482451200485 | Test loss: 0.005023092031478882\n",
      "Epoch: 1720 | Loss: 0.008932482451200485 | Test loss: 0.005023092031478882\n",
      "Epoch: 1730 | Loss: 0.008932482451200485 | Test loss: 0.005023092031478882\n",
      "Epoch: 1740 | Loss: 0.008932482451200485 | Test loss: 0.005023092031478882\n"
     ]
    }
   ],
   "source": [
    "torch.manual_seed(42)\n",
    "\n",
    "# An epoch is one loop through the data... (this is a hyperparameter because we've set it ourselves)\n",
    "epochs = 1750\n",
    "\n",
    "# Track different values\n",
    "epoch_count = []\n",
    "loss_values = []\n",
    "test_loss_valuse = []\n",
    "### Training\n",
    "# 0. Loop through the data\n",
    "for epoch in range(epochs):\n",
    "    # Set the model to traininf mode\n",
    "    model_0.train() # train mode in PyTorch sets all parameters that require gradients to require gradients\n",
    "\n",
    "    # 1. Forward pass\n",
    "    y_pred = model_0(X_train)\n",
    "\n",
    "    # 2.Calculate the loss\n",
    "    loss = loss_fn(y_pred, y_train) \n",
    "\n",
    "    # 3. Optimizer zero grad\n",
    "    optimizer.zero_grad()\n",
    "\n",
    "    # 4. Perform backpropagation on the loss with respect to the parameters of the model\n",
    "    loss.backward()\n",
    "\n",
    "    # 5. Step the optimizer (perform gradient descent)\n",
    "    optimizer.step() # by default how the optimizer changes will accumulate through the loop so... we have to zero them above in step 3 for the next iteration of the loop\n",
    "\n",
    "    ### Testing\n",
    "    model_0.eval() # turns off different settings in the model not needed for evaluation/testing (dropout/ batching norm)\n",
    "    with torch.inference_mode(): # turns off gradient tracking & a couple more things behind the scenes\n",
    "        # 1. Do the forward pass\n",
    "        test_pred = model_0(X_test)\n",
    "\n",
    "        # 2. Calculate the loss\n",
    "        test_loss = loss_fn(test_pred, y_test)\n",
    "\n",
    "    if epoch % 10 == 0:\n",
    "        epoch_count.append(epoch)\n",
    "        loss_values.append(loss)\n",
    "        test_loss_valuse.append(test_loss)\n",
    "        print(f\"Epoch: {epoch} | Loss: {loss} | Test loss: {test_loss}\")        \n",
    "\n",
    "# Print out model state_dict()\n",
    "# print(f'Loss: {loss}')\n",
    "# print(model_0.state_dict())\n"
   ]
  },
  {
   "cell_type": "code",
   "execution_count": 213,
   "metadata": {},
   "outputs": [],
   "source": [
    "with torch.inference_mode():\n",
    "    y_preds_new = model_0(X_test)"
   ]
  },
  {
   "cell_type": "code",
   "execution_count": 214,
   "metadata": {},
   "outputs": [
    {
     "data": {
      "image/png": "[encoded data removed]",
      "text/plain": [
       "<Figure size 640x480 with 1 Axes>"
      ]
     },
     "metadata": {},
     "output_type": "display_data"
    }
   ],
   "source": [
    "# Plot the loss curves\n",
    "plt.plot(epoch_count, torch.tensor(loss_values).numpy(), label=\"Train loss\")\n",
    "plt.plot(epoch_count, test_loss_valuse, label=\"Test loss\")\n",
    "plt.title(\"Training and test loss curves\")\n",
    "plt.ylabel(\"Loss\")\n",
    "plt.xlabel(\"Epochs\")\n",
    "plt.legend();"
   ]
  },
  {
   "cell_type": "code",
   "execution_count": 215,
   "metadata": {},
   "outputs": [
    {
     "data": {
      "image/png": "[encoded data removed]",
      "text/plain": [
       "<Figure size 1000x700 with 1 Axes>"
      ]
     },
     "metadata": {},
     "output_type": "display_data"
    }
   ],
   "source": [
    "plot_predictions(predictions=y_preds_new)"
   ]
  },
  {
   "attachments": {},
   "cell_type": "markdown",
   "metadata": {},
   "source": [
    "## 4. Saving a model in PyTorch\n",
    "\n",
    "There are three main methods you should know about for saving and loading models in PyTorch.\n",
    "\n",
    "1. `torch.save()` - allows you save a PyTorch object in Python's pickle format\n",
    "2. `torch.load()` - allows you load a saved PyTorch object\n",
    "3. `torch.nn.Module.load_state_dict()` - this allows to load a model's saved state dictionary\n"
   ]
  },
  {
   "cell_type": "code",
   "execution_count": 216,
   "metadata": {},
   "outputs": [
    {
     "name": "stdout",
     "output_type": "stream",
     "text": [
      "Saving model to: models/01_pytorch_workflow_model_0.pth\n"
     ]
    }
   ],
   "source": [
    "# Saving our PyTorch model\n",
    "from pathlib import Path\n",
    "\n",
    "# 1. Create models directory\n",
    "MODEL_PATH = Path(\"models\")\n",
    "MODEL_PATH.mkdir(parents=True, exist_ok=True)\n",
    "\n",
    "# 2. Create model save path\n",
    "MODEL_NAME = \"01_pytorch_workflow_model_0.pth\"\n",
    "MODEL_SAVE_PATH = MODEL_PATH / MODEL_NAME\n",
    "\n",
    "# 3. Save the model state dict\n",
    "print(f'Saving model to: {MODEL_SAVE_PATH}')\n",
    "torch.save(obj=model_0.state_dict(),\n",
    "           f=MODEL_SAVE_PATH)"
   ]
  },
  {
   "attachments": {},
   "cell_type": "markdown",
   "metadata": {},
   "source": [
    "## 5. Loading a PyTorch model\n",
    "\n",
    "Since we save our model's `state_dict()` rather the entire model, we'll create a new instance of our model class and load the saved `state_dict()` into that."
   ]
  },
  {
   "cell_type": "code",
   "execution_count": 217,
   "metadata": {},
   "outputs": [
    {
     "data": {
      "text/plain": [
       "OrderedDict([('weights', tensor([0.6990])), ('bias', tensor([0.3093]))])"
      ]
     },
     "execution_count": 217,
     "metadata": {},
     "output_type": "execute_result"
    }
   ],
   "source": [
    "# To load in a saved state_dict we have to instantiate a new instance of our model class\n",
    "loaded_model_0 = LinearRegressionModel()\n",
    "\n",
    "# Load the saved state_dict of model_0 (this iwll update the new instance with updated parameters)\n",
    "loaded_model_0.load_state_dict(torch.load(f=MODEL_SAVE_PATH))\n",
    "loaded_model_0.state_dict()"
   ]
  },
  {
   "cell_type": "code",
   "execution_count": 218,
   "metadata": {},
   "outputs": [
    {
     "data": {
      "text/plain": [
       "tensor([[0.8685],\n",
       "        [0.8825],\n",
       "        [0.8965],\n",
       "        [0.9105],\n",
       "        [0.9245],\n",
       "        [0.9384],\n",
       "        [0.9524],\n",
       "        [0.9664],\n",
       "        [0.9804],\n",
       "        [0.9944]])"
      ]
     },
     "execution_count": 218,
     "metadata": {},
     "output_type": "execute_result"
    }
   ],
   "source": [
    "# Make some predictions with our loaded model\n",
    "loaded_model_0.eval()\n",
    "with torch.inference_mode():\n",
    "    loaded_model_preds = loaded_model_0(X_test)\n",
    "\n",
    "loaded_model_preds"
   ]
  },
  {
   "cell_type": "code",
   "execution_count": 219,
   "metadata": {},
   "outputs": [
    {
     "data": {
      "text/plain": [
       "tensor([[True],\n",
       "        [True],\n",
       "        [True],\n",
       "        [True],\n",
       "        [True],\n",
       "        [True],\n",
       "        [True],\n",
       "        [True],\n",
       "        [True],\n",
       "        [True]])"
      ]
     },
     "execution_count": 219,
     "metadata": {},
     "output_type": "execute_result"
    }
   ],
   "source": [
    "# Compare loaded model preds with original model preds\n",
    "y_preds_new == loaded_model_preds"
   ]
  },
  {
   "attachments": {},
   "cell_type": "markdown",
   "metadata": {},
   "source": [
    "## 6. Putting it all together\n"
   ]
  },
  {
   "cell_type": "code",
   "execution_count": 220,
   "metadata": {},
   "outputs": [
    {
     "data": {
      "text/plain": [
       "'1.12.1+cu116'"
      ]
     },
     "execution_count": 220,
     "metadata": {},
     "output_type": "execute_result"
    }
   ],
   "source": [
    "import torch\n",
    "from torch import nn\n",
    "import matplotlib.pyplot as plt\n",
    "\n",
    "torch.__version__"
   ]
  },
  {
   "attachments": {},
   "cell_type": "markdown",
   "metadata": {},
   "source": [
    "Create device-agnostic code.\n",
    "\n",
    "This means if we've got access to a GPU, our code will use it.\n",
    "\n",
    "If no GPU is available, the code will default to using CPU."
   ]
  },
  {
   "cell_type": "code",
   "execution_count": 221,
   "metadata": {},
   "outputs": [
    {
     "name": "stdout",
     "output_type": "stream",
     "text": [
      "Using device: cuda\n"
     ]
    }
   ],
   "source": [
    "# Setup device agnostic code\n",
    "device = 'cuda' if torch.cuda.is_available() else 'cpu'\n",
    "print(f'Using device: {device}')"
   ]
  },
  {
   "attachments": {},
   "cell_type": "markdown",
   "metadata": {},
   "source": [
    "### 6.1 Data"
   ]
  },
  {
   "cell_type": "code",
   "execution_count": 222,
   "metadata": {},
   "outputs": [
    {
     "data": {
      "text/plain": [
       "(tensor([[0.0000],\n",
       "         [0.0200],\n",
       "         [0.0400],\n",
       "         [0.0600],\n",
       "         [0.0800],\n",
       "         [0.1000],\n",
       "         [0.1200],\n",
       "         [0.1400],\n",
       "         [0.1600],\n",
       "         [0.1800]]),\n",
       " tensor([[0.2500],\n",
       "         [0.2646],\n",
       "         [0.2792],\n",
       "         [0.2938],\n",
       "         [0.3084],\n",
       "         [0.3230],\n",
       "         [0.3376],\n",
       "         [0.3522],\n",
       "         [0.3668],\n",
       "         [0.3814]]))"
      ]
     },
     "execution_count": 222,
     "metadata": {},
     "output_type": "execute_result"
    }
   ],
   "source": [
    "# Create some data using the linear regression formula of y = weight * X + bias\n",
    "weight = 0.730\n",
    "bias = 0.250\n",
    "\n",
    "# Create range values\n",
    "start = 0 \n",
    "end = 1\n",
    "step = 0.02\n",
    "\n",
    "# Create and X and y (features and labels)\n",
    "X = torch.arange(start, end, step).unsqueeze(dim=1) # without unsqueeze, errors will pop up\n",
    "y= weight * X + bias\n",
    "X[:10], y[:10]"
   ]
  },
  {
   "cell_type": "code",
   "execution_count": 223,
   "metadata": {},
   "outputs": [
    {
     "data": {
      "text/plain": [
       "(40, 40, 10, 10)"
      ]
     },
     "execution_count": 223,
     "metadata": {},
     "output_type": "execute_result"
    }
   ],
   "source": [
    "# Split data\n",
    "train_split = int(0.8 * len(X))\n",
    "X_train, y_train = X[:train_split], y[:train_split]\n",
    "X_test, y_test = X[train_split:], y[train_split:]\n",
    "len(X_train), len(y_train), len(X_test), len(y_test)"
   ]
  },
  {
   "cell_type": "code",
   "execution_count": 224,
   "metadata": {},
   "outputs": [
    {
     "data": {
      "image/png": "[encoded data removed]",
      "text/plain": [
       "<Figure size 1000x700 with 1 Axes>"
      ]
     },
     "metadata": {},
     "output_type": "display_data"
    }
   ],
   "source": [
    "# Plot the data\n",
    "plot_predictions(X_train, y_train, X_test, y_test)"
   ]
  },
  {
   "attachments": {},
   "cell_type": "markdown",
   "metadata": {},
   "source": [
    "### 6.2 Building a PyTorch linear model"
   ]
  },
  {
   "cell_type": "code",
   "execution_count": 225,
   "metadata": {},
   "outputs": [
    {
     "data": {
      "text/plain": [
       "(LinearRegressionModelV2(\n",
       "   (linear_layer): Linear(in_features=1, out_features=1, bias=True)\n",
       " ),\n",
       " OrderedDict([('linear_layer.weight', tensor([[0.7645]])),\n",
       "              ('linear_layer.bias', tensor([0.8300]))]))"
      ]
     },
     "execution_count": 225,
     "metadata": {},
     "output_type": "execute_result"
    }
   ],
   "source": [
    "# Create a linear model by subclassing nn.Module\n",
    "class LinearRegressionModelV2(nn.Module):\n",
    "    def __init__(self):\n",
    "        super().__init__()\n",
    "        # Use nn.Linear() for creating the model parameters / also called: linear transform, probing layer, fully connected layer, dense layer\n",
    "        self.linear_layer = nn.Linear(in_features=1,\n",
    "                                      out_features=1)\n",
    "        \n",
    "    def forward(self, x: torch.Tensor) -> torch.Tensor:\n",
    "        return self.linear_layer(x)\n",
    "    \n",
    "# Set the manual seed\n",
    "torch.manual_seed(42)\n",
    "model_1 = LinearRegressionModelV2()\n",
    "model_1, model_1.state_dict()"
   ]
  },
  {
   "cell_type": "code",
   "execution_count": 226,
   "metadata": {},
   "outputs": [
    {
     "data": {
      "text/plain": [
       "device(type='cpu')"
      ]
     },
     "execution_count": 226,
     "metadata": {},
     "output_type": "execute_result"
    }
   ],
   "source": [
    "# Check the model current device\n",
    "next(model_1.parameters()).device"
   ]
  },
  {
   "cell_type": "code",
   "execution_count": 227,
   "metadata": {},
   "outputs": [
    {
     "data": {
      "text/plain": [
       "device(type='cuda', index=0)"
      ]
     },
     "execution_count": 227,
     "metadata": {},
     "output_type": "execute_result"
    }
   ],
   "source": [
    "# Set the model to use the target device\n",
    "model_1.to(device)\n",
    "next(model_1.parameters()).device"
   ]
  },
  {
   "attachments": {},
   "cell_type": "markdown",
   "metadata": {},
   "source": [
    "### 6.3 Train model\n",
    "\n",
    "For training we need:\n",
    "* Loss function\n",
    "* Optimizer\n",
    "* Training loop\n",
    "* Testing loop\n"
   ]
  },
  {
   "cell_type": "code",
   "execution_count": 228,
   "metadata": {},
   "outputs": [],
   "source": [
    "# Setup the loss function\n",
    "loss_fn = nn.L1Loss() # same as MAE\n",
    "\n",
    "# Setup optimizer\n",
    "optimizer = torch.optim.SGD(params=model_1.parameters(),\n",
    "                            lr=0.01)\n"
   ]
  },
  {
   "cell_type": "code",
   "execution_count": 229,
   "metadata": {},
   "outputs": [
    {
     "name": "stdout",
     "output_type": "stream",
     "text": [
      "Epoch: 0 | Loss: 0.5934779644012451 | Test loss: 0.5972762107849121\n",
      "Epoch: 10 | Loss: 0.4782680571079254 | Test loss: 0.4625663757324219\n",
      "Epoch: 20 | Loss: 0.3630581796169281 | Test loss: 0.32785654067993164\n",
      "Epoch: 30 | Loss: 0.24784831702709198 | Test loss: 0.1931466907262802\n",
      "Epoch: 40 | Loss: 0.13263843953609467 | Test loss: 0.05843687057495117\n",
      "Epoch: 50 | Loss: 0.03759006783366203 | Test loss: 0.0526772141456604\n",
      "Epoch: 60 | Loss: 0.02948073484003544 | Test loss: 0.06554584205150604\n",
      "Epoch: 70 | Loss: 0.025985389947891235 | Test loss: 0.06002083048224449\n",
      "Epoch: 80 | Loss: 0.022546585649251938 | Test loss: 0.051748283207416534\n",
      "Epoch: 90 | Loss: 0.0191123578697443 | Test loss: 0.044162627309560776\n",
      "Epoch: 100 | Loss: 0.01568177342414856 | Test loss: 0.03589008003473282\n",
      "Epoch: 110 | Loss: 0.012242970988154411 | Test loss: 0.027617543935775757\n",
      "Epoch: 120 | Loss: 0.008810426108539104 | Test loss: 0.02003188244998455\n",
      "Epoch: 130 | Loss: 0.005378156900405884 | Test loss: 0.011759340763092041\n",
      "Epoch: 140 | Loss: 0.0019803165923804045 | Test loss: 0.004896241705864668\n",
      "Epoch: 150 | Loss: 0.0023170597851276398 | Test loss: 0.013964259997010231\n",
      "Epoch: 160 | Loss: 0.0023170597851276398 | Test loss: 0.013964259997010231\n",
      "Epoch: 170 | Loss: 0.0023170597851276398 | Test loss: 0.013964259997010231\n",
      "Epoch: 180 | Loss: 0.0023170597851276398 | Test loss: 0.013964259997010231\n",
      "Epoch: 190 | Loss: 0.0023170597851276398 | Test loss: 0.013964259997010231\n"
     ]
    }
   ],
   "source": [
    "# Train loop\n",
    "torch.manual_seed(42)\n",
    "\n",
    "epochs = 200\n",
    "\n",
    "# Put data on the target device (device agnostic code for data)\n",
    "X_train = X_train.to(device)\n",
    "y_train = y_train.to(device)\n",
    "X_test = X_test.to(device)\n",
    "y_test = y_test.to(device)\n",
    "\n",
    "for epoch in range(epochs):\n",
    "    model_1.train()\n",
    "\n",
    "    # 1. Forward pass\n",
    "    y_pred = model_1(X_train)\n",
    "\n",
    "    # 2. Calculate loss\n",
    "    loss = loss_fn(y_pred, y_train)\n",
    "\n",
    "    # 3. Optimizer zero_grad\n",
    "    optimizer.zero_grad()\n",
    "\n",
    "    # 4. Perform backpropagation\n",
    "    loss.backward()\n",
    "\n",
    "    # 5. Optimizer step\n",
    "    optimizer.step()\n",
    "\n",
    "    ### Testing\n",
    "    model_1.eval()\n",
    "    with torch.inference_mode():\n",
    "        test_pred = model_1(X_test)\n",
    "\n",
    "        test_loss = loss_fn(test_pred, y_test)\n",
    "\n",
    "    # Print out what's happening\n",
    "\n",
    "    if epoch % 10 == 0:\n",
    "        print(f\"Epoch: {epoch} | Loss: {loss} | Test loss: {test_loss}\")"
   ]
  },
  {
   "cell_type": "code",
   "execution_count": 230,
   "metadata": {},
   "outputs": [
    {
     "data": {
      "text/plain": [
       "OrderedDict([('linear_layer.weight', tensor([[0.7244]], device='cuda:0')),\n",
       "             ('linear_layer.bias', tensor([0.2545], device='cuda:0'))])"
      ]
     },
     "execution_count": 230,
     "metadata": {},
     "output_type": "execute_result"
    }
   ],
   "source": [
    "model_1.state_dict()"
   ]
  },
  {
   "attachments": {},
   "cell_type": "markdown",
   "metadata": {},
   "source": [
    "### 6.4 Making and evaluating predictions"
   ]
  },
  {
   "cell_type": "code",
   "execution_count": 231,
   "metadata": {},
   "outputs": [
    {
     "data": {
      "text/plain": [
       "tensor([[0.8340],\n",
       "        [0.8485],\n",
       "        [0.8630],\n",
       "        [0.8775],\n",
       "        [0.8920],\n",
       "        [0.9065],\n",
       "        [0.9209],\n",
       "        [0.9354],\n",
       "        [0.9499],\n",
       "        [0.9644]], device='cuda:0')"
      ]
     },
     "execution_count": 231,
     "metadata": {},
     "output_type": "execute_result"
    }
   ],
   "source": [
    "# Turn model into evaluation mode\n",
    "model_1.eval()\n",
    "\n",
    "# Make predictions on the test data\n",
    "with torch.inference_mode():\n",
    "    y_preds = model_1(X_test)\n",
    "y_preds"
   ]
  },
  {
   "cell_type": "code",
   "execution_count": 232,
   "metadata": {},
   "outputs": [
    {
     "data": {
      "image/png": "[encoded data removed]",
      "text/plain": [
       "<Figure size 1000x700 with 1 Axes>"
      ]
     },
     "metadata": {},
     "output_type": "display_data"
    }
   ],
   "source": [
    "# Check out our model prediction on plot\n",
    "plot_predictions(predictions=y_preds.cpu())"
   ]
  },
  {
   "attachments": {},
   "cell_type": "markdown",
   "metadata": {},
   "source": [
    "### 6.5 Saving & loading trained model\n"
   ]
  },
  {
   "cell_type": "code",
   "execution_count": 233,
   "metadata": {},
   "outputs": [
    {
     "name": "stdout",
     "output_type": "stream",
     "text": [
      "Saving model to: models/01_pytorch_workflow_model_1.pth\n"
     ]
    }
   ],
   "source": [
    "# Saving our PyTorch model\n",
    "from pathlib import Path\n",
    "\n",
    "MODEL_PATH = Path('models')\n",
    "MODEL_PATH.mkdir(parents=True, exist_ok=True)\n",
    "MODEL_NAME = '01_pytorch_workflow_model_1.pth'\n",
    "\n",
    "\n",
    "MODEL_SAVE_PATH = MODEL_PATH / MODEL_NAME\n",
    "print(f'Saving model to: {MODEL_SAVE_PATH}')\n",
    "torch.save(obj=model_1.state_dict(),\n",
    "           f=MODEL_SAVE_PATH)"
   ]
  },
  {
   "cell_type": "code",
   "execution_count": 234,
   "metadata": {},
   "outputs": [
    {
     "data": {
      "text/plain": [
       "OrderedDict([('linear_layer.weight', tensor([[0.7244]])),\n",
       "             ('linear_layer.bias', tensor([0.2545]))])"
      ]
     },
     "execution_count": 234,
     "metadata": {},
     "output_type": "execute_result"
    }
   ],
   "source": [
    "# Loading PyTorch model_0\n",
    "loaded_model_0 = LinearRegressionModelV2()\n",
    "loaded_model_0.load_state_dict(torch.load(f=MODEL_SAVE_PATH))\n",
    "loaded_model_0.state_dict()"
   ]
  },
  {
   "cell_type": "code",
   "execution_count": 235,
   "metadata": {},
   "outputs": [
    {
     "data": {
      "text/plain": [
       "tensor([[True],\n",
       "        [True],\n",
       "        [True],\n",
       "        [True],\n",
       "        [True],\n",
       "        [True],\n",
       "        [True],\n",
       "        [True],\n",
       "        [True],\n",
       "        [True]], device='cuda:0')"
      ]
     },
     "execution_count": 235,
     "metadata": {},
     "output_type": "execute_result"
    }
   ],
   "source": [
    "# Make some predictions with our loaded model\n",
    "loaded_model_0.to(device)\n",
    "loaded_model_0.eval()\n",
    "with torch.inference_mode():\n",
    "    loaded_model_preds = loaded_model_0(X_test)\n",
    "\n",
    "loaded_model_preds == y_preds"
   ]
  },
  {
   "attachments": {},
   "cell_type": "markdown",
   "metadata": {},
   "source": [
    "## Exercies & Extra-cirriculum\n"
   ]
  },
  {
   "attachments": {},
   "cell_type": "markdown",
   "metadata": {},
   "source": [
    "\n",
    "1. Create a straight line dataset using the linear regression formula (`weight * X + bias`).\n",
    "\n",
    "* Set `weight=0.3` and `bias=0.9` there should be at least 100 datapoints total.\n",
    "* Split the data into 80% training, 20% testing.\n",
    "* Plot the training and testing data so it becomes visual.\n"
   ]
  },
  {
   "cell_type": "code",
   "execution_count": 2,
   "metadata": {},
   "outputs": [],
   "source": [
    "device = 'cuda' if torch.cuda.is_available() else 'cpu'"
   ]
  },
  {
   "cell_type": "code",
   "execution_count": 5,
   "metadata": {},
   "outputs": [
    {
     "data": {
      "image/png": "[encoded data removed]",
      "text/plain": [
       "<Figure size 1000x700 with 1 Axes>"
      ]
     },
     "metadata": {},
     "output_type": "display_data"
    }
   ],
   "source": [
    "weight = 0.3\n",
    "bias = 0.9\n",
    "\n",
    "start = 0\n",
    "end = 1\n",
    "step = 0.01\n",
    "\n",
    "X = torch.arange(start, end, step).unsqueeze(dim=1)\n",
    "y = weight * X + bias\n",
    "\n",
    "train_split = int(0.8 * len(X))\n",
    "X_train, y_train = X[:train_split], y[:train_split]\n",
    "X_test, y_test = X[train_split:], y[train_split:]\n",
    "\n",
    "len(X_train), len(y_train), len(X_test), len(y_test)\n",
    "\n",
    "plot_predictions(X_train, y_train, X_test, y_test)\n"
   ]
  },
  {
   "attachments": {},
   "cell_type": "markdown",
   "metadata": {},
   "source": [
    "\n",
    "2. Build a PyTorch model by subclassing nn.Module.\n",
    "\n",
    "* Inside should be a randomly initialized nn.Parameter() with requires_grad=True, one for weights and one for bias.\n",
    "* Implement the forward() method to compute the linear regression function you used to create the dataset in 1.\n",
    "* Once you've constructed the model, make an instance of it and check its state_dict().\n",
    "* Note: If you'd like to use nn.Linear() instead of nn.Parameter() you can.\n",
    "\n",
    "\n",
    "3. Create a loss function and optimizer using nn.L1Loss() and torch.optim.SGD(params, lr) respectively.\n",
    "\n",
    "* Set the learning rate of the optimizer to be 0.01 and the parameters to optimize should be the model parameters from the model you created in 2.\n",
    "* Write a training loop to perform the appropriate training steps for 300 epochs.\n",
    "* The training loop should test the model on the test dataset every 20 epochs.\n",
    "\n",
    "\n",
    "4. Make predictions with the trained model on the test data.\n",
    "\n",
    "* Visualize these predictions against the original training and testing data (note: you may need to make sure the predictions are not on the GPU if you want to use non-CUDA-enabled libraries such as matplotlib to plot).\n",
    "\n",
    "5. Save your trained model's state_dict() to file.\n",
    "\n",
    "* Create a new instance of your model class you made in 2. and load in the state_dict() you just saved to it.\n",
    "Perform predictions on your test data with the loaded model and confirm they match the original model predictions from 4.\n",
    "\n"
   ]
  },
  {
   "cell_type": "code",
   "execution_count": 6,
   "metadata": {},
   "outputs": [],
   "source": [
    "class LinearRegressionModelV3(nn.Module):\n",
    "    def __init__(self):\n",
    "        super().__init__()\n",
    "        \n",
    "        self.weight = nn.Parameter(data=torch.rand(1,\n",
    "                                              requires_grad=True,\n",
    "                                              dtype=torch.float))\n",
    "        \n",
    "        self.bias = nn.Parameter(data=torch.rand(1,\n",
    "                                            requires_grad=True,\n",
    "                                            dtype=torch.float))\n",
    "        \n",
    "    def forward(self, x):\n",
    "        return self.weight * x + self.bias"
   ]
  },
  {
   "cell_type": "code",
   "execution_count": 7,
   "metadata": {},
   "outputs": [
    {
     "name": "stdout",
     "output_type": "stream",
     "text": [
      "OrderedDict([('weight', tensor([0.1117])), ('bias', tensor([0.8158]))])\n",
      "[Parameter containing:\n",
      "tensor([0.1117], device='cuda:0', requires_grad=True), Parameter containing:\n",
      "tensor([0.8158], device='cuda:0', requires_grad=True)]\n"
     ]
    }
   ],
   "source": [
    "torch.manual_seed(100)\n",
    "model_2 = LinearRegressionModelV3()\n",
    "print(model_2.state_dict())\n",
    "model_2.to(device)\n",
    "print(list(model_2.parameters()))"
   ]
  },
  {
   "cell_type": "code",
   "execution_count": 8,
   "metadata": {},
   "outputs": [],
   "source": [
    "loss_fn = nn.L1Loss()\n",
    "\n",
    "optimizer = torch.optim.SGD(params=model_2.parameters(),\n",
    "                            lr=0.01)"
   ]
  },
  {
   "cell_type": "code",
   "execution_count": 9,
   "metadata": {},
   "outputs": [
    {
     "name": "stdout",
     "output_type": "stream",
     "text": [
      "Epoch: 0 | Loss: 0.1585494726896286 | Test Loss: 0.23918209969997406\n",
      "Epoch: 20 | Loss: 0.02386314608156681 | Test Loss: 0.05840444564819336\n",
      "Epoch: 40 | Loss: 0.01685260608792305 | Test Loss: 0.03899228200316429\n",
      "Epoch: 60 | Loss: 0.010001415386795998 | Test Loss: 0.022664731368422508\n",
      "Epoch: 80 | Loss: 0.0031492242123931646 | Test Loss: 0.006681126542389393\n",
      "Epoch: 100 | Loss: 0.0024652087595313787 | Test Loss: 0.013446569442749023\n",
      "Epoch: 120 | Loss: 0.0024652087595313787 | Test Loss: 0.013446569442749023\n",
      "Epoch: 140 | Loss: 0.0024652087595313787 | Test Loss: 0.013446569442749023\n",
      "Epoch: 160 | Loss: 0.0024652087595313787 | Test Loss: 0.013446569442749023\n",
      "Epoch: 180 | Loss: 0.0024652087595313787 | Test Loss: 0.013446569442749023\n",
      "Epoch: 200 | Loss: 0.0024652087595313787 | Test Loss: 0.013446569442749023\n",
      "Epoch: 220 | Loss: 0.0024652087595313787 | Test Loss: 0.013446569442749023\n",
      "Epoch: 240 | Loss: 0.0024652087595313787 | Test Loss: 0.013446569442749023\n",
      "Epoch: 260 | Loss: 0.0024652087595313787 | Test Loss: 0.013446569442749023\n",
      "Epoch: 280 | Loss: 0.0024652087595313787 | Test Loss: 0.013446569442749023\n"
     ]
    }
   ],
   "source": [
    "epochs = 300\n",
    "\n",
    "# Put data to GPU\n",
    "X_train = X_train.to(device)\n",
    "X_test = X_test.to(device)\n",
    "y_train = y_train.to(device)\n",
    "y_test = y_test.to(device)\n",
    "\n",
    "for epoch in range(epochs):\n",
    "    model_2.train()\n",
    "\n",
    "    # 1. Forward pass\n",
    "    y_pred = model_2(X_train)\n",
    "\n",
    "    # 2. Calculate loss\n",
    "    loss = loss_fn(y_pred, y_train)\n",
    "\n",
    "    # 3. Optimizer zero_grad\n",
    "    optimizer.zero_grad()\n",
    "\n",
    "    # 4. Perform backpropagation\n",
    "    loss.backward()\n",
    "\n",
    "    # 5. Optimizer step\n",
    "    optimizer.step()\n",
    "\n",
    "    ### TESTING\n",
    "    if epoch % 20 == 0:\n",
    "        model_2.eval()\n",
    "        with torch.inference_mode():\n",
    "            test_pred = model_2(X_test)\n",
    "            test_loss = loss_fn(test_pred, y_test)\n",
    "            print(f'Epoch: {epoch} | Loss: {loss} | Test Loss: {test_loss}')"
   ]
  },
  {
   "cell_type": "code",
   "execution_count": 10,
   "metadata": {},
   "outputs": [
    {
     "data": {
      "image/png": "[encoded data removed]",
      "text/plain": [
       "<Figure size 1000x700 with 1 Axes>"
      ]
     },
     "metadata": {},
     "output_type": "display_data"
    }
   ],
   "source": [
    "model_2.eval()\n",
    "\n",
    "with torch.inference_mode():\n",
    "    y_preds = model_2(X_test)\n",
    "\n",
    "plot_predictions(predictions=y_preds.cpu())"
   ]
  },
  {
   "cell_type": "code",
   "execution_count": 11,
   "metadata": {},
   "outputs": [
    {
     "name": "stdout",
     "output_type": "stream",
     "text": [
      "Saving model to models/01_pytorch_workflow_model_2.pth\n"
     ]
    }
   ],
   "source": [
    "from pathlib import Path\n",
    "# Create folder \n",
    "MODEL_PATH = Path('models')\n",
    "MODEL_PATH.mkdir(parents=True, exist_ok=True)\n",
    "# Create model name\n",
    "MODEL_NAME = '01_pytorch_workflow_model_2.pth'\n",
    "MODEL_SAVE_PATH = MODEL_PATH / MODEL_NAME\n",
    "# Save model\n",
    "print(f'Saving model to {MODEL_SAVE_PATH}')\n",
    "torch.save(obj=model_2.state_dict(),\n",
    "           f=MODEL_SAVE_PATH)\n"
   ]
  },
  {
   "cell_type": "code",
   "execution_count": 12,
   "metadata": {},
   "outputs": [
    {
     "data": {
      "text/plain": [
       "LinearRegressionModelV3()"
      ]
     },
     "execution_count": 12,
     "metadata": {},
     "output_type": "execute_result"
    }
   ],
   "source": [
    "loaded_model_2 = LinearRegressionModelV3()\n",
    "loaded_model_2.load_state_dict(torch.load(f=MODEL_SAVE_PATH))\n",
    "loaded_model_2.to(device)"
   ]
  },
  {
   "cell_type": "code",
   "execution_count": 13,
   "metadata": {},
   "outputs": [
    {
     "data": {
      "text/plain": [
       "tensor([[True],\n",
       "        [True],\n",
       "        [True],\n",
       "        [True],\n",
       "        [True],\n",
       "        [True],\n",
       "        [True],\n",
       "        [True],\n",
       "        [True],\n",
       "        [True],\n",
       "        [True],\n",
       "        [True],\n",
       "        [True],\n",
       "        [True],\n",
       "        [True],\n",
       "        [True],\n",
       "        [True],\n",
       "        [True],\n",
       "        [True],\n",
       "        [True]], device='cuda:0')"
      ]
     },
     "execution_count": 13,
     "metadata": {},
     "output_type": "execute_result"
    }
   ],
   "source": [
    "y_preds_new = loaded_model_2(X_test)\n",
    "y_preds == y_preds_new"
   ]
  },
  {
   "cell_type": "code",
   "execution_count": 14,
   "metadata": {},
   "outputs": [],
   "source": [
    "class LinearRegressionModelV4(nn.Module):\n",
    "    def __init__(self) -> None:\n",
    "        super().__init__()\n",
    "\n",
    "        self.linear_layer = nn.Linear(in_features=1,\n",
    "                                      out_features=1)\n",
    "    \n",
    "    def forward(self, x: torch.Tensor) -> torch.Tensor:\n",
    "        return self.linear_layer(x)"
   ]
  },
  {
   "cell_type": "code",
   "execution_count": 15,
   "metadata": {},
   "outputs": [
    {
     "name": "stdout",
     "output_type": "stream",
     "text": [
      "OrderedDict([('linear_layer.weight', tensor([[-0.7767]])), ('linear_layer.bias', tensor([0.6317]))])\n"
     ]
    },
    {
     "data": {
      "text/plain": [
       "LinearRegressionModelV4(\n",
       "  (linear_layer): Linear(in_features=1, out_features=1, bias=True)\n",
       ")"
      ]
     },
     "execution_count": 15,
     "metadata": {},
     "output_type": "execute_result"
    }
   ],
   "source": [
    "torch.manual_seed(100)\n",
    "model_3 = LinearRegressionModelV4()\n",
    "print(model_3.state_dict())\n",
    "model_3.to(device)"
   ]
  },
  {
   "cell_type": "code",
   "execution_count": 16,
   "metadata": {},
   "outputs": [],
   "source": [
    "loss_fn = nn.L1Loss()\n",
    "\n",
    "optimizer = torch.optim.SGD(params=model_3.parameters(),\n",
    "                            lr=0.01)"
   ]
  },
  {
   "cell_type": "code",
   "execution_count": 21,
   "metadata": {},
   "outputs": [
    {
     "name": "stdout",
     "output_type": "stream",
     "text": [
      "Epoch: 0 | Loss: 0.002246566116809845 | Test loss: 0.008510780520737171\n",
      "Epoch: 20 | Loss: 0.002246566116809845 | Test loss: 0.008510780520737171\n",
      "Epoch: 40 | Loss: 0.002246566116809845 | Test loss: 0.008510780520737171\n",
      "Epoch: 60 | Loss: 0.002246566116809845 | Test loss: 0.008510780520737171\n",
      "Epoch: 80 | Loss: 0.002246566116809845 | Test loss: 0.008510780520737171\n",
      "Epoch: 100 | Loss: 0.002246566116809845 | Test loss: 0.008510780520737171\n",
      "Epoch: 120 | Loss: 0.002246566116809845 | Test loss: 0.008510780520737171\n",
      "Epoch: 140 | Loss: 0.002246566116809845 | Test loss: 0.008510780520737171\n",
      "Epoch: 160 | Loss: 0.002246566116809845 | Test loss: 0.008510780520737171\n",
      "Epoch: 180 | Loss: 0.002246566116809845 | Test loss: 0.008510780520737171\n",
      "Epoch: 200 | Loss: 0.002246566116809845 | Test loss: 0.008510780520737171\n",
      "Epoch: 220 | Loss: 0.002246566116809845 | Test loss: 0.008510780520737171\n",
      "Epoch: 240 | Loss: 0.002246566116809845 | Test loss: 0.008510780520737171\n",
      "Epoch: 260 | Loss: 0.002246566116809845 | Test loss: 0.008510780520737171\n",
      "Epoch: 280 | Loss: 0.002246566116809845 | Test loss: 0.008510780520737171\n"
     ]
    }
   ],
   "source": [
    "epochs = 300\n",
    "\n",
    "for epoch in range(epochs):\n",
    "    model_3.train()\n",
    "\n",
    "    y_pred = model_3(X_train)\n",
    "\n",
    "    loss = loss_fn(y_pred, y_train)\n",
    "\n",
    "    optimizer.zero_grad()\n",
    "\n",
    "    loss.backward()\n",
    "\n",
    "    optimizer.step()\n",
    "\n",
    "    if epoch % 20 == 0:\n",
    "        model_3.eval()\n",
    "        with torch.inference_mode():\n",
    "            test_pred = model_3(X_test)\n",
    "            test_loss = loss_fn(test_pred, y_test)\n",
    "            print(f\"Epoch: {epoch} | Loss: {loss} | Test loss: {test_loss}\")"
   ]
  },
  {
   "cell_type": "code",
   "execution_count": 22,
   "metadata": {},
   "outputs": [
    {
     "data": {
      "image/png": "[encoded data removed]",
      "text/plain": [
       "<Figure size 1000x700 with 1 Axes>"
      ]
     },
     "metadata": {},
     "output_type": "display_data"
    }
   ],
   "source": [
    "model_3.eval()\n",
    "\n",
    "with torch.inference_mode():\n",
    "    y_preds = model_3(X_test)\n",
    "\n",
    "plot_predictions(predictions=y_preds.cpu())"
   ]
  },
  {
   "cell_type": "code",
   "execution_count": 23,
   "metadata": {},
   "outputs": [
    {
     "name": "stdout",
     "output_type": "stream",
     "text": [
      "Saving model to models/01_pytorch_workflow_model_3.pth\n"
     ]
    }
   ],
   "source": [
    "from pathlib import Path\n",
    "# Create a folder\n",
    "MODEL_PATH = Path('models')\n",
    "MODEL_PATH.mkdir(parents=True, exist_ok=True)\n",
    "# Create a model name\n",
    "MODEL_NAME = '01_pytorch_workflow_model_3.pth'\n",
    "MODEL_SAVE_PATH = MODEL_PATH / MODEL_NAME\n",
    "# Save model\n",
    "print(f'Saving model to {MODEL_SAVE_PATH}')\n",
    "torch.save(obj=model_3.state_dict(),\n",
    "           f=MODEL_SAVE_PATH)"
   ]
  },
  {
   "cell_type": "code",
   "execution_count": 24,
   "metadata": {},
   "outputs": [
    {
     "data": {
      "text/plain": [
       "LinearRegressionModelV4(\n",
       "  (linear_layer): Linear(in_features=1, out_features=1, bias=True)\n",
       ")"
      ]
     },
     "execution_count": 24,
     "metadata": {},
     "output_type": "execute_result"
    }
   ],
   "source": [
    "loaded_model_3 = LinearRegressionModelV4()\n",
    "loaded_model_3.load_state_dict(torch.load(f=MODEL_SAVE_PATH))\n",
    "loaded_model_3.to(device)"
   ]
  },
  {
   "cell_type": "code",
   "execution_count": 25,
   "metadata": {},
   "outputs": [
    {
     "data": {
      "text/plain": [
       "tensor([[True],\n",
       "        [True],\n",
       "        [True],\n",
       "        [True],\n",
       "        [True],\n",
       "        [True],\n",
       "        [True],\n",
       "        [True],\n",
       "        [True],\n",
       "        [True],\n",
       "        [True],\n",
       "        [True],\n",
       "        [True],\n",
       "        [True],\n",
       "        [True],\n",
       "        [True],\n",
       "        [True],\n",
       "        [True],\n",
       "        [True],\n",
       "        [True]], device='cuda:0')"
      ]
     },
     "execution_count": 25,
     "metadata": {},
     "output_type": "execute_result"
    }
   ],
   "source": [
    "y_preds_new = loaded_model_3(X_test)\n",
    "y_preds == y_preds_new"
   ]
  }
 ],
 "metadata": {
  "kernelspec": {
   "display_name": "Python 3",
   "language": "python",
   "name": "python3"
  },
  "language_info": {
   "codemirror_mode": {
    "name": "ipython",
    "version": 3
   },
   "file_extension": ".py",
   "mimetype": "text/x-python",
   "name": "python",
   "nbconvert_exporter": "python",
   "pygments_lexer": "ipython3",
   "version": "3.10.6"
  },
  "orig_nbformat": 4
 },
 "nbformat": 4,
 "nbformat_minor": 2
}
